{
 "cells": [
  {
   "cell_type": "markdown",
   "metadata": {
    "toc": true
   },
   "source": [
    "<h1>Table of Contents<span class=\"tocSkip\"></span></h1>\n",
    "<div class=\"toc\"><ul class=\"toc-item\"><li><span><a href=\"#Load-libraries\" data-toc-modified-id=\"Load-libraries-1\"><span class=\"toc-item-num\">1&nbsp;&nbsp;</span>Load libraries</a></span></li><li><span><a href=\"#Degree-distribution\" data-toc-modified-id=\"Degree-distribution-2\"><span class=\"toc-item-num\">2&nbsp;&nbsp;</span>Degree distribution</a></span></li><li><span><a href=\"#Dijkstra's-algorithm\" data-toc-modified-id=\"Dijkstra's-algorithm-3\"><span class=\"toc-item-num\">3&nbsp;&nbsp;</span>Dijkstra's algorithm</a></span></li></ul></div>"
   ]
  },
  {
   "cell_type": "markdown",
   "metadata": {},
   "source": [
    "# Load libraries"
   ]
  },
  {
   "cell_type": "code",
   "execution_count": 1,
   "metadata": {
    "ExecuteTime": {
     "end_time": "2023-09-18T18:26:06.144010Z",
     "start_time": "2023-09-18T18:26:04.914970Z"
    }
   },
   "outputs": [],
   "source": [
    "import numpy as np\n",
    "import networkx as nx\n",
    "import matplotlib.pyplot as plt\n",
    "import random\n",
    "%matplotlib inline"
   ]
  },
  {
   "cell_type": "markdown",
   "metadata": {},
   "source": [
    "# Degree distribution"
   ]
  },
  {
   "cell_type": "code",
   "execution_count": 2,
   "metadata": {
    "ExecuteTime": {
     "end_time": "2023-09-18T18:26:06.147734Z",
     "start_time": "2023-09-18T18:26:06.145769Z"
    }
   },
   "outputs": [],
   "source": [
    "# Generate random graph\n",
    "G = nx.gnp_random_graph(6, 0.4, seed=10374196)"
   ]
  },
  {
   "cell_type": "code",
   "execution_count": 3,
   "metadata": {
    "ExecuteTime": {
     "end_time": "2023-09-18T18:26:06.154675Z",
     "start_time": "2023-09-18T18:26:06.152200Z"
    }
   },
   "outputs": [],
   "source": [
    "# Define new function that plots the degree distribution\n",
    "def plot_degree_dist(G):\n",
    "    degrees = [G.degree(n) for n in G.nodes()]\n",
    "    plt.hist(degrees)\n",
    "    plt.show()"
   ]
  },
  {
   "cell_type": "code",
   "execution_count": 4,
   "metadata": {
    "ExecuteTime": {
     "end_time": "2023-09-18T18:26:06.289714Z",
     "start_time": "2023-09-18T18:26:06.156246Z"
    }
   },
   "outputs": [
    {
     "data": {
      "image/png": "[encoded data removed]",
      "text/plain": [
       "<Figure size 432x288 with 1 Axes>"
      ]
     },
     "metadata": {
      "needs_background": "light"
     },
     "output_type": "display_data"
    }
   ],
   "source": [
    "plot_degree_dist(G)"
   ]
  },
  {
   "cell_type": "markdown",
   "metadata": {},
   "source": [
    "# Dijkstra's algorithm"
   ]
  },
  {
   "cell_type": "code",
   "execution_count": 5,
   "metadata": {
    "ExecuteTime": {
     "end_time": "2023-09-18T18:26:06.308879Z",
     "start_time": "2023-09-18T18:26:06.295682Z"
    },
    "scrolled": true
   },
   "outputs": [
    {
     "name": "stdout",
     "output_type": "stream",
     "text": [
      "Vertex \t Distance from Source\n",
      "0 \t\t 0\n",
      "1 \t\t 4\n",
      "2 \t\t 12\n",
      "3 \t\t 19\n",
      "4 \t\t 21\n",
      "5 \t\t 11\n",
      "6 \t\t 9\n",
      "7 \t\t 8\n",
      "8 \t\t 14\n"
     ]
    }
   ],
   "source": [
    "# Python program for Dijkstra's single\n",
    "# source shortest path algorithm. The program is\n",
    "# for adjacency matrix representation of the graph\n",
    "class Graph():\n",
    "\n",
    "    def __init__(self, vertices):\n",
    "        self.V = vertices\n",
    "        self.graph = [[0 for column in range(vertices)] for row in range(vertices)]\n",
    "\n",
    "    def printSolution(self, dist):\n",
    "        print(\"Vertex \\t Distance from Source\")\n",
    "        for node in range(self.V):\n",
    "            print(node, \"\\t\\t\", dist[node])\n",
    "\n",
    "    # A utility function to find the vertex with\n",
    "    # minimum distance value, from the set of vertices\n",
    "    # not yet included in shortest path tree\n",
    "    def minDistance(self, dist, sptSet):\n",
    "\n",
    "        # Initialize minimum distance for next node\n",
    "        min_dist = 1e7\n",
    "\n",
    "        # Search not nearest vertex not in the\n",
    "        # shortest path tree\n",
    "        for v in range(self.V):\n",
    "            if dist[v] < min_dist and sptSet[v] == False:\n",
    "                min_dist = dist[v]\n",
    "                min_index = v\n",
    "\n",
    "        return min_index\n",
    "\n",
    "    # Function that implements Dijkstra's single source\n",
    "    # shortest path algorithm for a graph represented\n",
    "    # using adjacency matrix representation\n",
    "    def dijkstra(self, src):\n",
    "\n",
    "        dist = [1e7] * self.V\n",
    "        dist[src] = 0\n",
    "        sptSet = [False] * self.V\n",
    "\n",
    "        for cout in range(self.V):\n",
    "\n",
    "            # Pick the minimum distance vertex from\n",
    "            # the set of vertices not yet processed.\n",
    "            # u is always equal to src in first iteration\n",
    "            u = self.minDistance(dist, sptSet)\n",
    "\n",
    "            # Put the minimum distance vertex in the\n",
    "            # shortest path tree\n",
    "            sptSet[u] = True\n",
    "\n",
    "            # Update dist value of the adjacent vertices\n",
    "            # of the picked vertex only if the current\n",
    "            # distance is greater than new distance and\n",
    "            # the vertex in not in the shortest path tree\n",
    "            for v in range(self.V):\n",
    "                if (self.graph[u][v] > 0 and\n",
    "                sptSet[v] == False and\n",
    "                dist[v] > dist[u] + self.graph[u][v]):\n",
    "                    dist[v] = dist[u] + self.graph[u][v]\n",
    "\n",
    "        self.printSolution(dist)\n",
    "\n",
    "# Driver program\n",
    "g = Graph(9)\n",
    "g.graph = [[0,  4, 0,  0,  0,  0, 0,  8, 0],\n",
    "           [4,  0, 8,  0,  0,  0, 0, 11, 0],\n",
    "           [0,  8, 0,  7,  0,  4, 0,  0, 2],\n",
    "           [0,  0, 7,  0,  9, 14, 0,  0, 0],\n",
    "           [0,  0, 0,  9,  0, 10, 0,  0, 0],\n",
    "           [0,  0, 4, 14, 10,  0, 2,  0, 0],\n",
    "           [0,  0, 0,  0,  0,  2, 0,  1, 6],\n",
    "           [8, 11, 0,  0,  0,  0, 1,  0, 7],\n",
    "           [0,  0, 2,  0,  0,  0, 6,  7, 0]\n",
    "        ]\n",
    "\n",
    "g.dijkstra(0)\n",
    "\n",
    "# This code is contributed by Divyanshu Mehta\n"
   ]
  },
  {
   "cell_type": "markdown",
   "metadata": {},
   "source": [
    "Note that this example graph is symmetric"
   ]
  },
  {
   "cell_type": "code",
   "execution_count": 6,
   "metadata": {
    "ExecuteTime": {
     "end_time": "2023-09-18T18:26:06.316193Z",
     "start_time": "2023-09-18T18:26:06.311023Z"
    }
   },
   "outputs": [
    {
     "data": {
      "text/plain": [
       "matrix([[ True,  True,  True,  True,  True,  True,  True,  True,  True],\n",
       "        [ True,  True,  True,  True,  True,  True,  True,  True,  True],\n",
       "        [ True,  True,  True,  True,  True,  True,  True,  True,  True],\n",
       "        [ True,  True,  True,  True,  True,  True,  True,  True,  True],\n",
       "        [ True,  True,  True,  True,  True,  True,  True,  True,  True],\n",
       "        [ True,  True,  True,  True,  True,  True,  True,  True,  True],\n",
       "        [ True,  True,  True,  True,  True,  True,  True,  True,  True],\n",
       "        [ True,  True,  True,  True,  True,  True,  True,  True,  True],\n",
       "        [ True,  True,  True,  True,  True,  True,  True,  True,  True]])"
      ]
     },
     "execution_count": 6,
     "metadata": {},
     "output_type": "execute_result"
    }
   ],
   "source": [
    "np.matrix(g.graph) == np.matrix(g.graph).T"
   ]
  },
  {
   "cell_type": "code",
   "execution_count": 12,
   "metadata": {
    "ExecuteTime": {
     "end_time": "2023-09-25T19:02:53.678166Z",
     "start_time": "2023-09-25T19:02:53.356433Z"
    }
   },
   "outputs": [
    {
     "name": "stdout",
     "output_type": "stream",
     "text": [
      "0 1 {'weight': 4}\n"
     ]
    },
    {
     "data": {
      "text/plain": [
       "{(0, 1): Text(-0.2259612329705357, 0.7637153984736467, '4'),\n",
       " (0, 7): Text(-0.42448177209756965, 0.7807876002210716, '8'),\n",
       " (1, 2): Text(0.08687929909047948, 0.26607545758492746, '8'),\n",
       " (1, 7): Text(-0.2563811788229773, 0.5445029986947184, '11'),\n",
       " (2, 3): Text(0.42621712552314805, -0.20712902018824345, '7'),\n",
       " (2, 5): Text(0.30406675279151435, -0.29518417534314034, '4'),\n",
       " (2, 8): Text(-0.16747907559315198, 0.04237005308742966, '2'),\n",
       " (3, 4): Text(0.6799635245891231, -0.6076657637460662, '9'),\n",
       " (3, 5): Text(0.49866464043776015, -0.5070333137539453, '14'),\n",
       " (4, 5): Text(0.5578131518574894, -0.695720918900963, '10'),\n",
       " (5, 6): Text(-0.05907235705042971, -0.47920728803608237, '2'),\n",
       " (6, 7): Text(-0.4747803498784986, 0.0991245466394105, '1'),\n",
       " (6, 8): Text(-0.530618185435096, -0.14165305960551236, '6'),\n",
       " (7, 8): Text(-0.5107395535066087, 0.32079759419722065, '7')}"
      ]
     },
     "execution_count": 12,
     "metadata": {},
     "output_type": "execute_result"
    },
    {
     "data": {
      "image/png": "[encoded data removed]",
      "text/plain": [
       "<Figure size 432x288 with 1 Axes>"
      ]
     },
     "metadata": {},
     "output_type": "display_data"
    }
   ],
   "source": [
    "# Create graph from adjacency matrix\n",
    "G = nx.from_numpy_array(np.matrix(g.graph))\n",
    "\n",
    "# Check edge attributes\n",
    "for u,v,data in G.edges.data():\n",
    "    print(u, v, data)\n",
    "    break\n",
    "\n",
    "# Plot graph\n",
    "pos = nx.spring_layout(G, seed=7)  # positions for all nodes - seed for reproducibility\n",
    "# Get edge labels\n",
    "edge_labels = nx.get_edge_attributes(G, \"weight\")\n",
    "\n",
    "# Parse paramaters though a dictionary\n",
    "options = {\n",
    "    \"font_size\": 15,\n",
    "    \"node_size\": 500,\n",
    "    \"node_color\": \"white\",\n",
    "    \"edgecolors\": \"black\",\n",
    "    \"linewidths\": 1,\n",
    "    \"width\": 1,\n",
    "}\n",
    "nx.draw(G, pos, with_labels=True, **options)\n",
    "nx.draw_networkx_edge_labels(G, pos, edge_labels)"
   ]
  },
  {
   "cell_type": "code",
   "execution_count": null,
   "metadata": {},
   "outputs": [],
   "source": []
  }
 ],
 "metadata": {
  "kernelspec": {
   "display_name": "wb1",
   "language": "python",
   "name": "wb1"
  },
  "language_info": {
   "codemirror_mode": {
    "name": "ipython",
    "version": 3
   },
   "file_extension": ".py",
   "mimetype": "text/x-python",
   "name": "python",
   "nbconvert_exporter": "python",
   "pygments_lexer": "ipython3",
   "version": "3.9.0"
  },
  "toc": {
   "base_numbering": 1,
   "nav_menu": {},
   "number_sections": true,
   "sideBar": true,
   "skip_h1_title": false,
   "title_cell": "Table of Contents",
   "title_sidebar": "Contents",
   "toc_cell": true,
   "toc_position": {
    "height": "calc(100% - 180px)",
    "left": "10px",
    "top": "150px",
    "width": "165px"
   },
   "toc_section_display": true,
   "toc_window_display": true
  }
 },
 "nbformat": 4,
 "nbformat_minor": 4
}
