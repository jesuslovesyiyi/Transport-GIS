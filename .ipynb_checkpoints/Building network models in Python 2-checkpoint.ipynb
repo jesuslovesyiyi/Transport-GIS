{
 "cells": [
  {
   "cell_type": "markdown",
   "metadata": {
    "toc": true
   },
   "source": [
    "<h1>Table of Contents<span class=\"tocSkip\"></span></h1>\n",
    "<div class=\"toc\"><ul class=\"toc-item\"><li><span><a href=\"#Install-libraries\" data-toc-modified-id=\"Install-libraries-1\"><span class=\"toc-item-num\">1&nbsp;&nbsp;</span>Install libraries</a></span></li><li><span><a href=\"#Import-libraries\" data-toc-modified-id=\"Import-libraries-2\"><span class=\"toc-item-num\">2&nbsp;&nbsp;</span>Import libraries</a></span></li><li><span><a href=\"#Network-modeling-with-NetworkX\" data-toc-modified-id=\"Network-modeling-with-NetworkX-3\"><span class=\"toc-item-num\">3&nbsp;&nbsp;</span>Network modeling with NetworkX</a></span><ul class=\"toc-item\"><li><span><a href=\"#Creating-a-graph\" data-toc-modified-id=\"Creating-a-graph-3.1\"><span class=\"toc-item-num\">3.1&nbsp;&nbsp;</span>Creating a graph</a></span><ul class=\"toc-item\"><li><span><a href=\"#Add-nodes\" data-toc-modified-id=\"Add-nodes-3.1.1\"><span class=\"toc-item-num\">3.1.1&nbsp;&nbsp;</span>Add nodes</a></span></li><li><span><a href=\"#Add-edges\" data-toc-modified-id=\"Add-edges-3.1.2\"><span class=\"toc-item-num\">3.1.2&nbsp;&nbsp;</span>Add edges</a></span></li><li><span><a href=\"#Add-nodes-from-another-graph\" data-toc-modified-id=\"Add-nodes-from-another-graph-3.1.3\"><span class=\"toc-item-num\">3.1.3&nbsp;&nbsp;</span>Add nodes from another graph</a></span></li></ul></li><li><span><a href=\"#Examining-elements-of-a-graph\" data-toc-modified-id=\"Examining-elements-of-a-graph-3.2\"><span class=\"toc-item-num\">3.2&nbsp;&nbsp;</span>Examining elements of a graph</a></span></li><li><span><a href=\"#Accessing-edges-and-neighbors\" data-toc-modified-id=\"Accessing-edges-and-neighbors-3.3\"><span class=\"toc-item-num\">3.3&nbsp;&nbsp;</span>Accessing edges and neighbors</a></span></li><li><span><a href=\"#Drawing-graphs\" data-toc-modified-id=\"Drawing-graphs-3.4\"><span class=\"toc-item-num\">3.4&nbsp;&nbsp;</span>Drawing graphs</a></span></li></ul></li><li><span><a href=\"#Intro-to-OSMnx\" data-toc-modified-id=\"Intro-to-OSMnx-4\"><span class=\"toc-item-num\">4&nbsp;&nbsp;</span>Intro to OSMnx</a></span><ul class=\"toc-item\"><li><span><a href=\"#Download-and-model-street-networks\" data-toc-modified-id=\"Download-and-model-street-networks-4.1\"><span class=\"toc-item-num\">4.1&nbsp;&nbsp;</span>Download and model street networks</a></span></li><li><span><a href=\"#Save-street-networks\" data-toc-modified-id=\"Save-street-networks-4.2\"><span class=\"toc-item-num\">4.2&nbsp;&nbsp;</span>Save street networks</a></span><ul class=\"toc-item\"><li><span><a href=\"#GeoPackages-for-GIS\" data-toc-modified-id=\"GeoPackages-for-GIS-4.2.1\"><span class=\"toc-item-num\">4.2.1&nbsp;&nbsp;</span>GeoPackages for GIS</a></span></li><li><span><a href=\"#GraphML-files-for-saving-network-and-preserving-topological-detail\" data-toc-modified-id=\"GraphML-files-for-saving-network-and-preserving-topological-detail-4.2.2\"><span class=\"toc-item-num\">4.2.2&nbsp;&nbsp;</span>GraphML files for saving network and preserving topological detail</a></span></li></ul></li></ul></li></ul></div>"
   ]
  },
  {
   "cell_type": "markdown",
   "metadata": {},
   "source": [
    "# Install libraries"
   ]
  },
  {
   "cell_type": "markdown",
   "metadata": {
    "ExecuteTime": {
     "end_time": "2023-09-10T19:52:21.421575Z",
     "start_time": "2023-09-10T19:52:21.417783Z"
    }
   },
   "source": [
    "Install pandas library https://pandas.pydata.org/docs/getting_started/install.html\n",
    "> pip install pandas"
   ]
  },
  {
   "cell_type": "markdown",
   "metadata": {},
   "source": [
    "Install networkx library https://networkx.org/documentation/stable/install.html\n",
    "> pip install networkx"
   ]
  },
  {
   "cell_type": "markdown",
   "metadata": {},
   "source": [
    "Install osmnx library https://osmnx.readthedocs.io/en/stable/installation.html\n",
    "> pip install osmnx"
   ]
  },
  {
   "cell_type": "markdown",
   "metadata": {},
   "source": [
    "# Import libraries"
   ]
  },
  {
   "cell_type": "code",
   "execution_count": 1,
   "metadata": {
    "ExecuteTime": {
     "end_time": "2023-09-11T19:42:27.718991Z",
     "start_time": "2023-09-11T19:42:25.101122Z"
    }
   },
   "outputs": [],
   "source": [
    "import numpy as np\n",
    "import pandas as pd\n",
    "import networkx as nx\n",
    "import osmnx as ox"
   ]
  },
  {
   "cell_type": "markdown",
   "metadata": {},
   "source": [
    "# Network modeling with NetworkX"
   ]
  },
  {
   "cell_type": "markdown",
   "metadata": {},
   "source": [
    "NetworkX is a Python package for the creation, manipulation, and study of the structure, dynamics, and functions of complex networks.\n",
    "\n",
    "It provides:\n",
    "\n",
    "- tools for the study of the structure and dynamics of social, biological, and infrastructure networks;\n",
    "\n",
    "- a standard programming interface and graph implementation that is suitable for many applications;\n",
    "\n",
    "- a rapid development environment for collaborative, multidisciplinary projects;\n",
    "\n",
    "- an interface to existing numerical algorithms and code written in C, C++, and FORTRAN; and\n",
    "\n",
    "- the ability to painlessly work with large nonstandard data sets.\n",
    "\n",
    "With NetworkX you can load and store networks in standard and nonstandard data formats, generate many types of random and classic networks, analyze network structure, build network models, design new network algorithms, draw networks, and much more."
   ]
  },
  {
   "cell_type": "markdown",
   "metadata": {},
   "source": [
    "## Creating a graph"
   ]
  },
  {
   "cell_type": "markdown",
   "metadata": {},
   "source": [
    "Create an empty graph with no nodes and no edges."
   ]
  },
  {
   "cell_type": "code",
   "execution_count": 39,
   "metadata": {
    "ExecuteTime": {
     "end_time": "2023-09-11T20:05:36.529832Z",
     "start_time": "2023-09-11T20:05:36.527495Z"
    }
   },
   "outputs": [],
   "source": [
    "G2 = nx.DiGraph()"
   ]
  },
  {
   "cell_type": "code",
   "execution_count": 40,
   "metadata": {
    "ExecuteTime": {
     "end_time": "2023-09-11T20:05:51.735580Z",
     "start_time": "2023-09-11T20:05:51.733127Z"
    }
   },
   "outputs": [],
   "source": [
    "G2.add_edges_from([(1, 2), (1, 3)])"
   ]
  },
  {
   "cell_type": "code",
   "execution_count": 41,
   "metadata": {
    "ExecuteTime": {
     "end_time": "2023-09-11T20:06:01.052162Z",
     "start_time": "2023-09-11T20:06:00.960121Z"
    }
   },
   "outputs": [
    {
     "data": {
      "image/png": "[encoded data removed]",
      "text/plain": [
       "<Figure size 432x288 with 1 Axes>"
      ]
     },
     "metadata": {},
     "output_type": "display_data"
    }
   ],
   "source": [
    "nx.draw(G2, with_labels=True)"
   ]
  },
  {
   "cell_type": "code",
   "execution_count": 45,
   "metadata": {
    "ExecuteTime": {
     "end_time": "2023-09-11T20:08:41.685258Z",
     "start_time": "2023-09-11T20:08:41.681724Z"
    }
   },
   "outputs": [
    {
     "data": {
      "text/plain": [
       "2"
      ]
     },
     "execution_count": 45,
     "metadata": {},
     "output_type": "execute_result"
    }
   ],
   "source": [
    "G2.out_degree[1]"
   ]
  },
  {
   "cell_type": "code",
   "execution_count": 2,
   "metadata": {
    "ExecuteTime": {
     "end_time": "2023-09-11T19:43:24.388865Z",
     "start_time": "2023-09-11T19:43:24.386281Z"
    }
   },
   "outputs": [],
   "source": [
    "G=nx.Graph()"
   ]
  },
  {
   "cell_type": "markdown",
   "metadata": {},
   "source": [
    "The graph G can be grown in several ways. NetworkX includes many graph generator functions and facilities to read and write graphs in many formats. To get started though we’ll look at simple manipulations. You can add one node at a time"
   ]
  },
  {
   "cell_type": "markdown",
   "metadata": {},
   "source": [
    "### Add nodes"
   ]
  },
  {
   "cell_type": "code",
   "execution_count": 3,
   "metadata": {
    "ExecuteTime": {
     "end_time": "2023-09-11T19:43:51.549553Z",
     "start_time": "2023-09-11T19:43:51.547199Z"
    }
   },
   "outputs": [],
   "source": [
    "G.add_node(1)"
   ]
  },
  {
   "cell_type": "markdown",
   "metadata": {},
   "source": [
    "add a list of nodes"
   ]
  },
  {
   "cell_type": "code",
   "execution_count": 4,
   "metadata": {
    "ExecuteTime": {
     "end_time": "2023-09-11T19:44:10.419221Z",
     "start_time": "2023-09-11T19:44:10.416835Z"
    }
   },
   "outputs": [],
   "source": [
    "G.add_nodes_from([2,3])"
   ]
  },
  {
   "cell_type": "markdown",
   "metadata": {},
   "source": [
    "You can also add nodes along with node attributes if your container yields 2-tuples of the form (node, node_attribute_dict)"
   ]
  },
  {
   "cell_type": "code",
   "execution_count": 5,
   "metadata": {
    "ExecuteTime": {
     "end_time": "2023-09-11T19:45:04.453196Z",
     "start_time": "2023-09-11T19:45:04.450431Z"
    }
   },
   "outputs": [],
   "source": [
    "G.add_nodes_from([\n",
    "    (4, {\"color\": \"red\"}),\n",
    "    (5, {\"color\": \"green\"}),\n",
    "])"
   ]
  },
  {
   "cell_type": "markdown",
   "metadata": {},
   "source": [
    "Let's visualize the graph we have just created"
   ]
  },
  {
   "cell_type": "code",
   "execution_count": 15,
   "metadata": {
    "ExecuteTime": {
     "end_time": "2023-09-11T19:48:34.526648Z",
     "start_time": "2023-09-11T19:48:34.434572Z"
    }
   },
   "outputs": [
    {
     "data": {
      "image/png": "[encoded data removed]",
      "text/plain": [
       "<Figure size 432x288 with 1 Axes>"
      ]
     },
     "metadata": {},
     "output_type": "display_data"
    }
   ],
   "source": [
    "nx.draw(G, with_labels=True)"
   ]
  },
  {
   "cell_type": "markdown",
   "metadata": {},
   "source": [
    "### Add edges"
   ]
  },
  {
   "cell_type": "markdown",
   "metadata": {},
   "source": [
    "G can also be grown by adding one edge at a time"
   ]
  },
  {
   "cell_type": "code",
   "execution_count": 11,
   "metadata": {
    "ExecuteTime": {
     "end_time": "2023-09-11T19:47:38.899190Z",
     "start_time": "2023-09-11T19:47:38.896834Z"
    }
   },
   "outputs": [],
   "source": [
    "G.add_edge(1,2)"
   ]
  },
  {
   "cell_type": "code",
   "execution_count": 18,
   "metadata": {
    "ExecuteTime": {
     "end_time": "2023-09-11T19:50:16.144953Z",
     "start_time": "2023-09-11T19:50:15.979809Z"
    }
   },
   "outputs": [
    {
     "data": {
      "image/png": "[encoded data removed]",
      "text/plain": [
       "<Figure size 432x288 with 1 Axes>"
      ]
     },
     "metadata": {},
     "output_type": "display_data"
    }
   ],
   "source": [
    "nx.draw(G, with_labels=True)"
   ]
  },
  {
   "cell_type": "code",
   "execution_count": 20,
   "metadata": {
    "ExecuteTime": {
     "end_time": "2023-09-11T19:50:56.330319Z",
     "start_time": "2023-09-11T19:50:56.327844Z"
    }
   },
   "outputs": [],
   "source": [
    "e=(2,3)\n",
    "G.add_edge(*e) # unpack edge tuple*"
   ]
  },
  {
   "cell_type": "markdown",
   "metadata": {},
   "source": [
    "Adding edges from a list"
   ]
  },
  {
   "cell_type": "code",
   "execution_count": 21,
   "metadata": {
    "ExecuteTime": {
     "end_time": "2023-09-11T19:51:19.626480Z",
     "start_time": "2023-09-11T19:51:19.624076Z"
    }
   },
   "outputs": [],
   "source": [
    "G.add_edges_from([(6,2),(7,3)])"
   ]
  },
  {
   "cell_type": "code",
   "execution_count": 22,
   "metadata": {
    "ExecuteTime": {
     "end_time": "2023-09-11T19:51:27.855731Z",
     "start_time": "2023-09-11T19:51:27.760289Z"
    }
   },
   "outputs": [
    {
     "data": {
      "image/png": "[encoded data removed]",
      "text/plain": [
       "<Figure size 432x288 with 1 Axes>"
      ]
     },
     "metadata": {},
     "output_type": "display_data"
    }
   ],
   "source": [
    "nx.draw(G, with_labels=True)"
   ]
  },
  {
   "cell_type": "markdown",
   "metadata": {},
   "source": [
    "Note that although we did not add node 6 and 7 before, it is created automatically when new edges are added."
   ]
  },
  {
   "cell_type": "code",
   "execution_count": 23,
   "metadata": {
    "ExecuteTime": {
     "end_time": "2023-09-11T19:54:33.587385Z",
     "start_time": "2023-09-11T19:54:33.583953Z"
    }
   },
   "outputs": [
    {
     "data": {
      "text/plain": [
       "7"
      ]
     },
     "execution_count": 23,
     "metadata": {},
     "output_type": "execute_result"
    }
   ],
   "source": [
    "G.number_of_nodes()"
   ]
  },
  {
   "cell_type": "code",
   "execution_count": 24,
   "metadata": {
    "ExecuteTime": {
     "end_time": "2023-09-11T19:54:46.253548Z",
     "start_time": "2023-09-11T19:54:46.250381Z"
    }
   },
   "outputs": [
    {
     "data": {
      "text/plain": [
       "4"
      ]
     },
     "execution_count": 24,
     "metadata": {},
     "output_type": "execute_result"
    }
   ],
   "source": [
    "G.number_of_edges()"
   ]
  },
  {
   "cell_type": "markdown",
   "metadata": {},
   "source": [
    "### Add nodes from another graph"
   ]
  },
  {
   "cell_type": "code",
   "execution_count": 27,
   "metadata": {
    "ExecuteTime": {
     "end_time": "2023-09-11T19:55:48.520779Z",
     "start_time": "2023-09-11T19:55:48.415148Z"
    }
   },
   "outputs": [
    {
     "data": {
      "image/png": "[encoded data removed]",
      "text/plain": [
       "<Figure size 432x288 with 1 Axes>"
      ]
     },
     "metadata": {},
     "output_type": "display_data"
    }
   ],
   "source": [
    "nx.draw(H, with_labels=True)"
   ]
  },
  {
   "cell_type": "code",
   "execution_count": 25,
   "metadata": {
    "ExecuteTime": {
     "end_time": "2023-09-11T19:54:59.287260Z",
     "start_time": "2023-09-11T19:54:59.284821Z"
    }
   },
   "outputs": [],
   "source": [
    "H = nx.path_graph(10)\n",
    "G.add_nodes_from(H)"
   ]
  },
  {
   "cell_type": "code",
   "execution_count": 26,
   "metadata": {
    "ExecuteTime": {
     "end_time": "2023-09-11T19:55:25.254846Z",
     "start_time": "2023-09-11T19:55:25.251197Z"
    }
   },
   "outputs": [
    {
     "data": {
      "text/plain": [
       "(10, 4)"
      ]
     },
     "execution_count": 26,
     "metadata": {},
     "output_type": "execute_result"
    }
   ],
   "source": [
    "G.number_of_nodes(), G.number_of_edges()"
   ]
  },
  {
   "cell_type": "code",
   "execution_count": 28,
   "metadata": {
    "ExecuteTime": {
     "end_time": "2023-09-11T19:56:14.073774Z",
     "start_time": "2023-09-11T19:56:13.970793Z"
    }
   },
   "outputs": [
    {
     "data": {
      "image/png": "[encoded data removed]",
      "text/plain": [
       "<Figure size 432x288 with 1 Axes>"
      ]
     },
     "metadata": {},
     "output_type": "display_data"
    }
   ],
   "source": [
    "nx.draw(G, with_labels=True)"
   ]
  },
  {
   "cell_type": "code",
   "execution_count": 30,
   "metadata": {
    "ExecuteTime": {
     "end_time": "2023-09-11T19:58:12.398116Z",
     "start_time": "2023-09-11T19:58:12.394716Z"
    }
   },
   "outputs": [
    {
     "data": {
      "text/plain": [
       "10"
      ]
     },
     "execution_count": 30,
     "metadata": {},
     "output_type": "execute_result"
    }
   ],
   "source": [
    "G.number_of_nodes()"
   ]
  },
  {
   "cell_type": "markdown",
   "metadata": {},
   "source": [
    "## Examining elements of a graph"
   ]
  },
  {
   "cell_type": "markdown",
   "metadata": {},
   "source": [
    "We can examine the nodes and edges. Four basic graph properties facilitate reporting:\n",
    "> G.nodes\n",
    "\n",
    "> G.edges\n",
    "\n",
    "> G.adj\n",
    "\n",
    "> G.degree\n",
    "\n",
    "These are set-like views of the nodes, edges, neighbors (adjacencies), and degrees of nodes in a graph. They offer a continually updated read-only view into the graph structure. They are also dict-like in that you can look up node and edge data attributes via the views and iterate with data attributes using methods .items(), .data(). If you want a specific container type instead of a view, you can specify one. Here we use lists, though sets, dicts, tuples and other containers may be better in other contexts."
   ]
  },
  {
   "cell_type": "code",
   "execution_count": 31,
   "metadata": {
    "ExecuteTime": {
     "end_time": "2023-09-11T20:00:51.331753Z",
     "start_time": "2023-09-11T20:00:51.328017Z"
    }
   },
   "outputs": [
    {
     "data": {
      "text/plain": [
       "[1, 2, 3, 4, 5, 6, 7, 0, 8, 9]"
      ]
     },
     "execution_count": 31,
     "metadata": {},
     "output_type": "execute_result"
    }
   ],
   "source": [
    "list(G.nodes)"
   ]
  },
  {
   "cell_type": "code",
   "execution_count": 32,
   "metadata": {
    "ExecuteTime": {
     "end_time": "2023-09-11T20:01:05.656482Z",
     "start_time": "2023-09-11T20:01:05.652630Z"
    }
   },
   "outputs": [
    {
     "data": {
      "text/plain": [
       "[(1, 2), (2, 3), (2, 6), (3, 7)]"
      ]
     },
     "execution_count": 32,
     "metadata": {},
     "output_type": "execute_result"
    }
   ],
   "source": [
    "list(G.edges)"
   ]
  },
  {
   "cell_type": "code",
   "execution_count": 36,
   "metadata": {
    "ExecuteTime": {
     "end_time": "2023-09-11T20:02:28.938405Z",
     "start_time": "2023-09-11T20:02:28.935030Z"
    }
   },
   "outputs": [
    {
     "data": {
      "text/plain": [
       "AtlasView({2: {}, 7: {}})"
      ]
     },
     "execution_count": 36,
     "metadata": {},
     "output_type": "execute_result"
    }
   ],
   "source": [
    "G.adj[3]"
   ]
  },
  {
   "cell_type": "code",
   "execution_count": 34,
   "metadata": {
    "ExecuteTime": {
     "end_time": "2023-09-11T20:01:58.636060Z",
     "start_time": "2023-09-11T20:01:58.532168Z"
    }
   },
   "outputs": [
    {
     "data": {
      "image/png": "[encoded data removed]",
      "text/plain": [
       "<Figure size 432x288 with 1 Axes>"
      ]
     },
     "metadata": {},
     "output_type": "display_data"
    }
   ],
   "source": [
    "nx.draw(G, with_labels=True)"
   ]
  },
  {
   "cell_type": "code",
   "execution_count": 37,
   "metadata": {
    "ExecuteTime": {
     "end_time": "2023-09-11T20:02:43.419074Z",
     "start_time": "2023-09-11T20:02:43.415727Z"
    }
   },
   "outputs": [
    {
     "data": {
      "text/plain": [
       "[2]"
      ]
     },
     "execution_count": 37,
     "metadata": {},
     "output_type": "execute_result"
    }
   ],
   "source": [
    "list(G.adj[1])  # or list(G.neighbors(1))"
   ]
  },
  {
   "cell_type": "code",
   "execution_count": 38,
   "metadata": {
    "ExecuteTime": {
     "end_time": "2023-09-11T20:02:45.754279Z",
     "start_time": "2023-09-11T20:02:45.750863Z"
    }
   },
   "outputs": [
    {
     "data": {
      "text/plain": [
       "1"
      ]
     },
     "execution_count": 38,
     "metadata": {},
     "output_type": "execute_result"
    }
   ],
   "source": [
    "G.degree[1]  # the number of edges incident to 1"
   ]
  },
  {
   "cell_type": "markdown",
   "metadata": {},
   "source": [
    "## Accessing edges and neighbors"
   ]
  },
  {
   "cell_type": "markdown",
   "metadata": {},
   "source": [
    "In addition to the views Graph.edges, and Graph.adj, access to edges and neighbors is possible using subscript notation."
   ]
  },
  {
   "cell_type": "code",
   "execution_count": 46,
   "metadata": {
    "ExecuteTime": {
     "end_time": "2023-09-11T20:10:59.910403Z",
     "start_time": "2023-09-11T20:10:59.907737Z"
    }
   },
   "outputs": [],
   "source": [
    " G = nx.Graph([(1, 2, {\"color\": \"yellow\"})])"
   ]
  },
  {
   "cell_type": "code",
   "execution_count": 47,
   "metadata": {
    "ExecuteTime": {
     "end_time": "2023-09-11T20:11:01.054332Z",
     "start_time": "2023-09-11T20:11:00.971925Z"
    }
   },
   "outputs": [
    {
     "data": {
      "image/png": "[encoded data removed]",
      "text/plain": [
       "<Figure size 432x288 with 1 Axes>"
      ]
     },
     "metadata": {},
     "output_type": "display_data"
    }
   ],
   "source": [
    "nx.draw(G, with_labels=True)"
   ]
  },
  {
   "cell_type": "code",
   "execution_count": 48,
   "metadata": {
    "ExecuteTime": {
     "end_time": "2023-09-11T20:11:21.299689Z",
     "start_time": "2023-09-11T20:11:21.296336Z"
    }
   },
   "outputs": [
    {
     "data": {
      "text/plain": [
       "AtlasView({2: {'color': 'yellow'}})"
      ]
     },
     "execution_count": 48,
     "metadata": {},
     "output_type": "execute_result"
    }
   ],
   "source": [
    "G[1]  # same as G.adj[1]"
   ]
  },
  {
   "cell_type": "code",
   "execution_count": 52,
   "metadata": {
    "ExecuteTime": {
     "end_time": "2023-09-11T20:12:14.827893Z",
     "start_time": "2023-09-11T20:12:14.824477Z"
    }
   },
   "outputs": [
    {
     "data": {
      "text/plain": [
       "{'color': 'yellow'}"
      ]
     },
     "execution_count": 52,
     "metadata": {},
     "output_type": "execute_result"
    }
   ],
   "source": [
    "G[2][1] # checking the attribute of edge [1,2]"
   ]
  },
  {
   "cell_type": "code",
   "execution_count": 54,
   "metadata": {
    "ExecuteTime": {
     "end_time": "2023-09-11T20:12:40.141858Z",
     "start_time": "2023-09-11T20:12:40.138358Z"
    }
   },
   "outputs": [
    {
     "data": {
      "text/plain": [
       "{'color': 'yellow'}"
      ]
     },
     "execution_count": 54,
     "metadata": {},
     "output_type": "execute_result"
    }
   ],
   "source": [
    "G.edges[2, 1] # checking the attribute of edge [1,2]"
   ]
  },
  {
   "cell_type": "markdown",
   "metadata": {},
   "source": [
    "You can get/set the attributes of an edge using subscript notation if the edge already exists."
   ]
  },
  {
   "cell_type": "code",
   "execution_count": 55,
   "metadata": {
    "ExecuteTime": {
     "end_time": "2023-09-11T20:13:23.437731Z",
     "start_time": "2023-09-11T20:13:23.434917Z"
    }
   },
   "outputs": [],
   "source": [
    "G.add_edge(1, 3)\n",
    "G[1][3]['color'] = \"blue\"\n",
    "G.edges[1, 2]['color'] = \"red\""
   ]
  },
  {
   "cell_type": "code",
   "execution_count": 56,
   "metadata": {
    "ExecuteTime": {
     "end_time": "2023-09-11T20:13:26.177582Z",
     "start_time": "2023-09-11T20:13:26.089796Z"
    }
   },
   "outputs": [
    {
     "data": {
      "image/png": "[encoded data removed]",
      "text/plain": [
       "<Figure size 432x288 with 1 Axes>"
      ]
     },
     "metadata": {},
     "output_type": "display_data"
    }
   ],
   "source": [
    "nx.draw(G, with_labels=True)"
   ]
  },
  {
   "cell_type": "code",
   "execution_count": 57,
   "metadata": {
    "ExecuteTime": {
     "end_time": "2023-09-11T20:14:06.776867Z",
     "start_time": "2023-09-11T20:14:06.773289Z"
    }
   },
   "outputs": [
    {
     "data": {
      "text/plain": [
       "{'color': 'red'}"
      ]
     },
     "execution_count": 57,
     "metadata": {},
     "output_type": "execute_result"
    }
   ],
   "source": [
    "G.edges[1, 2]"
   ]
  },
  {
   "cell_type": "markdown",
   "metadata": {},
   "source": [
    "## Drawing graphs"
   ]
  },
  {
   "cell_type": "code",
   "execution_count": 58,
   "metadata": {
    "ExecuteTime": {
     "end_time": "2023-09-11T20:16:07.430557Z",
     "start_time": "2023-09-11T20:16:07.427462Z"
    }
   },
   "outputs": [],
   "source": [
    "G=nx.Graph()\n",
    "G.add_nodes_from([\n",
    "    (1, {\"color\": \"red\"}),\n",
    "    (2, {\"color\": \"green\"}),\n",
    "    (3, {\"color\": \"blue\"}),\n",
    "])"
   ]
  },
  {
   "cell_type": "code",
   "execution_count": 59,
   "metadata": {
    "ExecuteTime": {
     "end_time": "2023-09-11T20:16:10.290171Z",
     "start_time": "2023-09-11T20:16:10.220502Z"
    }
   },
   "outputs": [
    {
     "data": {
      "image/png": "[encoded data removed]",
      "text/plain": [
       "<Figure size 432x288 with 1 Axes>"
      ]
     },
     "metadata": {},
     "output_type": "display_data"
    }
   ],
   "source": [
    "nx.draw(G, with_labels=True)"
   ]
  },
  {
   "cell_type": "markdown",
   "metadata": {},
   "source": [
    "Color the nodes using the attribute of the nodes"
   ]
  },
  {
   "cell_type": "code",
   "execution_count": 70,
   "metadata": {
    "ExecuteTime": {
     "end_time": "2023-09-11T20:20:22.237885Z",
     "start_time": "2023-09-11T20:20:22.235300Z"
    }
   },
   "outputs": [],
   "source": [
    "node_colors = []\n",
    "\n",
    "for node in G.nodes(data=True):\n",
    "    node_colors.append(node[1]['color'])"
   ]
  },
  {
   "cell_type": "code",
   "execution_count": 60,
   "metadata": {
    "ExecuteTime": {
     "end_time": "2023-09-11T20:16:46.485459Z",
     "start_time": "2023-09-11T20:16:46.482090Z"
    }
   },
   "outputs": [
    {
     "data": {
      "text/plain": [
       "['red', 'green', 'blue']"
      ]
     },
     "execution_count": 60,
     "metadata": {},
     "output_type": "execute_result"
    }
   ],
   "source": [
    "node_colors = []\n",
    "for node in G.nodes(data=True):\n",
    "    node_colors.append(node[1]['color'])\n",
    "    \n",
    "node_colors"
   ]
  },
  {
   "cell_type": "code",
   "execution_count": 72,
   "metadata": {
    "ExecuteTime": {
     "end_time": "2023-09-11T20:21:02.527821Z",
     "start_time": "2023-09-11T20:21:02.461121Z"
    }
   },
   "outputs": [
    {
     "data": {
      "image/png": "[encoded data removed]",
      "text/plain": [
       "<Figure size 432x288 with 1 Axes>"
      ]
     },
     "metadata": {},
     "output_type": "display_data"
    }
   ],
   "source": [
    "nx.draw(G, with_labels=True, node_color=node_colors)"
   ]
  },
  {
   "cell_type": "code",
   "execution_count": 79,
   "metadata": {
    "ExecuteTime": {
     "end_time": "2023-09-11T20:27:55.748709Z",
     "start_time": "2023-09-11T20:27:55.745789Z"
    }
   },
   "outputs": [],
   "source": [
    "G.add_edges_from([(1, 2), (2, 3)])\n",
    "G[1][2]['color'] = \"orange\"\n",
    "G[2][3]['color'] = \"purple\""
   ]
  },
  {
   "cell_type": "code",
   "execution_count": 81,
   "metadata": {
    "ExecuteTime": {
     "end_time": "2023-09-11T20:28:05.218682Z",
     "start_time": "2023-09-11T20:28:05.214636Z"
    }
   },
   "outputs": [
    {
     "data": {
      "text/plain": [
       "['orange', 'purple']"
      ]
     },
     "execution_count": 81,
     "metadata": {},
     "output_type": "execute_result"
    }
   ],
   "source": [
    "My_edge_colors_list = []\n",
    "for edge in G.edges(data=True):\n",
    "    My_edge_colors_list.append(edge[2]['color'])\n",
    "My_edge_colors_list"
   ]
  },
  {
   "cell_type": "code",
   "execution_count": 82,
   "metadata": {
    "ExecuteTime": {
     "end_time": "2023-09-11T20:28:06.900447Z",
     "start_time": "2023-09-11T20:28:06.827461Z"
    }
   },
   "outputs": [
    {
     "data": {
      "image/png": "[encoded data removed]",
      "text/plain": [
       "<Figure size 432x288 with 1 Axes>"
      ]
     },
     "metadata": {},
     "output_type": "display_data"
    }
   ],
   "source": [
    "nx.draw(G, with_labels=True, node_color=node_colors, edge_color=My_edge_colors_list)"
   ]
  },
  {
   "cell_type": "markdown",
   "metadata": {},
   "source": [
    "# Intro to OSMnx"
   ]
  },
  {
   "cell_type": "markdown",
   "metadata": {},
   "source": [
    "Let's get the boundary polygon for Atlanta, project it, and plot it"
   ]
  },
  {
   "cell_type": "markdown",
   "metadata": {},
   "source": [
    "The osmnx.geocoder.geocode_to_gdf() function retrieve OSM elements by place name or OSM ID with the Nominatim API.\n",
    "\n",
    "If searching by place name, the query argument can be a string or structured dict, or a list of such strings/dicts to send to the geocoder. This uses the Nominatim “search” endpoint to geocode the place name to the best-matching OSM element, then returns that element and its attribute data."
   ]
  },
  {
   "cell_type": "code",
   "execution_count": 83,
   "metadata": {
    "ExecuteTime": {
     "end_time": "2023-09-11T20:29:57.989614Z",
     "start_time": "2023-09-11T20:29:56.123752Z"
    }
   },
   "outputs": [
    {
     "data": {
      "text/html": [
       "<div>\n",
       "<style scoped>\n",
       "    .dataframe tbody tr th:only-of-type {\n",
       "        vertical-align: middle;\n",
       "    }\n",
       "\n",
       "    .dataframe tbody tr th {\n",
       "        vertical-align: top;\n",
       "    }\n",
       "\n",
       "    .dataframe thead th {\n",
       "        text-align: right;\n",
       "    }\n",
       "</style>\n",
       "<table border=\"1\" class=\"dataframe\">\n",
       "  <thead>\n",
       "    <tr style=\"text-align: right;\">\n",
       "      <th></th>\n",
       "      <th>geometry</th>\n",
       "      <th>place_name</th>\n",
       "      <th>bbox_north</th>\n",
       "      <th>bbox_south</th>\n",
       "      <th>bbox_east</th>\n",
       "      <th>bbox_west</th>\n",
       "    </tr>\n",
       "  </thead>\n",
       "  <tbody>\n",
       "    <tr>\n",
       "      <th>0</th>\n",
       "      <td>MULTIPOLYGON (((-84.55107 33.72079, -84.55096 ...</td>\n",
       "      <td>Atlanta, Fulton County, Georgia, United States</td>\n",
       "      <td>33.886823</td>\n",
       "      <td>33.647808</td>\n",
       "      <td>-84.28956</td>\n",
       "      <td>-84.551068</td>\n",
       "    </tr>\n",
       "  </tbody>\n",
       "</table>\n",
       "</div>"
      ],
      "text/plain": [
       "                                            geometry  \\\n",
       "0  MULTIPOLYGON (((-84.55107 33.72079, -84.55096 ...   \n",
       "\n",
       "                                       place_name  bbox_north  bbox_south  \\\n",
       "0  Atlanta, Fulton County, Georgia, United States   33.886823   33.647808   \n",
       "\n",
       "   bbox_east  bbox_west  \n",
       "0  -84.28956 -84.551068  "
      ]
     },
     "execution_count": 83,
     "metadata": {},
     "output_type": "execute_result"
    }
   ],
   "source": [
    "atlanta = ox.geocode_to_gdf(\"Atlanta, Georgia, USA\")\n",
    "atlanta"
   ]
  },
  {
   "cell_type": "markdown",
   "metadata": {},
   "source": [
    "Now lets project to UTM\n",
    "Documentation for ox.project_gdf can be found here: https://osmnx.readthedocs.io/en/stable/user-reference.html\n",
    "\n",
    ">osmnx.projection.project_gdf(gdf, to_crs=None, to_latlong=False)\n",
    "\n",
    "This function reroject a GeoDataFrame from its current CRS to another.\n",
    "If to_crs is None, project to the UTM CRS for the UTM zone in which the GeoDataFrame’s centroid lies. Otherwise project to the CRS defined by to_crs. The simple UTM zone calculation in this function works well for most latitudes, but may not work for some extreme northern locations like Svalbard or far northern Norway.\n",
    "PARAMETERS:\n",
    "gdf (geopandas.GeoDataFrame) – the GeoDataFrame to be projected\n",
    "to_crs (string or pyproj.CRS) – if None, project to UTM zone in which gdf’s centroid lies, otherwise project to this CRS\n",
    "to_latlong (bool) – if True, project to settings.default_crs and ignore to_crs\n",
    "\n",
    "RETURNS:\n",
    "gdf_proj – the projected GeoDataFrame\n",
    "\n",
    "RETURN TYPE:\n",
    "geopandas.GeoDataFrame"
   ]
  },
  {
   "cell_type": "code",
   "execution_count": 85,
   "metadata": {
    "ExecuteTime": {
     "end_time": "2023-09-11T20:33:23.730331Z",
     "start_time": "2023-09-11T20:33:23.674525Z"
    }
   },
   "outputs": [
    {
     "data": {
      "text/html": [
       "<div>\n",
       "<style scoped>\n",
       "    .dataframe tbody tr th:only-of-type {\n",
       "        vertical-align: middle;\n",
       "    }\n",
       "\n",
       "    .dataframe tbody tr th {\n",
       "        vertical-align: top;\n",
       "    }\n",
       "\n",
       "    .dataframe thead th {\n",
       "        text-align: right;\n",
       "    }\n",
       "</style>\n",
       "<table border=\"1\" class=\"dataframe\">\n",
       "  <thead>\n",
       "    <tr style=\"text-align: right;\">\n",
       "      <th></th>\n",
       "      <th>geometry</th>\n",
       "      <th>place_name</th>\n",
       "      <th>bbox_north</th>\n",
       "      <th>bbox_south</th>\n",
       "      <th>bbox_east</th>\n",
       "      <th>bbox_west</th>\n",
       "    </tr>\n",
       "  </thead>\n",
       "  <tbody>\n",
       "    <tr>\n",
       "      <th>0</th>\n",
       "      <td>MULTIPOLYGON (((726917.510 3733891.900, 726928...</td>\n",
       "      <td>Atlanta, Fulton County, Georgia, United States</td>\n",
       "      <td>33.886823</td>\n",
       "      <td>33.647808</td>\n",
       "      <td>-84.28956</td>\n",
       "      <td>-84.551068</td>\n",
       "    </tr>\n",
       "  </tbody>\n",
       "</table>\n",
       "</div>"
      ],
      "text/plain": [
       "                                            geometry  \\\n",
       "0  MULTIPOLYGON (((726917.510 3733891.900, 726928...   \n",
       "\n",
       "                                       place_name  bbox_north  bbox_south  \\\n",
       "0  Atlanta, Fulton County, Georgia, United States   33.886823   33.647808   \n",
       "\n",
       "   bbox_east  bbox_west  \n",
       "0  -84.28956 -84.551068  "
      ]
     },
     "execution_count": 85,
     "metadata": {},
     "output_type": "execute_result"
    }
   ],
   "source": [
    "atlanta_proj = ox.project_gdf(atlanta, to_crs=32616)\n",
    "atlanta_proj"
   ]
  },
  {
   "cell_type": "code",
   "execution_count": 86,
   "metadata": {
    "ExecuteTime": {
     "end_time": "2023-09-11T20:34:47.328678Z",
     "start_time": "2023-09-11T20:34:47.175083Z"
    }
   },
   "outputs": [
    {
     "data": {
      "image/png": "[encoded data removed]",
      "text/plain": [
       "<Figure size 432x288 with 1 Axes>"
      ]
     },
     "metadata": {
      "needs_background": "light"
     },
     "output_type": "display_data"
    }
   ],
   "source": [
    "# Plot the city boundary\n",
    "ax = atlanta_proj.plot(fc=\"gray\", ec=\"none\")"
   ]
  },
  {
   "cell_type": "markdown",
   "metadata": {},
   "source": [
    "## Download and model street networks"
   ]
  },
  {
   "cell_type": "markdown",
   "metadata": {},
   "source": [
    "OSMnx lets you download street network data and build topologically-corrected street networks, project and plot the networks, and save the street network as SVGs, GraphML files, or GeoPackages for later use. The street networks are directed and preserve one-way directionality. For a more in-depth demonstration of creating street networks, see this notebook.\n",
    "\n",
    "You can download a street network by providing OSMnx any of the following (demonstrated in the examples below):\n",
    "\n",
    "- a bounding box\n",
    "- a lat-long point plus a distance\n",
    "- an address plus a distance\n",
    "- a place name or list of place names (to automatically geocode and get the boundary of)\n",
    "- a polygon of the desired street network's boundaries\n",
    "- a .osm formatted xml file\n",
    "\n",
    "You can also specify several different network types:\n",
    "\n",
    "- 'drive' - get drivable public streets (but not service roads)\n",
    "- 'drive_service' - get drivable streets, including service roads\n",
    "- 'walk' - get all streets and paths that pedestrians can use (this network type ignores one-way directionality)\n",
    "- 'bike' - get all streets and paths that cyclists can use\n",
    "- 'all' - download all non-private OSM streets and paths (this is the default network type unless you specify a different one)\n",
    "- 'all_private' - download all OSM streets and paths, including private-access ones"
   ]
  },
  {
   "cell_type": "markdown",
   "metadata": {},
   "source": [
    "Let's check the boundary shape for Atlanta again"
   ]
  },
  {
   "cell_type": "code",
   "execution_count": 91,
   "metadata": {
    "ExecuteTime": {
     "end_time": "2023-09-11T20:37:00.633742Z",
     "start_time": "2023-09-11T20:37:00.621326Z"
    }
   },
   "outputs": [
    {
     "data": {
      "text/html": [
       "<div>\n",
       "<style scoped>\n",
       "    .dataframe tbody tr th:only-of-type {\n",
       "        vertical-align: middle;\n",
       "    }\n",
       "\n",
       "    .dataframe tbody tr th {\n",
       "        vertical-align: top;\n",
       "    }\n",
       "\n",
       "    .dataframe thead th {\n",
       "        text-align: right;\n",
       "    }\n",
       "</style>\n",
       "<table border=\"1\" class=\"dataframe\">\n",
       "  <thead>\n",
       "    <tr style=\"text-align: right;\">\n",
       "      <th></th>\n",
       "      <th>geometry</th>\n",
       "      <th>place_name</th>\n",
       "      <th>bbox_north</th>\n",
       "      <th>bbox_south</th>\n",
       "      <th>bbox_east</th>\n",
       "      <th>bbox_west</th>\n",
       "    </tr>\n",
       "  </thead>\n",
       "  <tbody>\n",
       "    <tr>\n",
       "      <th>0</th>\n",
       "      <td>MULTIPOLYGON (((-84.55107 33.72079, -84.55096 ...</td>\n",
       "      <td>Atlanta, Fulton County, Georgia, United States</td>\n",
       "      <td>33.886823</td>\n",
       "      <td>33.647808</td>\n",
       "      <td>-84.28956</td>\n",
       "      <td>-84.551068</td>\n",
       "    </tr>\n",
       "  </tbody>\n",
       "</table>\n",
       "</div>"
      ],
      "text/plain": [
       "                                            geometry  \\\n",
       "0  MULTIPOLYGON (((-84.55107 33.72079, -84.55096 ...   \n",
       "\n",
       "                                       place_name  bbox_north  bbox_south  \\\n",
       "0  Atlanta, Fulton County, Georgia, United States   33.886823   33.647808   \n",
       "\n",
       "   bbox_east  bbox_west  \n",
       "0  -84.28956 -84.551068  "
      ]
     },
     "execution_count": 91,
     "metadata": {},
     "output_type": "execute_result"
    }
   ],
   "source": [
    "atlanta"
   ]
  },
  {
   "cell_type": "code",
   "execution_count": 87,
   "metadata": {
    "ExecuteTime": {
     "end_time": "2023-09-11T20:35:50.533273Z",
     "start_time": "2023-09-11T20:35:50.525018Z"
    }
   },
   "outputs": [
    {
     "data": {
      "image/svg+xml": [
       "<svg xmlns=\"http://www.w3.org/2000/svg\" xmlns:xlink=\"http://www.w3.org/1999/xlink\" width=\"100.0\" height=\"100.0\" viewBox=\"-84.56152832000001 33.63734768 0.28242864000002044 0.2599356400000019\" preserveAspectRatio=\"xMinYMin meet\"><g transform=\"matrix(1,0,0,-1,0,67.53463099999999)\"><g><path fill-rule=\"evenodd\" fill=\"#66cc99\" stroke=\"#555555\" stroke-width=\"0.005648572800000409\" opacity=\"0.6\" d=\"M -84.551068,33.720793 L -84.550962,33.720361 L -84.547831,33.720408 L -84.543408,33.720308 L -84.543427,33.721286 L -84.543486,33.722231 L -84.539275,33.722223 L -84.538936,33.724115 L -84.538821,33.724824 L -84.538766,33.725097 L -84.538742,33.725432 L -84.538756,33.725744 L -84.538808,33.726083 L -84.53888,33.726381 L -84.538974,33.72667 L -84.539093,33.726953 L -84.539243,33.727243 L -84.537869,33.727289 L -84.537737,33.727282 L -84.537597,33.727251 L -84.537467,33.727199 L -84.536828,33.726799 L -84.536904,33.726739 L -84.537292,33.726325 L -84.53699,33.726192 L -84.536507,33.725946 L -84.536169,33.724648 L -84.536161,33.722215 L -84.535852,33.71798 L -84.535792,33.717456 L -84.535554,33.717651 L -84.535378,33.717297 L -84.535779,33.716974 L -84.535749,33.716559 L -84.535873,33.71646 L -84.535579,33.715682 L -84.536518,33.715633 L -84.536459,33.71555 L -84.536205,33.714584 L -84.536195,33.714515 L -84.536054,33.71392 L -84.535961,33.71355 L -84.535838,33.713551 L -84.535791,33.71346 L -84.535408,33.713461 L -84.535131,33.712301 L -84.535202,33.710512 L -84.535279,33.705968 L -84.536505,33.705954 L -84.536448,33.706187 L -84.536365,33.706624 L -84.536101,33.708795 L -84.536074,33.708935 L -84.537037,33.708911 L -84.53834,33.708942 L -84.540382,33.708932 L -84.541146,33.708932 L -84.541171,33.709403 L -84.541457,33.709412 L -84.541862,33.70936 L -84.542107,33.709307 L -84.542441,33.709312 L -84.542596,33.70938 L -84.542701,33.709396 L -84.542823,33.709454 L -84.543013,33.709453 L -84.543858,33.709405 L -84.544125,33.709403 L -84.544379,33.709219 L -84.544861,33.709239 L -84.545104,33.709304 L -84.545328,33.709279 L -84.545452,33.709282 L -84.544479,33.706103 L -84.544983,33.70611 L -84.545042,33.702763 L -84.546428,33.701142 L -84.546146,33.700844 L -84.545965,33.700903 L -84.545634,33.701174 L -84.545294,33.701471 L -84.545136,33.699348 L -84.545131,33.698701 L -84.545155,33.697541 L -84.547343,33.697608 L -84.547454,33.693692 L -84.545202,33.693624 L -84.545219,33.689677 L -84.545243,33.689218 L -84.545233,33.688582 L -84.545364,33.685467 L -84.545531,33.682409 L -84.545662,33.680766 L -84.544674,33.680748 L -84.543427,33.680736 L -84.542349,33.680705 L -84.541897,33.680696 L -84.540582,33.680717 L -84.539539,33.680707 L -84.53862,33.680678 L -84.538225,33.680646 L -84.537959,33.68061 L -84.537767,33.680741 L -84.537639,33.6807 L -84.537502,33.680681 L -84.535634,33.680635 L -84.535737,33.677898 L -84.535757,33.677722 L -84.535798,33.677547 L -84.535854,33.677391 L -84.535925,33.677244 L -84.5360125,33.6732311 L -84.526053,33.673137 L -84.525924,33.664123 L -84.526106,33.664077 L -84.526303,33.664009 L -84.526619,33.663886 L -84.527207,33.663616 L -84.52758,33.663405 L -84.527944,33.663177 L -84.528108,33.663058 L -84.528573,33.66262 L -84.528666,33.662509 L -84.528751,33.66238 L -84.528933,33.662037 L -84.529061,33.661666 L -84.529106,33.661452 L -84.529227,33.660596 L -84.529282,33.660312 L -84.528563,33.660205 L -84.528609,33.65916 L -84.528507,33.659142 L -84.52822,33.659121 L -84.527236,33.659076 L -84.526618,33.659034 L -84.526109,33.658964 L -84.525927,33.658922 L -84.52593,33.657026 L -84.52593,33.65674 L -84.523302,33.656715 L -84.522028,33.656703 L -84.521916,33.656698 L -84.521864,33.656297 L -84.521845,33.656148 L -84.521806,33.655842 L -84.521792,33.655716 L -84.521778,33.655603 L -84.52159,33.655613 L -84.521316,33.655629 L -84.52103,33.655509 L -84.51923,33.655809 L -84.51562,33.655062 L -84.515603,33.65594 L -84.515591,33.656124 L -84.514393,33.655835 L -84.512913,33.655472 L -84.511402,33.655121 L -84.510255,33.654855 L -84.509993,33.654794 L -84.509308,33.654636 L -84.508729,33.654492 L -84.50798,33.654303 L -84.507535,33.654221 L -84.507194,33.654179 L -84.506901,33.654163 L -84.506655,33.654157 L -84.506231,33.65417 L -84.506444,33.65992 L -84.506682,33.665109 L -84.506734,33.66625 L -84.497892,33.666065 L -84.497797,33.666066 L -84.49755,33.666065 L -84.49338,33.66605 L -84.492151,33.666068 L -84.492158,33.669464 L -84.492165,33.672896 L -84.492168,33.673949 L -84.487837,33.673933 L -84.487837,33.674324 L -84.487429,33.674309 L -84.486607,33.674314 L -84.486617,33.67792 L -84.486597,33.678979 L -84.486577,33.680037 L -84.486554,33.681319 L -84.486558,33.68457 L -84.486553,33.685642 L -84.486553,33.685859 L -84.486549,33.686695 L -84.486538,33.68956 L -84.486536,33.689981 L -84.485928,33.690001 L -84.485728,33.690059 L -84.483584,33.690676 L -84.483029,33.690842 L -84.482185,33.691088 L -84.482173,33.692711 L -84.481809,33.692709 L -84.47854,33.692649 L -84.476341,33.69263 L -84.476311,33.694516 L -84.476397,33.697179 L -84.476449,33.697756 L -84.474854,33.697765 L -84.473253,33.697821 L -84.472601,33.697861 L -84.469941,33.697689 L -84.468595,33.6978 L -84.468314,33.697837 L -84.466571,33.697783 L -84.466171,33.697778 L -84.465794,33.697668 L -84.465121,33.697667 L -84.462185,33.697663 L -84.461566,33.697662 L -84.461206,33.697673 L -84.460887,33.697676 L -84.460684,33.697672 L -84.46055,33.697808 L -84.459662,33.69831 L -84.458988,33.698673 L -84.458809,33.69877 L -84.45793,33.699069 L -84.457342,33.69918 L -84.456931,33.699239 L -84.456161,33.699353 L -84.454214,33.699243 L -84.453477,33.699072 L -84.453352,33.699043 L -84.449689,33.69812 L -84.449689,33.69829 L -84.449681,33.698442 L -84.449664,33.698741 L -84.449648,33.700405 L -84.449535,33.702308 L -84.449449,33.70563 L -84.448014,33.705677 L -84.44638,33.705601 L -84.446309,33.705598 L -84.444428,33.705608 L -84.443851,33.705617 L -84.442928,33.705707 L -84.44293,33.705636 L -84.442957,33.704858 L -84.443028,33.702108 L -84.443041,33.70111 L -84.437897,33.701017 L -84.437912,33.699917 L -84.435835,33.69992 L -84.430888,33.699827 L -84.430614,33.699822 L -84.429294,33.699796 L -84.428967,33.699894 L -84.428713,33.69997 L -84.428614,33.699999 L -84.428525,33.700026 L -84.428608,33.699451 L -84.428729,33.698794 L -84.4288,33.698407 L -84.428845,33.698036 L -84.428861,33.697905 L -84.428909,33.69751 L -84.425495,33.697229 L -84.423194,33.697331 L -84.420156,33.697289 L -84.419942,33.6973 L -84.41969,33.697282 L -84.418839,33.697269 L -84.418328,33.697244 L -84.417917,33.697238 L -84.41771,33.697235 L -84.4176881,33.6972347 L -84.417233,33.697228 L -84.417089,33.69724 L -84.416045,33.697241 L -84.41593,33.69724 L -84.415534,33.69721 L -84.415419,33.697189 L -84.415489,33.694685 L -84.415496,33.694469 L -84.415507,33.6944 L -84.41552,33.693655 L -84.415538,33.692655 L -84.415545,33.692221 L -84.416862,33.692184 L -84.41676,33.689273 L -84.416815,33.686505 L -84.416813,33.685389 L -84.416813,33.685019 L -84.416827,33.684208 L -84.416881,33.682819 L -84.416898,33.682385 L -84.416938,33.681371 L -84.41669,33.681368 L -84.415952,33.681357 L -84.415129,33.681344 L -84.415177,33.680523 L -84.415155,33.680324 L -84.41507,33.679934 L -84.415059,33.679819 L -84.41505,33.679723 L -84.415049,33.67941 L -84.41512,33.678773 L -84.415177,33.678501 L -84.415325,33.678055 L -84.415461,33.677671 L -84.415528,33.677508 L -84.41666,33.677441 L -84.417227,33.677408 L -84.417227,33.677163 L -84.417227,33.677008 L -84.418227,33.676908 L -84.418327,33.673108 L -84.416568,33.673098 L -84.41427,33.673101 L -84.41411,33.6731 L -84.413149,33.673092 L -84.412109,33.673083 L -84.408496,33.673051 L -84.406966,33.673032 L -84.4062426,33.6730233 L -84.405388,33.673013 L -84.403451,33.672989 L -84.400656,33.672953 L -84.399559,33.672938 L -84.399389,33.672937 L -84.397933,33.672928 L -84.397736,33.672927 L -84.397523,33.672925 L -84.397621,33.670642 L -84.397631,33.670307 L -84.397617,33.66981 L -84.397578,33.669133 L -84.39757,33.669042 L -84.397557,33.668893 L -84.39755,33.668815 L -84.397459,33.668398 L -84.397416,33.668259 L -84.397296,33.667873 L -84.396959,33.666978 L -84.396568,33.665981 L -84.396136,33.664879 L -84.39567,33.663688 L -84.395291,33.662591 L -84.395172,33.662247 L -84.395118,33.662047 L -84.394908,33.661145 L -84.394817,33.660703 L -84.394723,33.659766 L -84.394703,33.659567 L -84.394698,33.658493 L -84.394794,33.656785 L -84.394845,33.656459 L -84.394842,33.656435 L -84.395086,33.656274 L -84.395318,33.656121 L -84.395453,33.655404 L -84.395528,33.655151 L -84.395992,33.654509 L -84.396073,33.654438 L -84.396177,33.654369 L -84.396519,33.654214 L -84.396558,33.654041 L -84.396762,33.653125 L -84.396859,33.653154 L -84.396946,33.65318 L -84.397041,33.653205 L -84.397239,33.653258 L -84.399316,33.653703 L -84.399322,33.653436 L -84.399326,33.653262 L -84.399398,33.65027 L -84.399406,33.649951 L -84.3998115,33.6483493 L -84.3759615,33.6482226 L -84.3698902,33.6480683 L -84.365306,33.647809 L -84.365271,33.64781 L -84.365256,33.64781 L -84.365179,33.647812 L -84.360941,33.647895 L -84.360311,33.647907 L -84.360224,33.647909 L -84.359959,33.647902 L -84.359887,33.6479 L -84.359812,33.647898 L -84.359765,33.647897 L -84.359609,33.647886 L -84.359591,33.647893 L -84.359116,33.64788 L -84.358524,33.647865 L -84.356434,33.647811 L -84.356212,33.647808 L -84.35619,33.647808 L -84.355859,33.647808 L -84.354024,33.647808 L -84.353792,33.647812 L -84.353751,33.647813 L -84.353669,33.647815 L -84.350224,33.647908 L -84.350201,33.648961 L -84.350117,33.652763 L -84.35006,33.655346 L -84.350006,33.657807 L -84.349924,33.661408 L -84.349917,33.661541 L -84.349914,33.661596 L -84.34991,33.661687 L -84.349888,33.662163 L -84.349819,33.663619 L -84.349818,33.663637 L -84.349817,33.663654 L -84.349808,33.663842 L -84.349799,33.664035 L -84.349723,33.665755 L -84.349424,33.674308 L -84.349524,33.676008 L -84.349424,33.678408 L -84.349424,33.680208 L -84.349414,33.680346 L -84.349302,33.68196 L -84.349237,33.682897 L -84.349233,33.682959 L -84.349223,33.683107 L -84.349223,33.683253 L -84.349223,33.683944 L -84.349223,33.685292 L -84.349223,33.687653 L -84.349224,33.688372 L -84.349224,33.689307 L -84.349224,33.689907 L -84.349242,33.690211 L -84.349291,33.69112 L -84.349318,33.691518 L -84.349367,33.692193 L -84.349413,33.69257 L -84.349482,33.693727 L -84.349578,33.695307 L -84.349581,33.695513 L -84.34961,33.697197 L -84.349546,33.698159 L -84.349523,33.69851 L -84.349516,33.698721 L -84.349508,33.69903 L -84.349489,33.699821 L -84.349484,33.700583 L -84.349487,33.700619 L -84.34948,33.700848 L -84.349477,33.701271 L -84.349502,33.703469 L -84.3495,33.70412 L -84.3495,33.704406 L -84.3495,33.704697 L -84.3495053,33.7061689 L -84.3495129,33.7082955 L -84.349513,33.708327 L -84.3495125,33.7085422 L -84.3495121,33.7087214 L -84.3495116,33.7089968 L -84.349511,33.709266 L -84.3495109,33.7094747 L -84.3495108,33.7095855 L -84.3495097,33.7113606 L -84.349508,33.714178 L -84.3495077,33.7142369 L -84.349501,33.715533 L -84.349501,33.715543 L -84.3495004,33.715683 L -84.3494995,33.715877 L -84.3494993,33.715941 L -84.3494989,33.71603 L -84.349495,33.716137 L -84.3494917,33.7164677 L -84.3494917,33.716469 L -84.3494895,33.7166884 L -84.3494883,33.7168159 L -84.3494858,33.7170609 L -84.34948,33.71765 L -84.349476,33.71835 L -84.3494712,33.718865 L -84.349466,33.71942 L -84.349459,33.720717 L -84.349458,33.720893 L -84.34944,33.721808 L -84.349438,33.722212 L -84.349438,33.722239 L -84.349232,33.722187 L -84.348726,33.722177 L -84.348706,33.723828 L -84.348661,33.726334 L -84.348634,33.727591 L -84.348614,33.729061 L -84.348598,33.73247 L -84.340082,33.732407 L -84.340062,33.732885 L -84.340065,33.732978 L -84.339972,33.732908 L -84.339383,33.73242 L -84.338886,33.732015 L -84.338894,33.731997 L -84.338594,33.731745 L -84.33853,33.731667 L -84.338492,33.731614 L -84.338316,33.731469 L -84.337825,33.731076 L -84.33726,33.730659 L -84.337157,33.7306 L -84.337092,33.730555 L -84.337084,33.730402 L -84.3366962,33.7300848 L -84.335974,33.729494 L -84.334945,33.728727 L -84.334275,33.727283 L -84.334202,33.727184 L -84.334189,33.726884 L -84.333985,33.726889 L -84.33387,33.726593 L -84.333674,33.726162 L -84.333484,33.725795 L -84.333409,33.725795 L -84.33335,33.725543 L -84.333229,33.725315 L -84.333182,33.725193 L -84.333128,33.724999 L -84.332872,33.72365 L -84.332741,33.723028 L -84.332741,33.722997 L -84.332728,33.722946 L -84.332427,33.722074 L -84.332276,33.721654 L -84.332205,33.721555 L -84.332099,33.721296 L -84.331899,33.720707 L -84.3318,33.720631 L -84.331711,33.720569 L -84.33076,33.719287 L -84.330709,33.719144 L -84.330602,33.718627 L -84.329934,33.718611 L -84.329926,33.71844 L -84.329286,33.71844 L -84.3293,33.718827 L -84.329277,33.719186 L -84.329222,33.71928 L -84.329055,33.719687 L -84.328694,33.720641 L -84.328504,33.721121 L -84.328426,33.72126 L -84.328373,33.721336 L -84.328119,33.721658 L -84.327675,33.722239 L -84.327244,33.722771 L -84.326957,33.72298 L -84.326489,33.723298 L -84.325954,33.723631 L -84.324657,33.724263 L -84.324175,33.72447 L -84.323932,33.724582 L -84.323652,33.724703 L -84.322837,33.725129 L -84.322078,33.725527 L -84.321951,33.72562 L -84.320885,33.726288 L -84.321434,33.726564 L -84.321482,33.726615 L -84.321879,33.726869 L -84.323165,33.727673 L -84.323291,33.72776 L -84.323529,33.727903 L -84.324004,33.7282 L -84.324623,33.728595 L -84.325554,33.729197 L -84.326095,33.729532 L -84.326768,33.729786 L -84.326872,33.729836 L -84.328264,33.730396 L -84.328405,33.730458 L -84.32883,33.730624 L -84.32901,33.730674 L -84.329096,33.73069 L -84.329251,33.730703 L -84.329273,33.730701 L -84.329376,33.730706 L -84.329388,33.737785 L -84.328603,33.737772 L -84.329162,33.738762 L -84.328778,33.738971 L -84.328631,33.739035 L -84.328655,33.739071 L -84.32878,33.739218 L -84.328846,33.73928 L -84.328967,33.739381 L -84.329274,33.739618 L -84.329302,33.739654 L -84.329357,33.739756 L -84.329392,33.739831 L -84.329259,33.739867 L -84.328653,33.739845 L -84.328274,33.739841 L -84.327704,33.739824 L -84.327285,33.739831 L -84.327104,33.73987 L -84.327104,33.740121 L -84.327112,33.740191 L -84.32713,33.74027 L -84.327192,33.740426 L -84.327335,33.740702 L -84.327805,33.741564 L -84.327912,33.74191 L -84.327998,33.742235 L -84.3282048,33.743055 L -84.328333,33.743563 L -84.328724,33.744649 L -84.328739,33.7447 L -84.328744,33.744742 L -84.328746,33.744894 L -84.328716,33.745529 L -84.328693,33.745787 L -84.32857,33.747417 L -84.327253,33.747409 L -84.32525,33.747374 L -84.3237358,33.7473695 L -84.323313,33.7473682 L -84.3229845,33.7473699 L -84.3226478,33.7473664 L -84.3207964,33.7473247 L -84.320023,33.747332 L -84.32002,33.746612 L -84.316998,33.746566 L -84.31703,33.74477 L -84.319372,33.744733 L -84.319674,33.744715 L -84.320325,33.745614 L -84.320354,33.744698 L -84.320476,33.741613 L -84.322081,33.741049 L -84.322969,33.741042 L -84.323008,33.739865 L -84.323,33.739719 L -84.322088,33.739695 L -84.321581,33.739699 L -84.32132,33.739719 L -84.321096,33.739777 L -84.320909,33.739835 L -84.320561,33.739985 L -84.320562,33.739571 L -84.31829,33.739736 L -84.315339,33.739621 L -84.315324,33.739123 L -84.315317,33.738094 L -84.315338,33.737424 L -84.313497,33.736679 L -84.312834,33.737719 L -84.312555,33.738135 L -84.312469,33.738226 L -84.31368,33.738215 L -84.313721,33.739544 L -84.310449,33.739447 L -84.308066,33.739389 L -84.306594,33.73936 L -84.305015,33.739324 L -84.303746,33.739281 L -84.3037,33.739901 L -84.303537,33.739898 L -84.303588,33.739276 L -84.300735,33.739209 L -84.300454,33.739207 L -84.300486,33.738646 L -84.298416,33.738594 L -84.29844,33.737948 L -84.297945,33.737936 L -84.297779,33.737981 L -84.297785,33.737816 L -84.296799,33.73779 L -84.296782,33.73829 L -84.297768,33.738316 L -84.297933,33.738315 L -84.297924,33.738595 L -84.296111,33.738561 L -84.295523,33.738562 L -84.295411,33.73905 L -84.295356,33.739343 L -84.29533,33.739456 L -84.294927,33.739311 L -84.294366,33.739129 L -84.293824,33.739021 L -84.293196,33.738963 L -84.292632,33.738958 L -84.291139,33.738892 L -84.290296,33.738866 L -84.290297,33.738942 L -84.290245,33.740372 L -84.290142,33.740399 L -84.290254,33.74064 L -84.290219,33.740792 L -84.290212,33.740915 L -84.289824,33.741037 L -84.289875,33.741146 L -84.290209,33.741036 L -84.290175,33.741785 L -84.290241,33.741927 L -84.290167,33.741951 L -84.290166,33.742013 L -84.289698,33.742152 L -84.290086,33.743006 L -84.290504,33.74384 L -84.290974,33.744758 L -84.29077,33.744769 L -84.290185,33.744766 L -84.28989,33.74476 L -84.289758,33.74475 L -84.289671,33.744737 L -84.28956,33.744704 L -84.289787,33.745196 L -84.290573,33.747065 L -84.290807,33.747064 L -84.290866,33.747933 L -84.29093,33.748265 L -84.290927,33.748652 L -84.290954,33.748638 L -84.290953,33.748806 L -84.290962,33.748846 L -84.290972,33.749446 L -84.290948,33.749782 L -84.290928,33.750523 L -84.290933,33.750664 L -84.290926,33.751003 L -84.290901,33.751003 L -84.290894,33.75161 L -84.290849,33.752392 L -84.290797,33.752387 L -84.2907,33.752883 L -84.290697,33.75315 L -84.290813,33.753167 L -84.291933,33.753346 L -84.29323,33.753442 L -84.293592,33.753461 L -84.294391,33.753508 L -84.294534,33.753511 L -84.295634,33.753565 L -84.295862,33.7536 L -84.295992,33.753638 L -84.296325,33.753932 L -84.296788,33.754208 L -84.297115,33.754343 L -84.297267,33.754366 L -84.297515,33.754372 L -84.29814,33.754405 L -84.298681,33.754476 L -84.300318,33.754591 L -84.301401,33.754674 L -84.302473,33.754756 L -84.30251,33.753553 L -84.304011,33.753552 L -84.304527,33.75256 L -84.304671,33.752381 L -84.305215,33.752388 L -84.306676,33.752406 L -84.308212,33.752393 L -84.30976,33.752392 L -84.311219,33.752425 L -84.311227,33.751706 L -84.312223,33.751705 L -84.311243,33.7528 L -84.30977,33.754003 L -84.309771,33.754048 L -84.30979,33.754102 L -84.309828,33.754145 L -84.31,33.754343 L -84.310255,33.754706 L -84.310338,33.754854 L -84.310385,33.754994 L -84.310443,33.755304 L -84.311814,33.7553 L -84.311877,33.7553 L -84.311969,33.755125 L -84.312005,33.7553 L -84.312311,33.7553 L -84.312329,33.756884 L -84.312422,33.761105 L -84.312392,33.763831 L -84.312487,33.764612 L -84.312492,33.764925 L -84.312494,33.76508 L -84.312495,33.765097 L -84.312495,33.765142 L -84.312497,33.765253 L -84.3125,33.765425 L -84.312649,33.765416 L -84.313734,33.765372 L -84.314602,33.765287 L -84.315493,33.765123 L -84.31577,33.765048 L -84.315873,33.764912 L -84.316118,33.764829 L -84.316985,33.764822 L -84.316996,33.76562 L -84.316994,33.766133 L -84.319075,33.766129 L -84.31979,33.767558 L -84.321016,33.767576 L -84.321023,33.767781 L -84.322915,33.767786 L -84.32294,33.769106 L -84.322941,33.769649 L -84.326782,33.769689 L -84.326799,33.767871 L -84.32831,33.767884 L -84.328376,33.76787 L -84.328437,33.768881 L -84.328427,33.771459 L -84.328609,33.770557 L -84.329026,33.770553 L -84.329045,33.771 L -84.328862,33.77155 L -84.328839,33.77163 L -84.331416,33.771648 L -84.330405,33.772745 L -84.3302883,33.7726699 L -84.330063,33.772525 L -84.330018,33.773851 L -84.330063,33.778172 L -84.330064,33.779253 L -84.33184,33.779249 L -84.33225,33.778071 L -84.333359,33.7786152 L -84.3330981,33.7789551 L -84.3328861,33.7792415 L -84.3328453,33.7793153 L -84.332838,33.779595 L -84.332895,33.779706 L -84.333408,33.779481 L -84.333604,33.779358 L -84.333659,33.779314 L -84.338221,33.779238 L -84.338137,33.779177 L -84.33739,33.778686 L -84.337411,33.778663 L -84.337641,33.778467 L -84.337693,33.778501 L -84.338666,33.779259 L -84.34223,33.779281 L -84.344388,33.779304 L -84.344524,33.779366 L -84.344841,33.779493 L -84.344966,33.779326 L -84.34507,33.779324 L -84.34519,33.779328 L -84.345803,33.77956 L -84.347439,33.780238 L -84.347437,33.7804 L -84.347294,33.782923 L -84.347294,33.783052 L -84.348057,33.78306 L -84.348058,33.783041 L -84.348141,33.783045 L -84.3483802,33.783047 L -84.348425,33.783405 L -84.348425,33.783832 L -84.348425,33.785805 L -84.348425,33.786537 L -84.348425,33.787564 L -84.348425,33.788946 L -84.348293,33.789091 L -84.348172,33.789224 L -84.348239,33.789268 L -84.348426,33.789391 L -84.34843,33.790519 L -84.348298,33.791511 L -84.348284,33.791569 L -84.348277,33.791596 L -84.348274,33.791609 L -84.348225,33.791805 L -84.348252,33.791965 L -84.348265,33.792045 L -84.348273,33.792094 L -84.347605,33.792089 L -84.347574,33.791563 L -84.347868,33.791542 L -84.347874,33.79095 L -84.347259,33.790951 L -84.346946,33.790961 L -84.346742,33.790958 L -84.346766,33.79152 L -84.34676,33.791621 L -84.346551,33.791637 L -84.346561,33.790956 L -84.346291,33.79096 L -84.345911,33.790976 L -84.346158,33.791435 L -84.3462,33.791662 L -84.346113,33.791669 L -84.345782,33.79165 L -84.345781,33.792075 L -84.345277,33.792072 L -84.345162,33.793479 L -84.345047,33.794795 L -84.345156,33.794864 L -84.345067,33.795407 L -84.345073,33.795627 L -84.345096,33.795973 L -84.34498,33.796115 L -84.344842,33.79613 L -84.343908,33.796119 L -84.343912,33.79513 L -84.343928,33.794823 L -84.343548,33.794614 L -84.342947,33.794269 L -84.341501,33.793217 L -84.341182,33.793074 L -84.340829,33.793012 L -84.340403,33.793072 L -84.340047,33.793138 L -84.339834,33.793155 L -84.339657,33.793137 L -84.339473,33.793081 L -84.339334,33.793012 L -84.339281,33.792968 L -84.339269,33.793072 L -84.339279,33.793649 L -84.340493,33.793626 L -84.340512,33.79368 L -84.34057,33.793761 L -84.340613,33.793788 L -84.341356,33.794322 L -84.340946,33.794706 L -84.341407,33.795049 L -84.341374,33.79512 L -84.341333,33.795133 L -84.341326,33.795512 L -84.341131,33.795649 L -84.340915,33.796106 L -84.341847,33.796109 L -84.341547,33.796486 L -84.340539,33.797782 L -84.338846,33.799942 L -84.338421,33.800495 L -84.338516,33.800687 L -84.338499,33.801009 L -84.338255,33.80109 L -84.338501,33.801541 L -84.33844,33.802289 L -84.338421,33.802579 L -84.338388,33.802918 L -84.338322,33.803786 L -84.338075,33.803599 L -84.338018,33.803897 L -84.337885,33.804198 L -84.337733,33.804487 L -84.337925,33.804589 L -84.338269,33.804437 L -84.33826,33.804582 L -84.338411,33.804587 L -84.340694,33.804614 L -84.34112,33.804589 L -84.341514,33.804606 L -84.341951,33.804608 L -84.342496,33.804619 L -84.342665,33.804637 L -84.344429,33.804564 L -84.344811,33.804593 L -84.346411,33.804621 L -84.346996,33.804636 L -84.347115,33.804676 L -84.348066,33.80468 L -84.34816,33.804735 L -84.34817,33.804879 L -84.348183,33.805076 L -84.34806,33.805066 L -84.347965,33.805068 L -84.347971,33.805232 L -84.348057,33.805226 L -84.348194,33.805242 L -84.348225,33.805704 L -84.348324,33.806301 L -84.348327,33.806353 L -84.348327,33.806411 L -84.348325,33.807004 L -84.348325,33.808304 L -84.348225,33.809004 L -84.348426,33.809703 L -84.34841,33.809916 L -84.348373,33.810347 L -84.348333,33.810823 L -84.348325,33.810926 L -84.348425,33.811804 L -84.348225,33.812504 L -84.348232,33.812676 L -84.348236,33.812774 L -84.3483,33.81432 L -84.348317,33.814729 L -84.348321,33.814816 L -84.348425,33.817104 L -84.348415,33.817394 L -84.348325,33.820104 L -84.348336,33.82039 L -84.348509,33.82406 L -84.348525,33.824407 L -84.348524,33.824871 L -84.348523,33.824932 L -84.348506,33.825117 L -84.348483,33.825403 L -84.348482,33.825422 L -84.34848,33.825441 L -84.348469,33.825572 L -84.348466,33.825922 L -84.348468,33.826353 L -84.348462,33.82695 L -84.348464,33.827046 L -84.348474,33.8274 L -84.348478,33.827537 L -84.348487,33.827751 L -84.348488,33.827855 L -84.348498,33.82828 L -84.348498,33.828366 L -84.3485,33.828451 L -84.348501,33.828548 L -84.348523,33.829246 L -84.348523,33.829462 L -84.348524,33.830075 L -84.348501,33.830706 L -84.348483,33.830969 L -84.348449,33.83144 L -84.348446,33.8322 L -84.348428,33.835086 L -84.34844,33.836177 L -84.34847,33.836823 L -84.348465,33.837001 L -84.34849,33.83772 L -84.348483,33.838169 L -84.348453,33.839068 L -84.348454,33.839137 L -84.348463,33.839602 L -84.34846,33.839732 L -84.348418,33.841078 L -84.348415,33.841428 L -84.348339,33.841967 L -84.348319,33.84216 L -84.34827,33.842585 L -84.348165,33.8435 L -84.34808,33.844333 L -84.348005,33.84502 L -84.348091,33.845293 L -84.348128,33.845403 L -84.34823,33.845708 L -84.348296,33.845914 L -84.348325,33.846003 L -84.348325,33.846225 L -84.348325,33.846716 L -84.348325,33.847582 L -84.348325,33.847962 L -84.348325,33.848947 L -84.348325,33.849321 L -84.348325,33.850094 L -84.348325,33.850285 L -84.348331,33.850504 L -84.348383,33.85249 L -84.348384,33.852541 L -84.348386,33.85263 L -84.348309,33.853945 L -84.348304,33.854034 L -84.348279,33.854238 L -84.348268,33.854337 L -84.348298,33.857486 L -84.3483,33.857634 L -84.348304,33.858433 L -84.348311,33.859375 L -84.34832,33.859888 L -84.348353,33.860527 L -84.348379,33.861052 L -84.34837,33.861548 L -84.348363,33.862089 L -84.348314,33.862146 L -84.34823,33.862224 L -84.348234,33.863471 L -84.348235,33.864077 L -84.348242,33.865209 L -84.348242,33.865699 L -84.348242,33.865753 L -84.348243,33.866001 L -84.348244,33.866128 L -84.348244,33.86634 L -84.3483,33.866589 L -84.348324,33.866696 L -84.348324,33.866781 L -84.348325,33.867193 L -84.348324,33.867633 L -84.348325,33.867903 L -84.348318,33.868329 L -84.348313,33.868565 L -84.348297,33.869375 L -84.348213,33.873596 L -84.348187,33.874734 L -84.348177,33.875229 L -84.348157,33.876219 L -84.348125,33.877803 L -84.348125,33.877871 L -84.348125,33.879089 L -84.348125,33.879203 L -84.348138,33.879316 L -84.348114,33.880129 L -84.348098,33.881362 L -84.348091,33.88191 L -84.348089,33.88209 L -84.348142,33.882117 L -84.348212,33.882154 L -84.348425,33.882265 L -84.348495,33.8823 L -84.348733,33.882071 L -84.349221,33.881944 L -84.349874,33.881983 L -84.350352,33.88201 L -84.35049,33.882008 L -84.35178,33.881991 L -84.353896,33.881961 L -84.354043,33.881645 L -84.354662,33.881075 L -84.355317,33.880474 L -84.355319,33.880284 L -84.35533,33.878937 L -84.356005,33.878944 L -84.355826,33.878683 L -84.355282,33.877973 L -84.357683,33.87801 L -84.35792,33.878012 L -84.359832,33.878042 L -84.359832,33.877602 L -84.359844,33.877036 L -84.360091,33.877025 L -84.360781,33.876993 L -84.361381,33.876965 L -84.361754,33.876946 L -84.362384,33.87733 L -84.36243,33.877358 L -84.362502,33.877574 L -84.362571,33.877708 L -84.362643,33.877793 L -84.362695,33.877876 L -84.362701,33.877982 L -84.362869,33.878081 L -84.362929,33.878162 L -84.362926,33.878232 L -84.363043,33.878327 L -84.363078,33.878366 L -84.362812,33.878693 L -84.364116,33.880111 L -84.364221,33.880111 L -84.36427,33.880109 L -84.364747,33.880119 L -84.364861,33.880126 L -84.365105,33.880141 L -84.366177,33.88014 L -84.366267,33.88014 L -84.366399,33.880032 L -84.366472,33.879964 L -84.36654,33.879891 L -84.366601,33.879813 L -84.36665,33.87973 L -84.36676,33.87957 L -84.366848,33.879519 L -84.367059,33.879469 L -84.367149,33.879415 L -84.367203,33.879335 L -84.367253,33.879252 L -84.36733,33.879185 L -84.367425,33.87914 L -84.367533,33.879121 L -84.367641,33.879111 L -84.367686,33.87911 L -84.367709,33.879109 L -84.367751,33.879109 L -84.367751,33.879098 L -84.367752,33.879028 L -84.367758,33.878496 L -84.367759,33.878356 L -84.367763,33.87803 L -84.367757,33.87791 L -84.368033,33.877908 L -84.368128,33.877907 L -84.368393,33.87791 L -84.370182,33.877947 L -84.370307,33.87795 L -84.370372,33.877954 L -84.372634,33.878082 L -84.373528,33.878133 L -84.373638,33.878091 L -84.37408,33.878085 L -84.375637,33.878095 L -84.375963,33.878091 L -84.376276,33.878099 L -84.376748,33.87813 L -84.377002,33.878146 L -84.377174,33.87815 L -84.378189,33.878149 L -84.3791871,33.878149 L -84.3795852,33.878149 L -84.379787,33.878149 L -84.380826,33.87813 L -84.382068,33.878109 L -84.382428,33.87808 L -84.382662,33.878106 L -84.384161,33.878129 L -84.385224,33.878188 L -84.387366,33.878306 L -84.387347,33.878876 L -84.3873107,33.8804962 L -84.3873,33.880976 L -84.387299,33.881056 L -84.3874,33.881123 L -84.387735,33.881329 L -84.388427,33.881844 L -84.38921,33.882842 L -84.389286,33.883001 L -84.389347,33.882986 L -84.389683,33.883329 L -84.390215,33.883657 L -84.390226,33.883664 L -84.390366,33.883752 L -84.390529,33.883865 L -84.390552,33.883854 L -84.390689,33.883949 L -84.390699,33.884228 L -84.391439,33.884564 L -84.39176,33.884696 L -84.392506,33.885003 L -84.392547,33.885584 L -84.392699,33.885597 L -84.392879,33.885629 L -84.39309,33.885683 L -84.393259,33.885741 L -84.393454,33.885827 L -84.39359,33.885948 L -84.393843,33.886117 L -84.394356,33.886459 L -84.394619,33.886672 L -84.394701,33.886756 L -84.394753,33.886823 L -84.394815,33.886779 L -84.395482,33.886336 L -84.395127,33.885922 L -84.39484,33.885587 L -84.394645,33.88536 L -84.39393,33.884855 L -84.393601,33.8845 L -84.393326,33.884203 L -84.392842,33.883661 L -84.392647,33.883442 L -84.392253,33.883147 L -84.391883,33.88287 L -84.391465,33.882558 L -84.391284,33.882422 L -84.39122,33.882374 L -84.391077,33.882183 L -84.390762,33.881763 L -84.390356,33.88122 L -84.391013,33.88094 L -84.391252,33.88084 L -84.39103,33.880451 L -84.391002,33.880402 L -84.390814,33.880495 L -84.39032,33.879827 L -84.389651,33.879514 L -84.389207,33.878921 L -84.389061,33.878969 L -84.3889,33.879008 L -84.388735,33.879028 L -84.388563,33.879027 L -84.388564,33.878892 L -84.388598,33.878721 L -84.388606,33.878303 L -84.389334,33.878298 L -84.396028,33.878309 L -84.397243,33.8783 L -84.397238,33.878394 L -84.397232,33.878845 L -84.397226,33.87938 L -84.399282,33.879451 L -84.399281,33.881407 L -84.399376,33.881394 L -84.400402,33.88125 L -84.400498,33.881377 L -84.401035,33.881898 L -84.401036,33.882296 L -84.401133,33.882296 L -84.401134,33.882561 L -84.401135,33.883164 L -84.401135,33.883285 L -84.401136,33.884121 L -84.401138,33.885474 L -84.401138,33.88592 L -84.401516,33.885918 L -84.401818,33.886728 L -84.401837,33.886763 L -84.40259,33.886758 L -84.402755,33.886731 L -84.402949,33.886672 L -84.40303,33.886631 L -84.40305,33.886621 L -84.403196,33.886517 L -84.403309,33.886425 L -84.403502,33.886227 L -84.403683,33.886004 L -84.40393,33.885743 L -84.40416,33.885519 L -84.404284,33.885409 L -84.404353,33.885358 L -84.404455,33.885299 L -84.404558,33.885255 L -84.404683,33.885219 L -84.404784,33.885208 L -84.404883,33.885207 L -84.405021,33.885221 L -84.405034,33.885224 L -84.405122,33.885241 L -84.405126,33.88466 L -84.405142,33.883163 L -84.40515,33.882338 L -84.405493,33.882346 L -84.405789,33.882353 L -84.406979,33.882379 L -84.407022,33.882368 L -84.407027,33.882303 L -84.406873,33.878314 L -84.408132,33.878357 L -84.408173,33.878344 L -84.40964,33.878361 L -84.410734,33.878363 L -84.411704,33.878365 L -84.412596,33.878367 L -84.413656,33.878369 L -84.414269,33.878371 L -84.416478,33.878375 L -84.417553,33.878381 L -84.417665,33.878406 L -84.417777,33.878431 L -84.418601,33.878402 L -84.420831,33.878418 L -84.423221,33.878435 L -84.423268,33.878753 L -84.424599,33.87916 L -84.424701,33.878903 L -84.424881,33.878447 L -84.424966,33.878448 L -84.425362,33.87845 L -84.426319,33.878455 L -84.427276,33.878459 L -84.427988,33.878462 L -84.427928,33.878903 L -84.427779,33.880498 L -84.428173,33.880906 L -84.428312,33.881021 L -84.428605,33.881162 L -84.428759,33.881199 L -84.428936,33.881216 L -84.429015,33.881213 L -84.429747,33.878736 L -84.429818,33.878474 L -84.431203,33.878478 L -84.433059,33.878483 L -84.433535,33.878484 L -84.434885,33.878488 L -84.436346,33.878491 L -84.436342,33.878958 L -84.436261,33.880272 L -84.436346,33.88018 L -84.4367448,33.8801038 L -84.4371053,33.8799473 L -84.4372356,33.8796895 L -84.4371311,33.8794293 L -84.437599,33.879481 L -84.4379116,33.8793689 L -84.4380145,33.8792499 L -84.4381789,33.8793367 L -84.4385634,33.8794591 L -84.4386945,33.879379 L -84.438788,33.879436 L -84.4387427,33.8797644 L -84.438887,33.879884 L -84.4392317,33.8799402 L -84.4394885,33.8798435 L -84.4400308,33.8792802 L -84.440211,33.87908 L -84.440853,33.879079 L -84.441094,33.879085 L -84.44263,33.879177 L -84.442676,33.878623 L -84.44269,33.87853 L -84.442706,33.878445 L -84.442749,33.878268 L -84.442805,33.878094 L -84.442869,33.877922 L -84.442982,33.877668 L -84.443066,33.877502 L -84.443165,33.877342 L -84.443277,33.877188 L -84.443364,33.877083 L -84.443559,33.876933 L -84.44448,33.876297 L -84.446378,33.875232 L -84.446874,33.874793 L -84.447065,33.874643 L -84.447088,33.874617 L -84.447993,33.873914 L -84.449753,33.872519 L -84.451107,33.871021 L -84.451123,33.870776 L -84.451677,33.870159 L -84.451715,33.870116 L -84.451881,33.869932 L -84.452531,33.869208 L -84.453055,33.868625 L -84.453359,33.868288 L -84.453564,33.868058 L -84.453606,33.868011 L -84.453617,33.867999 L -84.453704,33.867901 L -84.453909,33.86764 L -84.454869,33.866662 L -84.455393,33.865746 L -84.455551,33.865439 L -84.455556,33.865429 L -84.455929,33.864703 L -84.455848,33.863332 L -84.454229,33.861004 L -84.454239,33.860361 L -84.454239,33.860269 L -84.454239,33.860034 L -84.454239,33.859789 L -84.454239,33.859731 L -84.454239,33.859707 L -84.454229,33.858904 L -84.454367,33.858764 L -84.454526,33.858602 L -84.454678,33.858447 L -84.454692,33.858433 L -84.454885,33.858236 L -84.455086,33.858032 L -84.455278,33.857884 L -84.456023,33.857312 L -84.459829,33.853204 L -84.460129,33.851804 L -84.459914,33.851416 L -84.459129,33.850004 L -84.458714,33.849035 L -84.45866,33.848904 L -84.458643,33.848863 L -84.458534,33.848605 L -84.458611,33.848287 L -84.458651,33.848019 L -84.458658,33.847971 L -84.458831,33.846434 L -84.458994,33.845599 L -84.459532,33.844298 L -84.459558,33.844235 L -84.459739,33.843798 L -84.460184,33.842184 L -84.460495,33.841123 L -84.460499,33.84111 L -84.460324,33.838948 L -84.457964,33.83381 L -84.456588,33.831374 L -84.456514,33.831242 L -84.455138,33.828806 L -84.455167,33.828572 L -84.455345,33.827521 L -84.455372,33.827359 L -84.455398,33.827197 L -84.455414,33.827097 L -84.455428,33.827016 L -84.455431,33.826997 L -84.455493,33.826808 L -84.455544,33.826656 L -84.455658,33.826316 L -84.455829,33.825804 L -84.455876,33.82577 L -84.457629,33.824504 L -84.457881,33.824578 L -84.459329,33.825004 L -84.463129,33.827104 L -84.463293,33.827113 L -84.46843,33.827404 L -84.469403,33.826901 L -84.469426,33.826889 L -84.47133,33.825905 L -84.47563,33.822005 L -84.47803,33.819805 L -84.480134,33.817319 L -84.48023,33.817205 L -84.48333,33.814705 L -84.48553,33.813605 L -84.488964,33.81282 L -84.488798,33.812537 L -84.488928,33.812505 L -84.494858,33.808131 L -84.495126,33.808542 L -84.499731,33.803705 L -84.500531,33.802605 L -84.502631,33.799405 L -84.507732,33.795707 L -84.507837,33.795604 L -84.507911,33.795532 L -84.507307,33.79524 L -84.508931,33.793806 L -84.512031,33.791806 L -84.515331,33.790106 L -84.515431,33.784006 L -84.515448,33.783291 L -84.515097,33.783235 L -84.514811,33.78316 L -84.514441,33.783024 L -84.514238,33.782998 L -84.514131,33.783007 L -84.514027,33.783031 L -84.513551,33.783232 L -84.51321,33.783324 L -84.512864,33.783393 L -84.5125,33.783432 L -84.5122172,33.7833935 L -84.510762,33.783408 L -84.5090592,33.7833616 L -84.5086475,33.7833634 L -84.507991,33.783405 L -84.506892,33.78345 L -84.509398,33.781067 L -84.509996,33.780455 L -84.5102338,33.7802015 L -84.5107011,33.7796459 L -84.5112137,33.7789688 L -84.5115313,33.7784502 L -84.511695,33.7785148 L -84.514405,33.774005 L -84.515431,33.774001 L -84.515441,33.773338 L -84.515509,33.772746 L -84.51545,33.769445 L -84.51545,33.765 L -84.515428,33.762709 L -84.517606,33.762514 L -84.524978,33.762695 L -84.524954,33.757977 L -84.52563,33.757903 L -84.535008,33.757952 L -84.535007,33.757207 L -84.535034,33.751252 L -84.535672,33.751271 L -84.535925,33.751239 L -84.536042,33.751197 L -84.536115,33.751143 L -84.537478,33.749803 L -84.538154,33.749156 L -84.538808,33.749235 L -84.539759,33.749338 L -84.53972,33.748978 L -84.540446,33.748374 L -84.539849,33.747591 L -84.539694,33.747471 L -84.539056,33.747169 L -84.538792,33.74694 L -84.538494,33.746621 L -84.538375,33.746528 L -84.538174,33.746432 L -84.537953,33.746386 L -84.537962,33.744515 L -84.535591,33.744503 L -84.535624,33.742058 L -84.535737,33.738752 L -84.534051,33.738663 L -84.533654,33.738588 L -84.533103,33.73852 L -84.532618,33.738499 L -84.532265,33.738571 L -84.526128,33.738514 L -84.524103,33.738555 L -84.522931,33.737507 L -84.522743,33.737281 L -84.520999,33.736748 L -84.520937,33.737393 L -84.520635,33.737365 L -84.520376,33.73689 L -84.520045,33.736833 L -84.519963,33.736783 L -84.519895,33.736683 L -84.519873,33.736596 L -84.519881,33.736443 L -84.519888,33.736082 L -84.519514,33.73606 L -84.519356,33.735974 L -84.51909,33.735953 L -84.518968,33.73586 L -84.518787,33.735804 L -84.517931,33.736107 L -84.517449,33.736089 L -84.517453,33.734624 L -84.517409,33.732021 L -84.517283,33.731301 L -84.517664,33.731176 L -84.517679,33.730957 L -84.517636,33.730523 L -84.517605,33.730369 L -84.517576,33.730279 L -84.517482,33.7302 L -84.514782,33.727492 L -84.513681,33.729369 L -84.513597,33.7295 L -84.511225,33.730808 L -84.510514,33.73122 L -84.510241,33.731484 L -84.509203,33.732505 L -84.509436,33.737355 L -84.508779,33.739796 L -84.508536,33.739682 L -84.508155,33.739528 L -84.507943,33.73946 L -84.507498,33.739361 L -84.507244,33.73933 L -84.50702,33.739318 L -84.505841,33.739354 L -84.505833,33.731603 L -84.50259,33.731626 L -84.50165,33.731603 L -84.501688,33.731307 L -84.501715,33.730962 L -84.501726,33.729665 L -84.501486,33.72879 L -84.501768,33.727693 L -84.501728,33.727301 L -84.496469,33.727302 L -84.496405,33.723514 L -84.496437,33.721599 L -84.500137,33.722908 L -84.500391,33.722971 L -84.500469,33.71993 L -84.501698,33.719916 L -84.501658,33.719086 L -84.502345,33.719068 L -84.5023,33.718682 L -84.50191,33.717226 L -84.501624,33.716554 L -84.501104,33.715486 L -84.501342,33.715441 L -84.501532,33.715411 L -84.506029,33.715408 L -84.50611,33.713207 L -84.510399,33.71316 L -84.510865,33.713176 L -84.511997,33.713175 L -84.512431,33.71318 L -84.512267,33.714051 L -84.513064,33.714034 L -84.51323,33.714008 L -84.515429,33.713809 L -84.51632,33.713804 L -84.515762,33.71451 L -84.515527,33.714905 L -84.515328,33.715313 L -84.515097,33.716049 L -84.51484,33.717027 L -84.514567,33.717972 L -84.514302,33.719076 L -84.514239,33.719361 L -84.514151,33.719702 L -84.514027,33.720234 L -84.513958,33.720557 L -84.513934,33.72077 L -84.51388,33.721375 L -84.513853,33.721821 L -84.513861,33.722063 L -84.515822,33.722088 L -84.517209,33.72211 L -84.517557,33.72211 L -84.517657,33.722007 L -84.517931,33.721778 L -84.518247,33.721582 L -84.518447,33.721496 L -84.518072,33.720912 L -84.518671,33.72062 L -84.519163,33.721091 L -84.519253,33.72114 L -84.519136,33.721199 L -84.518796,33.721345 L -84.519112,33.722103 L -84.522869,33.722088 L -84.522804,33.725834 L -84.522967,33.725836 L -84.522995,33.724233 L -84.524194,33.72423 L -84.524165,33.725848 L -84.5246975,33.7258541 L -84.525276,33.72586 L -84.525495,33.725889 L -84.526042,33.726029 L -84.526383,33.726099 L -84.526763,33.726151 L -84.527137,33.726178 L -84.527241,33.726179 L -84.527247,33.726235 L -84.527254,33.730107 L -84.527143,33.730106 L -84.526985,33.731191 L -84.526585,33.732101 L -84.527073,33.732326 L -84.529734,33.733482 L -84.529921,33.73354 L -84.530292,33.733615 L -84.531863,33.733902 L -84.53309,33.734143 L -84.535456,33.734692 L -84.5357,33.734724 L -84.535959,33.734724 L -84.536137,33.734702 L -84.536255,33.73467 L -84.536772,33.73446 L -84.53728,33.734259 L -84.537762,33.734091 L -84.538288,33.733933 L -84.538813,33.733801 L -84.539624,33.733613 L -84.540018,33.73354 L -84.540477,33.733486 L -84.541092,33.733454 L -84.54113,33.733233 L -84.541146,33.732991 L -84.541135,33.732749 L -84.541101,33.732519 L -84.540375,33.729706 L -84.540221,33.729172 L -84.540149,33.72897 L -84.539891,33.728431 L -84.54876,33.72843 L -84.550927,33.728433 L -84.550931,33.728047 L -84.551068,33.720793 z M -84.3823845,33.8772452 L -84.3823715,33.8773747 L -84.3823195,33.8773701 L -84.3822693,33.8773662 L -84.3822814,33.8772352 L -84.3823334,33.8772398 L -84.3823845,33.8772452 z\" /><path fill-rule=\"evenodd\" fill=\"#66cc99\" stroke=\"#555555\" stroke-width=\"0.005648572800000409\" opacity=\"0.6\" d=\"M -84.428552,33.657605 L -84.428549,33.657486 L -84.428547,33.657431 L -84.428527,33.656609 L -84.428427,33.656409 L -84.428477,33.654966 L -84.428514,33.653658 L -84.428527,33.653309 L -84.4283366,33.6486152 L -84.4189784,33.6485457 L -84.4190635,33.6539673 L -84.4190521,33.6558439 L -84.4215496,33.6572721 L -84.4202245,33.6588111 L -84.421382,33.658878 L -84.422882,33.658903 L -84.425816,33.658945 L -84.426889,33.65896 L -84.427007,33.65896 L -84.427001,33.657646 L -84.42698,33.657608 L -84.428552,33.657605 z\" /></g></g></svg>"
      ],
      "text/plain": [
       "<shapely.geometry.multipolygon.MultiPolygon at 0x7f9603879e20>"
      ]
     },
     "execution_count": 87,
     "metadata": {},
     "output_type": "execute_result"
    }
   ],
   "source": [
    "atlanta.iloc[0]['geometry']"
   ]
  },
  {
   "cell_type": "markdown",
   "metadata": {},
   "source": [
    "Download the graph for the drive network in Atlanta.\n",
    "This takes a while to finish running.\n",
    "There are a total of 12794 nodes and 33372 edges."
   ]
  },
  {
   "cell_type": "code",
   "execution_count": null,
   "metadata": {
    "ExecuteTime": {
     "end_time": "2023-09-10T22:20:17.648689Z",
     "start_time": "2023-09-10T22:18:43.793406Z"
    }
   },
   "outputs": [],
   "source": [
    "G = ox.graph_from_polygon(atlanta.iloc[0]['geometry'],\n",
    "                          network_type=\"drive\")"
   ]
  },
  {
   "cell_type": "markdown",
   "metadata": {
    "ExecuteTime": {
     "end_time": "2023-09-10T22:20:28.627512Z",
     "start_time": "2023-09-10T22:20:28.597725Z"
    }
   },
   "source": [
    "Let's choose a smaller area for this demo."
   ]
  },
  {
   "cell_type": "code",
   "execution_count": 100,
   "metadata": {
    "ExecuteTime": {
     "end_time": "2023-09-11T20:40:38.143473Z",
     "start_time": "2023-09-11T20:40:38.141007Z"
    }
   },
   "outputs": [],
   "source": [
    "# define a bounding box in Atlanta near the GT campus\n",
    "north, south, east, west = 33.79, 33.75, -84.38, -84.41"
   ]
  },
  {
   "cell_type": "code",
   "execution_count": 101,
   "metadata": {
    "ExecuteTime": {
     "end_time": "2023-09-11T20:41:43.354095Z",
     "start_time": "2023-09-11T20:40:39.693254Z"
    }
   },
   "outputs": [],
   "source": [
    "# create network from that bounding box\n",
    "G_box = ox.graph_from_bbox(north, south, east, west, network_type=\"drive\")"
   ]
  },
  {
   "cell_type": "markdown",
   "metadata": {},
   "source": [
    "Let's check the network that we have just extracted:"
   ]
  },
  {
   "cell_type": "code",
   "execution_count": 102,
   "metadata": {
    "ExecuteTime": {
     "end_time": "2023-09-11T20:43:14.493655Z",
     "start_time": "2023-09-11T20:43:14.489065Z"
    }
   },
   "outputs": [
    {
     "name": "stdout",
     "output_type": "stream",
     "text": [
      "The graph has 836 nodes and 2094 edges\n"
     ]
    }
   ],
   "source": [
    "print(f'The graph has {G_box.number_of_nodes()} nodes and {G_box.number_of_edges()} edges')"
   ]
  },
  {
   "cell_type": "markdown",
   "metadata": {},
   "source": [
    "## Save street networks"
   ]
  },
  {
   "cell_type": "markdown",
   "metadata": {},
   "source": [
    "### GeoPackages for GIS"
   ]
  },
  {
   "cell_type": "code",
   "execution_count": null,
   "metadata": {
    "ExecuteTime": {
     "end_time": "2023-09-11T17:08:55.304163Z",
     "start_time": "2023-09-11T17:08:43.399682Z"
    }
   },
   "outputs": [],
   "source": [
    "# save graph as a geopackage\n",
    "ox.save_graph_geopackage(G, filepath=\"../Exercise/G_box.gpkg\")"
   ]
  },
  {
   "cell_type": "markdown",
   "metadata": {},
   "source": [
    "### GraphML files for saving network and preserving topological detail"
   ]
  },
  {
   "cell_type": "code",
   "execution_count": 103,
   "metadata": {
    "ExecuteTime": {
     "end_time": "2023-09-11T20:44:15.561671Z",
     "start_time": "2023-09-11T20:44:15.291986Z"
    }
   },
   "outputs": [],
   "source": [
    "# save/load graph as a graphml file: this is the best way to save your model\n",
    "# for subsequent work later\n",
    "filepath = \"../Exercise/G_box.graphml\"\n",
    "ox.save_graphml(G_box, filepath)\n",
    "G = ox.load_graphml(filepath)"
   ]
  },
  {
   "cell_type": "code",
   "execution_count": 104,
   "metadata": {
    "ExecuteTime": {
     "end_time": "2023-09-11T20:44:41.619932Z",
     "start_time": "2023-09-11T20:44:41.418901Z"
    }
   },
   "outputs": [],
   "source": [
    "G = ox.load_graphml(filepath)"
   ]
  },
  {
   "cell_type": "code",
   "execution_count": 105,
   "metadata": {
    "ExecuteTime": {
     "end_time": "2023-09-11T20:44:53.801854Z",
     "start_time": "2023-09-11T20:44:53.798551Z"
    }
   },
   "outputs": [
    {
     "data": {
      "text/plain": [
       "836"
      ]
     },
     "execution_count": 105,
     "metadata": {},
     "output_type": "execute_result"
    }
   ],
   "source": [
    "G.number_of_nodes()"
   ]
  },
  {
   "cell_type": "code",
   "execution_count": 106,
   "metadata": {
    "ExecuteTime": {
     "end_time": "2023-09-11T20:45:01.424959Z",
     "start_time": "2023-09-11T20:45:01.420115Z"
    }
   },
   "outputs": [
    {
     "data": {
      "text/plain": [
       "2094"
      ]
     },
     "execution_count": 106,
     "metadata": {},
     "output_type": "execute_result"
    }
   ],
   "source": [
    "G.number_of_edges()"
   ]
  },
  {
   "cell_type": "code",
   "execution_count": null,
   "metadata": {},
   "outputs": [],
   "source": []
  }
 ],
 "metadata": {
  "kernelspec": {
   "display_name": "wb1",
   "language": "python",
   "name": "wb1"
  },
  "language_info": {
   "codemirror_mode": {
    "name": "ipython",
    "version": 3
   },
   "file_extension": ".py",
   "mimetype": "text/x-python",
   "name": "python",
   "nbconvert_exporter": "python",
   "pygments_lexer": "ipython3",
   "version": "3.9.0"
  },
  "toc": {
   "base_numbering": 1,
   "nav_menu": {},
   "number_sections": true,
   "sideBar": true,
   "skip_h1_title": false,
   "title_cell": "Table of Contents",
   "title_sidebar": "Contents",
   "toc_cell": true,
   "toc_position": {
    "height": "calc(100% - 180px)",
    "left": "10px",
    "top": "150px",
    "width": "165px"
   },
   "toc_section_display": true,
   "toc_window_display": true
  }
 },
 "nbformat": 4,
 "nbformat_minor": 4
}
