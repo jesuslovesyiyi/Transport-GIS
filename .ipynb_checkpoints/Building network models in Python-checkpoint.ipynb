{
 "cells": [
  {
   "cell_type": "markdown",
   "metadata": {
    "toc": true
   },
   "source": [
    "<h1>Table of Contents<span class=\"tocSkip\"></span></h1>\n",
    "<div class=\"toc\"><ul class=\"toc-item\"><li><span><a href=\"#Install-pandas-and-networkx-libraries\" data-toc-modified-id=\"Install-pandas-and-networkx-libraries-1\"><span class=\"toc-item-num\">1&nbsp;&nbsp;</span>Install pandas and networkx libraries</a></span></li><li><span><a href=\"#Start-a-Jupyter-Notebook-Session\" data-toc-modified-id=\"Start-a-Jupyter-Notebook-Session-2\"><span class=\"toc-item-num\">2&nbsp;&nbsp;</span>Start a Jupyter Notebook Session</a></span><ul class=\"toc-item\"><li><span><a href=\"#Simple-calculations\" data-toc-modified-id=\"Simple-calculations-2.1\"><span class=\"toc-item-num\">2.1&nbsp;&nbsp;</span>Simple calculations</a></span></li><li><span><a href=\"#Working-with-lists\" data-toc-modified-id=\"Working-with-lists-2.2\"><span class=\"toc-item-num\">2.2&nbsp;&nbsp;</span>Working with lists</a></span></li><li><span><a href=\"#Basic-data-structures-in-pandas\" data-toc-modified-id=\"Basic-data-structures-in-pandas-2.3\"><span class=\"toc-item-num\">2.3&nbsp;&nbsp;</span>Basic data structures in pandas</a></span></li></ul></li><li><span><a href=\"#Network-modeling-with-NetworkX\" data-toc-modified-id=\"Network-modeling-with-NetworkX-3\"><span class=\"toc-item-num\">3&nbsp;&nbsp;</span>Network modeling with NetworkX</a></span><ul class=\"toc-item\"><li><span><a href=\"#Creating-a-Graph\" data-toc-modified-id=\"Creating-a-Graph-3.1\"><span class=\"toc-item-num\">3.1&nbsp;&nbsp;</span>Creating a Graph</a></span></li><li><span><a href=\"#Examining-elements-of-a-graph\" data-toc-modified-id=\"Examining-elements-of-a-graph-3.2\"><span class=\"toc-item-num\">3.2&nbsp;&nbsp;</span>Examining elements of a graph</a></span></li><li><span><a href=\"#Accessing-edges-and-neighbors\" data-toc-modified-id=\"Accessing-edges-and-neighbors-3.3\"><span class=\"toc-item-num\">3.3&nbsp;&nbsp;</span>Accessing edges and neighbors</a></span></li><li><span><a href=\"#Adding-attributes-to-graphs,-nodes,-and-edges\" data-toc-modified-id=\"Adding-attributes-to-graphs,-nodes,-and-edges-3.4\"><span class=\"toc-item-num\">3.4&nbsp;&nbsp;</span>Adding attributes to graphs, nodes, and edges</a></span><ul class=\"toc-item\"><li><span><a href=\"#Node-attributes\" data-toc-modified-id=\"Node-attributes-3.4.1\"><span class=\"toc-item-num\">3.4.1&nbsp;&nbsp;</span>Node attributes</a></span></li><li><span><a href=\"#Edge-attributes\" data-toc-modified-id=\"Edge-attributes-3.4.2\"><span class=\"toc-item-num\">3.4.2&nbsp;&nbsp;</span>Edge attributes</a></span></li></ul></li><li><span><a href=\"#Reading-a-graph-stored-in-a-file-using-common-graph-formats\" data-toc-modified-id=\"Reading-a-graph-stored-in-a-file-using-common-graph-formats-3.5\"><span class=\"toc-item-num\">3.5&nbsp;&nbsp;</span>Reading a graph stored in a file using common graph formats</a></span></li><li><span><a href=\"#Drawing-graphs\" data-toc-modified-id=\"Drawing-graphs-3.6\"><span class=\"toc-item-num\">3.6&nbsp;&nbsp;</span>Drawing graphs</a></span></li></ul></li><li><span><a href=\"#Intro-to-OSMnx\" data-toc-modified-id=\"Intro-to-OSMnx-4\"><span class=\"toc-item-num\">4&nbsp;&nbsp;</span>Intro to OSMnx</a></span><ul class=\"toc-item\"><li><span><a href=\"#Download-and-model-street-networks\" data-toc-modified-id=\"Download-and-model-street-networks-4.1\"><span class=\"toc-item-num\">4.1&nbsp;&nbsp;</span>Download and model street networks</a></span></li><li><span><a href=\"#Save-street-networks\" data-toc-modified-id=\"Save-street-networks-4.2\"><span class=\"toc-item-num\">4.2&nbsp;&nbsp;</span>Save street networks</a></span><ul class=\"toc-item\"><li><span><a href=\"#GeoPackages-for-GIS\" data-toc-modified-id=\"GeoPackages-for-GIS-4.2.1\"><span class=\"toc-item-num\">4.2.1&nbsp;&nbsp;</span>GeoPackages for GIS</a></span></li><li><span><a href=\"#GraphML-files-for-saving-network-and-preserving-topological-detail\" data-toc-modified-id=\"GraphML-files-for-saving-network-and-preserving-topological-detail-4.2.2\"><span class=\"toc-item-num\">4.2.2&nbsp;&nbsp;</span>GraphML files for saving network and preserving topological detail</a></span></li></ul></li></ul></li><li><span><a href=\"#Bonus:-Pandas-advanced-functions-and-methods\" data-toc-modified-id=\"Bonus:-Pandas-advanced-functions-and-methods-5\"><span class=\"toc-item-num\">5&nbsp;&nbsp;</span>Bonus: Pandas advanced functions and methods</a></span></li></ul></div>"
   ]
  },
  {
   "cell_type": "markdown",
   "metadata": {},
   "source": [
    "# Install pandas and networkx libraries"
   ]
  },
  {
   "cell_type": "markdown",
   "metadata": {},
   "source": [
    "Install pandas library https://pandas.pydata.org/docs/getting_started/install.html\n",
    "\n",
    "> pip install pandas\n"
   ]
  },
  {
   "cell_type": "markdown",
   "metadata": {},
   "source": [
    "Install networkx library https://networkx.org/documentation/stable/install.html\n",
    "> pip install networkx"
   ]
  },
  {
   "cell_type": "code",
   "execution_count": 1,
   "metadata": {
    "ExecuteTime": {
     "end_time": "2024-09-04T19:36:26.302286Z",
     "start_time": "2024-09-04T19:36:25.511341Z"
    }
   },
   "outputs": [],
   "source": [
    "import numpy as np\n",
    "import pandas as pd\n",
    "import networkx as nx"
   ]
  },
  {
   "cell_type": "markdown",
   "metadata": {},
   "source": [
    "# Start a Jupyter Notebook Session"
   ]
  },
  {
   "cell_type": "markdown",
   "metadata": {},
   "source": [
    "If you are using a cloud-based service a Jupyter session will be started when you log on.\n",
    "\n",
    "If you have installed a Jupyter/Python distribution on your laptop then you can open a Jupyter session in one of two different ways:\n",
    "\n",
    "Use the Anaconda Navigator App, or\n",
    "open a terminal window on your laptop and execute the following statement at the command line:\n",
    "\n",
    "  > jupyter notebook"
   ]
  },
  {
   "cell_type": "markdown",
   "metadata": {},
   "source": [
    "At this point the browser displays a list of directories and files. You can navigate amoung the directories in the usual way by clicking on directory names"
   ]
  },
  {
   "cell_type": "markdown",
   "metadata": {},
   "source": [
    "Jupyter notebooks are simply files in a directory with a .ipynb suffix. They can be stored in any directory including Dropbox or Google Drive. Upload and create new Jupyter notebooks in the displayed directory using the appropriate buttons. Use the checkboxes to select items for other actions, such as to duplicate, to rename, or to delete notebooks and directories.\n",
    "\n",
    "- select one of your existing notebooks to work on,\n",
    "- start a new notebook by clicking on the New Notebook button, or\n",
    "- import a notebook from another directory by dragging it onto the list of notebooks.\n",
    "\n",
    "An IPython notebook consists of cells that hold headings, text, or python code. The user interface is relatively self-explanatory. Take a few minutes now to open, rename, and save a new notebook.\n",
    "\n",
    "Here's a quick video (30min21s) overview of Jupyter notebooks."
   ]
  },
  {
   "cell_type": "code",
   "execution_count": null,
   "metadata": {
    "ExecuteTime": {
     "end_time": "2024-09-04T16:44:47.374749Z",
     "start_time": "2024-09-04T16:44:47.300319Z"
    }
   },
   "outputs": [],
   "source": [
    "from IPython.display import YouTubeVideo\n",
    "YouTubeVideo(\"HW29067qVWk\",800,500,rel=0)"
   ]
  },
  {
   "cell_type": "markdown",
   "metadata": {},
   "source": [
    "## Simple calculations"
   ]
  },
  {
   "cell_type": "markdown",
   "metadata": {},
   "source": [
    "Basic arithmetic operations are built into the Python langauge. Here are some examples. In particular, note that exponentiation is done with the ** operator."
   ]
  },
  {
   "cell_type": "code",
   "execution_count": null,
   "metadata": {
    "ExecuteTime": {
     "end_time": "2024-09-04T16:47:52.224516Z",
     "start_time": "2024-09-04T16:47:52.220808Z"
    }
   },
   "outputs": [],
   "source": [
    "a = 3\n",
    "b = 2\n",
    "\n",
    "print(a + b)\n",
    "print(a**b)\n",
    "print(a/b)"
   ]
  },
  {
   "cell_type": "markdown",
   "metadata": {},
   "source": [
    "## Working with lists"
   ]
  },
  {
   "cell_type": "markdown",
   "metadata": {},
   "source": [
    "Lists are a versatile way of organizing your data in Python. Here are some examples:"
   ]
  },
  {
   "cell_type": "code",
   "execution_count": null,
   "metadata": {
    "ExecuteTime": {
     "end_time": "2024-09-04T16:48:12.607390Z",
     "start_time": "2024-09-04T16:48:12.603180Z"
    }
   },
   "outputs": [],
   "source": [
    "xList = [1, 2, 3, 4]\n",
    "xList"
   ]
  },
  {
   "cell_type": "markdown",
   "metadata": {},
   "source": [
    "Concatentation is the operation of joining one list to another."
   ]
  },
  {
   "cell_type": "code",
   "execution_count": null,
   "metadata": {
    "ExecuteTime": {
     "end_time": "2024-09-04T16:48:33.225649Z",
     "start_time": "2024-09-04T16:48:33.221027Z"
    }
   },
   "outputs": [],
   "source": [
    "# Concatenation\n",
    "x = [1, 2, 3, 4];\n",
    "y = [5, 6, 7, 8];\n",
    "\n",
    "x + y"
   ]
  },
  {
   "cell_type": "markdown",
   "metadata": {},
   "source": [
    "Sum a list of numbers"
   ]
  },
  {
   "cell_type": "code",
   "execution_count": null,
   "metadata": {
    "ExecuteTime": {
     "end_time": "2024-09-04T16:49:43.783341Z",
     "start_time": "2024-09-04T16:49:43.779115Z"
    }
   },
   "outputs": [],
   "source": [
    "np.sum(y)"
   ]
  },
  {
   "cell_type": "code",
   "execution_count": null,
   "metadata": {
    "ExecuteTime": {
     "end_time": "2024-09-04T16:49:36.961870Z",
     "start_time": "2024-09-04T16:49:36.957843Z"
    }
   },
   "outputs": [],
   "source": [
    "sum(y)"
   ]
  },
  {
   "cell_type": "markdown",
   "metadata": {},
   "source": [
    "An element-by-element operation between two lists may be performed with"
   ]
  },
  {
   "cell_type": "code",
   "execution_count": null,
   "metadata": {
    "ExecuteTime": {
     "end_time": "2024-09-04T16:51:04.168807Z",
     "start_time": "2024-09-04T16:51:04.165543Z"
    }
   },
   "outputs": [],
   "source": [
    "print(np.add(x,y))"
   ]
  },
  {
   "cell_type": "code",
   "execution_count": null,
   "metadata": {
    "ExecuteTime": {
     "end_time": "2024-09-04T16:51:56.598430Z",
     "start_time": "2024-09-04T16:51:56.595301Z"
    }
   },
   "outputs": [],
   "source": [
    "print(np.dot(x,y))"
   ]
  },
  {
   "cell_type": "markdown",
   "metadata": {},
   "source": [
    "A for loop is a means for iterating over the elements of a list. The colon marks the start of code that will be executed for each element of a list. Indenting has meaning in Python. In this case, everything in the indented block will be executed on each iteration of the for loop. This example also demonstrates string formatting."
   ]
  },
  {
   "cell_type": "code",
   "execution_count": null,
   "metadata": {
    "ExecuteTime": {
     "end_time": "2024-09-04T16:54:28.507522Z",
     "start_time": "2024-09-04T16:54:28.504645Z"
    }
   },
   "outputs": [],
   "source": [
    "for item in xList:\n",
    "    print(\"I am looking at item:\", item)\n",
    "#     break"
   ]
  },
  {
   "cell_type": "code",
   "execution_count": null,
   "metadata": {
    "ExecuteTime": {
     "end_time": "2024-09-04T16:56:01.049683Z",
     "start_time": "2024-09-04T16:56:01.046818Z"
    }
   },
   "outputs": [],
   "source": [
    "for idx, item in enumerate(xList):\n",
    "    print(f\"The index is {idx}, and the value is {item}\")"
   ]
  },
  {
   "cell_type": "markdown",
   "metadata": {},
   "source": [
    "## Basic data structures in pandas"
   ]
  },
  {
   "cell_type": "markdown",
   "metadata": {},
   "source": [
    "Pandas provides two types of classes for handling data:\n",
    "\n",
    "> Series: a one-dimensional labeled array holding data of any type\n",
    "such as integers, strings, Python objects etc.\n",
    "\n",
    "> DataFrame: a two-dimensional data structure that holds data like a two-dimension array or a table with rows and columns."
   ]
  },
  {
   "cell_type": "markdown",
   "metadata": {},
   "source": [
    "Creating a Series by passing a list of values, letting pandas create a default RangeIndex"
   ]
  },
  {
   "cell_type": "code",
   "execution_count": null,
   "metadata": {
    "ExecuteTime": {
     "end_time": "2024-09-04T16:59:00.012494Z",
     "start_time": "2024-09-04T16:59:00.006013Z"
    }
   },
   "outputs": [],
   "source": [
    "s = pd.Series([1, 3, 5, np.nan, 6, 8])\n",
    "s"
   ]
  },
  {
   "cell_type": "markdown",
   "metadata": {},
   "source": [
    "Creating a DataFrame by passing a NumPy array with a datetime index using date_range() and labeled columns"
   ]
  },
  {
   "cell_type": "code",
   "execution_count": null,
   "metadata": {
    "ExecuteTime": {
     "end_time": "2024-09-04T16:59:31.244945Z",
     "start_time": "2024-09-04T16:59:31.238920Z"
    }
   },
   "outputs": [],
   "source": [
    "dates = pd.date_range(\"20240101\", periods=6)\n",
    "dates"
   ]
  },
  {
   "cell_type": "code",
   "execution_count": null,
   "metadata": {
    "ExecuteTime": {
     "end_time": "2024-09-04T17:00:26.265554Z",
     "start_time": "2024-09-04T17:00:26.253384Z"
    }
   },
   "outputs": [],
   "source": [
    "df = pd.DataFrame(np.random.randn(6, 5), index=dates, columns=list(\"ABCDE\"))\n",
    "df"
   ]
  },
  {
   "cell_type": "markdown",
   "metadata": {},
   "source": [
    "Creating a DataFrame by passing a dictionary of objects where the keys are the column labels and the values are the column values."
   ]
  },
  {
   "cell_type": "code",
   "execution_count": null,
   "metadata": {
    "ExecuteTime": {
     "end_time": "2024-09-04T17:01:43.145189Z",
     "start_time": "2024-09-04T17:01:43.138995Z"
    }
   },
   "outputs": [],
   "source": [
    "df2 = pd.DataFrame(\n",
    "    {\n",
    "        \"A\": 1.0,\n",
    "        \"B\": pd.Timestamp(\"20240102\"),\n",
    "        \"C\": pd.Series(1, index=list(range(4)), dtype=\"float32\"),\n",
    "        \"D\": np.array([3] * 4, dtype=\"int32\"),\n",
    "        \"E\": pd.Categorical([\"test\", \"train\", \"test\", \"train\"]),\n",
    "        \"F\": \"foo\",\n",
    "    }\n",
    ")"
   ]
  },
  {
   "cell_type": "code",
   "execution_count": null,
   "metadata": {
    "ExecuteTime": {
     "end_time": "2024-09-04T17:01:45.871551Z",
     "start_time": "2024-09-04T17:01:45.862068Z"
    }
   },
   "outputs": [],
   "source": [
    "df2"
   ]
  },
  {
   "cell_type": "markdown",
   "metadata": {},
   "source": [
    "The columns of the resulting DataFrame have different dtypes"
   ]
  },
  {
   "cell_type": "code",
   "execution_count": null,
   "metadata": {
    "ExecuteTime": {
     "end_time": "2024-09-04T17:02:08.970683Z",
     "start_time": "2024-09-04T17:02:08.966078Z"
    }
   },
   "outputs": [],
   "source": [
    "df2.dtypes"
   ]
  },
  {
   "cell_type": "markdown",
   "metadata": {},
   "source": [
    "Display the DataFrame.index or DataFrame.columns"
   ]
  },
  {
   "cell_type": "code",
   "execution_count": null,
   "metadata": {
    "ExecuteTime": {
     "end_time": "2024-09-04T17:02:35.919176Z",
     "start_time": "2024-09-04T17:02:35.915370Z"
    }
   },
   "outputs": [],
   "source": [
    "df2.index"
   ]
  },
  {
   "cell_type": "markdown",
   "metadata": {},
   "source": [
    "Return a NumPy representation of the underlying data with DataFrame.to_numpy() without the index or column labels"
   ]
  },
  {
   "cell_type": "code",
   "execution_count": null,
   "metadata": {
    "ExecuteTime": {
     "end_time": "2024-09-04T17:03:07.882149Z",
     "start_time": "2024-09-04T17:03:07.874403Z"
    }
   },
   "outputs": [],
   "source": [
    "df"
   ]
  },
  {
   "cell_type": "code",
   "execution_count": null,
   "metadata": {
    "ExecuteTime": {
     "end_time": "2024-09-04T17:02:52.926163Z",
     "start_time": "2024-09-04T17:02:52.921295Z"
    }
   },
   "outputs": [],
   "source": [
    "df.to_numpy()"
   ]
  },
  {
   "cell_type": "markdown",
   "metadata": {},
   "source": [
    "describe() shows a quick statistic summary of your data"
   ]
  },
  {
   "cell_type": "code",
   "execution_count": null,
   "metadata": {
    "ExecuteTime": {
     "end_time": "2024-09-04T17:03:32.144542Z",
     "start_time": "2024-09-04T17:03:32.124419Z"
    }
   },
   "outputs": [],
   "source": [
    "df.describe()"
   ]
  },
  {
   "cell_type": "markdown",
   "metadata": {},
   "source": [
    "Transposing your data"
   ]
  },
  {
   "cell_type": "code",
   "execution_count": null,
   "metadata": {
    "ExecuteTime": {
     "end_time": "2024-09-04T17:04:24.360707Z",
     "start_time": "2024-09-04T17:04:24.350640Z"
    }
   },
   "outputs": [],
   "source": [
    "df.T"
   ]
  },
  {
   "cell_type": "markdown",
   "metadata": {
    "ExecuteTime": {
     "end_time": "2023-09-08T06:00:21.612591Z",
     "start_time": "2023-09-08T06:00:21.609392Z"
    }
   },
   "source": [
    "DataFrame.sort_index() sorts by an axis"
   ]
  },
  {
   "cell_type": "code",
   "execution_count": null,
   "metadata": {
    "ExecuteTime": {
     "end_time": "2024-09-04T17:04:59.465540Z",
     "start_time": "2024-09-04T17:04:59.455939Z"
    }
   },
   "outputs": [],
   "source": [
    "df.sort_index(axis=0, ascending=False)"
   ]
  },
  {
   "cell_type": "markdown",
   "metadata": {},
   "source": [
    "DataFrame.sort_values() sorts by values"
   ]
  },
  {
   "cell_type": "code",
   "execution_count": null,
   "metadata": {
    "ExecuteTime": {
     "end_time": "2024-09-04T17:05:16.889559Z",
     "start_time": "2024-09-04T17:05:16.879571Z"
    }
   },
   "outputs": [],
   "source": [
    "df.sort_values(by=\"B\", ascending=False)"
   ]
  },
  {
   "cell_type": "markdown",
   "metadata": {},
   "source": [
    "For a DataFrame, passing a single label selects a columns and yields a Series equivalent to df.A"
   ]
  },
  {
   "cell_type": "code",
   "execution_count": null,
   "metadata": {
    "ExecuteTime": {
     "end_time": "2024-09-04T17:06:10.278559Z",
     "start_time": "2024-09-04T17:06:10.271507Z"
    }
   },
   "outputs": [],
   "source": [
    "df[\"A\"]"
   ]
  },
  {
   "cell_type": "markdown",
   "metadata": {},
   "source": [
    "For a DataFrame, passing a slice : selects matching rows"
   ]
  },
  {
   "cell_type": "code",
   "execution_count": null,
   "metadata": {
    "ExecuteTime": {
     "end_time": "2024-09-04T17:06:23.280595Z",
     "start_time": "2024-09-04T17:06:23.273218Z"
    }
   },
   "outputs": [],
   "source": [
    "df[1:3]"
   ]
  },
  {
   "cell_type": "markdown",
   "metadata": {},
   "source": [
    "Selecting all rows (:) with a select column labels"
   ]
  },
  {
   "cell_type": "code",
   "execution_count": null,
   "metadata": {
    "ExecuteTime": {
     "end_time": "2024-09-03T01:02:19.407983Z",
     "start_time": "2024-09-03T01:02:19.400662Z"
    }
   },
   "outputs": [],
   "source": [
    "df.loc[:, [\"A\", \"B\"]]"
   ]
  },
  {
   "cell_type": "markdown",
   "metadata": {},
   "source": [
    "Selecting a single row and column label returns a scalar"
   ]
  },
  {
   "cell_type": "code",
   "execution_count": null,
   "metadata": {
    "ExecuteTime": {
     "end_time": "2024-09-03T01:02:17.686310Z",
     "start_time": "2024-09-03T01:02:17.682512Z"
    }
   },
   "outputs": [],
   "source": [
    "df.loc[dates[0], \"A\"]"
   ]
  },
  {
   "cell_type": "markdown",
   "metadata": {},
   "source": [
    "Select via the position of the passed integers"
   ]
  },
  {
   "cell_type": "code",
   "execution_count": null,
   "metadata": {
    "ExecuteTime": {
     "end_time": "2024-09-03T01:02:23.214912Z",
     "start_time": "2024-09-03T01:02:23.210434Z"
    }
   },
   "outputs": [],
   "source": [
    "df.iloc[3]"
   ]
  },
  {
   "cell_type": "markdown",
   "metadata": {
    "ExecuteTime": {
     "end_time": "2023-09-08T06:04:14.511122Z",
     "start_time": "2023-09-08T06:04:14.503572Z"
    }
   },
   "source": [
    "Integer slices acts similar to NumPy/Python"
   ]
  },
  {
   "cell_type": "code",
   "execution_count": null,
   "metadata": {
    "ExecuteTime": {
     "end_time": "2024-09-03T01:02:28.286527Z",
     "start_time": "2024-09-03T01:02:28.280390Z"
    }
   },
   "outputs": [],
   "source": [
    "df.iloc[3:5, 0:2]"
   ]
  },
  {
   "cell_type": "markdown",
   "metadata": {},
   "source": [
    "Pandas provides various facilities for easily combining together Series and DataFrame objects with various kinds of set logic for the indexes and relational algebra functionality in the case of join / merge-type operations.\n",
    "\n",
    "Concatenating pandas objects together row-wise with concat()"
   ]
  },
  {
   "cell_type": "code",
   "execution_count": null,
   "metadata": {
    "ExecuteTime": {
     "end_time": "2024-09-03T01:02:56.173229Z",
     "start_time": "2024-09-03T01:02:56.170720Z"
    }
   },
   "outputs": [],
   "source": [
    "df = pd.DataFrame(np.random.randn(10, 4))"
   ]
  },
  {
   "cell_type": "code",
   "execution_count": null,
   "metadata": {
    "ExecuteTime": {
     "end_time": "2024-09-03T01:02:58.849846Z",
     "start_time": "2024-09-03T01:02:58.842844Z"
    }
   },
   "outputs": [],
   "source": [
    "pieces_of_df = [df[0:3], df[3:7], df[7:]]\n",
    "pieces_of_df[2]"
   ]
  },
  {
   "cell_type": "code",
   "execution_count": null,
   "metadata": {
    "ExecuteTime": {
     "end_time": "2024-09-03T01:03:09.722956Z",
     "start_time": "2024-09-03T01:03:09.715479Z"
    }
   },
   "outputs": [],
   "source": [
    "pd.concat(pieces_of_df)"
   ]
  },
  {
   "cell_type": "markdown",
   "metadata": {},
   "source": [
    "merge() enables SQL style join types along specific columns"
   ]
  },
  {
   "cell_type": "code",
   "execution_count": null,
   "metadata": {
    "ExecuteTime": {
     "end_time": "2024-09-04T17:07:51.420622Z",
     "start_time": "2024-09-04T17:07:51.417165Z"
    }
   },
   "outputs": [],
   "source": [
    "left = pd.DataFrame({\"key\": [\"foo\", \"foo\"], \"lval\": [1, 2]})"
   ]
  },
  {
   "cell_type": "code",
   "execution_count": null,
   "metadata": {
    "ExecuteTime": {
     "end_time": "2024-09-04T17:07:55.718348Z",
     "start_time": "2024-09-04T17:07:55.715109Z"
    }
   },
   "outputs": [],
   "source": [
    "right = pd.DataFrame({\"key\": [\"foo\", \"foo\"], \"rval\": [4, 5]})"
   ]
  },
  {
   "cell_type": "code",
   "execution_count": null,
   "metadata": {
    "ExecuteTime": {
     "end_time": "2024-09-04T17:09:39.032074Z",
     "start_time": "2024-09-04T17:09:39.022933Z"
    }
   },
   "outputs": [],
   "source": [
    "pd.merge(left, right, on=\"key\")"
   ]
  },
  {
   "cell_type": "markdown",
   "metadata": {},
   "source": [
    "# Network modeling with NetworkX"
   ]
  },
  {
   "cell_type": "markdown",
   "metadata": {},
   "source": [
    "NetworkX is a Python package for the creation, manipulation, and study of the structure, dynamics, and functions of complex networks."
   ]
  },
  {
   "cell_type": "markdown",
   "metadata": {},
   "source": [
    "It provides:\n",
    "\n",
    "- tools for the study of the structure and dynamics of social, biological, and infrastructure networks;\n",
    "\n",
    "- a standard programming interface and graph implementation that is suitable for many applications;\n",
    "\n",
    "- a rapid development environment for collaborative, multidisciplinary projects;\n",
    "\n",
    "- an interface to existing numerical algorithms and code written in C, C++, and FORTRAN; and\n",
    "\n",
    "- the ability to painlessly work with large nonstandard data sets."
   ]
  },
  {
   "cell_type": "markdown",
   "metadata": {},
   "source": [
    "With NetworkX you can load and store networks in standard and nonstandard data formats, generate many types of random and classic networks, analyze network structure, build network models, design new network algorithms, draw networks, and much more."
   ]
  },
  {
   "cell_type": "markdown",
   "metadata": {},
   "source": [
    "## Creating a Graph"
   ]
  },
  {
   "cell_type": "code",
   "execution_count": 2,
   "metadata": {
    "ExecuteTime": {
     "end_time": "2024-09-04T19:38:43.859007Z",
     "start_time": "2024-09-04T19:38:43.853390Z"
    }
   },
   "outputs": [
    {
     "data": {
      "text/plain": [
       "<networkx.classes.graph.Graph at 0x10af2eca0>"
      ]
     },
     "execution_count": 2,
     "metadata": {},
     "output_type": "execute_result"
    }
   ],
   "source": [
    "G = nx.Graph()\n",
    "G"
   ]
  },
  {
   "cell_type": "markdown",
   "metadata": {},
   "source": [
    "The graph G can be grown in several ways. NetworkX includes many graph generator functions and facilities to read and write graphs in many formats. To get started though we’ll look at simple manipulations. You can add one node at a time"
   ]
  },
  {
   "cell_type": "code",
   "execution_count": 3,
   "metadata": {
    "ExecuteTime": {
     "end_time": "2024-09-04T19:38:53.769060Z",
     "start_time": "2024-09-04T19:38:53.766736Z"
    }
   },
   "outputs": [],
   "source": [
    "G.add_node(1)"
   ]
  },
  {
   "cell_type": "markdown",
   "metadata": {},
   "source": [
    "or add nodes from any iterable container, such as a list"
   ]
  },
  {
   "cell_type": "code",
   "execution_count": 4,
   "metadata": {
    "ExecuteTime": {
     "end_time": "2024-09-04T19:38:54.758288Z",
     "start_time": "2024-09-04T19:38:54.755513Z"
    }
   },
   "outputs": [],
   "source": [
    "G.add_nodes_from([2, 3])"
   ]
  },
  {
   "cell_type": "code",
   "execution_count": 5,
   "metadata": {
    "ExecuteTime": {
     "end_time": "2024-09-04T19:38:55.698158Z",
     "start_time": "2024-09-04T19:38:55.693942Z"
    }
   },
   "outputs": [
    {
     "data": {
      "text/plain": [
       "3"
      ]
     },
     "execution_count": 5,
     "metadata": {},
     "output_type": "execute_result"
    }
   ],
   "source": [
    "G.number_of_nodes()"
   ]
  },
  {
   "cell_type": "markdown",
   "metadata": {},
   "source": [
    "You can also add nodes along with node attributes if your container yields 2-tuples of the form (node, node_attribute_dict)"
   ]
  },
  {
   "cell_type": "code",
   "execution_count": 6,
   "metadata": {
    "ExecuteTime": {
     "end_time": "2024-09-04T19:39:14.127224Z",
     "start_time": "2024-09-04T19:39:14.124620Z"
    }
   },
   "outputs": [],
   "source": [
    "G.add_nodes_from([\n",
    "    (4, {\"color\": \"red\"}),\n",
    "    (5, {\"color\": \"green\"}),\n",
    "])"
   ]
  },
  {
   "cell_type": "code",
   "execution_count": 7,
   "metadata": {
    "ExecuteTime": {
     "end_time": "2024-09-04T19:39:16.406336Z",
     "start_time": "2024-09-04T19:39:15.677436Z"
    }
   },
   "outputs": [
    {
     "data": {
      "image/png": "[encoded data removed]",
      "text/plain": [
       "<Figure size 640x480 with 1 Axes>"
      ]
     },
     "metadata": {},
     "output_type": "display_data"
    }
   ],
   "source": [
    "nx.draw_networkx(G)"
   ]
  },
  {
   "cell_type": "code",
   "execution_count": 8,
   "metadata": {
    "ExecuteTime": {
     "end_time": "2024-09-04T19:39:19.505223Z",
     "start_time": "2024-09-04T19:39:19.501918Z"
    }
   },
   "outputs": [
    {
     "name": "stdout",
     "output_type": "stream",
     "text": [
      "(1, {})\n",
      "(2, {})\n",
      "(3, {})\n",
      "(4, {'color': 'red'})\n",
      "(5, {'color': 'green'})\n"
     ]
    }
   ],
   "source": [
    "for node in G.nodes.data():\n",
    "    print(node)"
   ]
  },
  {
   "cell_type": "markdown",
   "metadata": {},
   "source": [
    "Nodes from one graph can be incorporated into another"
   ]
  },
  {
   "cell_type": "code",
   "execution_count": 9,
   "metadata": {
    "ExecuteTime": {
     "end_time": "2024-09-04T19:39:23.033595Z",
     "start_time": "2024-09-04T19:39:23.030571Z"
    }
   },
   "outputs": [],
   "source": [
    "H = nx.path_graph(10)\n",
    "G.add_nodes_from(H)"
   ]
  },
  {
   "cell_type": "code",
   "execution_count": 10,
   "metadata": {
    "ExecuteTime": {
     "end_time": "2024-09-04T19:39:27.874866Z",
     "start_time": "2024-09-04T19:39:27.870588Z"
    }
   },
   "outputs": [
    {
     "data": {
      "text/plain": [
       "10"
      ]
     },
     "execution_count": 10,
     "metadata": {},
     "output_type": "execute_result"
    }
   ],
   "source": [
    "G.number_of_nodes()"
   ]
  },
  {
   "cell_type": "markdown",
   "metadata": {},
   "source": [
    "G now contains the nodes of H as nodes of G. In contrast, you could use the graph H as a node in G"
   ]
  },
  {
   "cell_type": "code",
   "execution_count": 11,
   "metadata": {
    "ExecuteTime": {
     "end_time": "2024-09-04T19:39:39.063796Z",
     "start_time": "2024-09-04T19:39:39.060967Z"
    }
   },
   "outputs": [],
   "source": [
    "G.add_node(H)"
   ]
  },
  {
   "cell_type": "markdown",
   "metadata": {},
   "source": [
    "G can also be grown by adding one edge at a time"
   ]
  },
  {
   "cell_type": "code",
   "execution_count": 12,
   "metadata": {
    "ExecuteTime": {
     "end_time": "2024-09-04T19:39:42.034241Z",
     "start_time": "2024-09-04T19:39:42.031347Z"
    }
   },
   "outputs": [],
   "source": [
    "G.add_edge(3, 11)"
   ]
  },
  {
   "cell_type": "code",
   "execution_count": 13,
   "metadata": {
    "ExecuteTime": {
     "end_time": "2024-09-04T19:39:45.403135Z",
     "start_time": "2024-09-04T19:39:45.399845Z"
    }
   },
   "outputs": [],
   "source": [
    "G.add_edge(1, 2)\n",
    "e = (2, 3)\n",
    "G.add_edge(*e)  # unpack edge tuple with \"*\""
   ]
  },
  {
   "cell_type": "markdown",
   "metadata": {
    "ExecuteTime": {
     "end_time": "2023-09-08T06:14:25.927664Z",
     "start_time": "2023-09-08T06:14:25.924038Z"
    }
   },
   "source": [
    "by adding a list of edges"
   ]
  },
  {
   "cell_type": "code",
   "execution_count": 14,
   "metadata": {
    "ExecuteTime": {
     "end_time": "2024-09-04T19:55:46.137137Z",
     "start_time": "2024-09-04T19:55:46.133989Z"
    }
   },
   "outputs": [],
   "source": [
    "G.add_edges_from([(1, 2), (1, 3)])"
   ]
  },
  {
   "cell_type": "code",
   "execution_count": 15,
   "metadata": {
    "ExecuteTime": {
     "end_time": "2024-09-04T19:55:47.090603Z",
     "start_time": "2024-09-04T19:55:46.882326Z"
    }
   },
   "outputs": [
    {
     "data": {
      "image/png": "[encoded data removed]",
      "text/plain": [
       "<Figure size 640x480 with 1 Axes>"
      ]
     },
     "metadata": {},
     "output_type": "display_data"
    }
   ],
   "source": [
    "nx.draw_networkx(G)"
   ]
  },
  {
   "cell_type": "markdown",
   "metadata": {},
   "source": [
    "## Examining elements of a graph"
   ]
  },
  {
   "cell_type": "markdown",
   "metadata": {},
   "source": [
    "We can examine the nodes and edges. Four basic graph properties facilitate reporting:\n",
    "> G.nodes\n",
    "\n",
    "> G.edges\n",
    "\n",
    "> G.adj\n",
    "\n",
    "> G.degree\n",
    "\n",
    "These are set-like views of the nodes, edges, neighbors (adjacencies), and degrees of nodes in a graph. They offer a continually updated read-only view into the graph structure. They are also dict-like in that you can look up node and edge data attributes via the views and iterate with data attributes using methods .items(), .data(). If you want a specific container type instead of a view, you can specify one. Here we use lists, though sets, dicts, tuples and other containers may be better in other contexts."
   ]
  },
  {
   "cell_type": "code",
   "execution_count": 16,
   "metadata": {
    "ExecuteTime": {
     "end_time": "2024-09-04T19:55:53.134386Z",
     "start_time": "2024-09-04T19:55:53.130235Z"
    }
   },
   "outputs": [
    {
     "data": {
      "text/plain": [
       "[1,\n",
       " 2,\n",
       " 3,\n",
       " 4,\n",
       " 5,\n",
       " 0,\n",
       " 6,\n",
       " 7,\n",
       " 8,\n",
       " 9,\n",
       " <networkx.classes.graph.Graph at 0x10f9c5820>,\n",
       " 11]"
      ]
     },
     "execution_count": 16,
     "metadata": {},
     "output_type": "execute_result"
    }
   ],
   "source": [
    "list(G.nodes)"
   ]
  },
  {
   "cell_type": "code",
   "execution_count": 17,
   "metadata": {
    "ExecuteTime": {
     "end_time": "2024-09-04T19:55:53.534391Z",
     "start_time": "2024-09-04T19:55:53.530089Z"
    }
   },
   "outputs": [
    {
     "data": {
      "text/plain": [
       "[(1, 2), (1, 3), (2, 3), (3, 11)]"
      ]
     },
     "execution_count": 17,
     "metadata": {},
     "output_type": "execute_result"
    }
   ],
   "source": [
    "list(G.edges)"
   ]
  },
  {
   "cell_type": "code",
   "execution_count": 18,
   "metadata": {
    "ExecuteTime": {
     "end_time": "2024-09-04T19:55:56.639889Z",
     "start_time": "2024-09-04T19:55:56.635591Z"
    }
   },
   "outputs": [
    {
     "data": {
      "text/plain": [
       "[2, 3]"
      ]
     },
     "execution_count": 18,
     "metadata": {},
     "output_type": "execute_result"
    }
   ],
   "source": [
    "list(G.adj[1])  # or list(G.neighbors(1))"
   ]
  },
  {
   "cell_type": "code",
   "execution_count": 19,
   "metadata": {
    "ExecuteTime": {
     "end_time": "2024-09-04T19:55:57.237890Z",
     "start_time": "2024-09-04T19:55:57.231922Z"
    }
   },
   "outputs": [
    {
     "data": {
      "text/plain": [
       "2"
      ]
     },
     "execution_count": 19,
     "metadata": {},
     "output_type": "execute_result"
    }
   ],
   "source": [
    "G.degree[1]  # the number of edges incident to 1"
   ]
  },
  {
   "cell_type": "markdown",
   "metadata": {},
   "source": [
    "## Accessing edges and neighbors"
   ]
  },
  {
   "cell_type": "markdown",
   "metadata": {},
   "source": [
    "In addition to the views Graph.edges, and Graph.adj, access to edges and neighbors is possible using subscript notation."
   ]
  },
  {
   "cell_type": "code",
   "execution_count": 25,
   "metadata": {
    "ExecuteTime": {
     "end_time": "2024-09-04T20:11:26.904992Z",
     "start_time": "2024-09-04T20:11:26.901387Z"
    }
   },
   "outputs": [],
   "source": [
    "# create a graph from edge list\n",
    "G = nx.Graph([(1, 2, {\"color\": \"yellow\"}),\n",
    "              (3, 4, {\"color\": \"red\"}),\n",
    "              (1, 4, {\"color\": \"blue\"})\n",
    "             ])"
   ]
  },
  {
   "cell_type": "code",
   "execution_count": 26,
   "metadata": {
    "ExecuteTime": {
     "end_time": "2024-09-04T20:11:28.739478Z",
     "start_time": "2024-09-04T20:11:28.732961Z"
    }
   },
   "outputs": [
    {
     "data": {
      "text/plain": [
       "AtlasView({2: {'color': 'yellow'}, 4: {'color': 'blue'}})"
      ]
     },
     "execution_count": 26,
     "metadata": {},
     "output_type": "execute_result"
    }
   ],
   "source": [
    "G[1]  # same as G.adj[1]"
   ]
  },
  {
   "cell_type": "code",
   "execution_count": 29,
   "metadata": {
    "ExecuteTime": {
     "end_time": "2024-09-04T20:11:49.492201Z",
     "start_time": "2024-09-04T20:11:49.488152Z"
    }
   },
   "outputs": [
    {
     "data": {
      "text/plain": [
       "{'color': 'yellow'}"
      ]
     },
     "execution_count": 29,
     "metadata": {},
     "output_type": "execute_result"
    }
   ],
   "source": [
    "G[1][2] # checking the attribute of the neighbor"
   ]
  },
  {
   "cell_type": "code",
   "execution_count": 30,
   "metadata": {
    "ExecuteTime": {
     "end_time": "2024-09-04T20:11:54.145875Z",
     "start_time": "2024-09-04T20:11:54.141502Z"
    }
   },
   "outputs": [
    {
     "data": {
      "text/plain": [
       "{'color': 'yellow'}"
      ]
     },
     "execution_count": 30,
     "metadata": {},
     "output_type": "execute_result"
    }
   ],
   "source": [
    "G.edges[1, 2]"
   ]
  },
  {
   "cell_type": "markdown",
   "metadata": {},
   "source": [
    "You can get/set the attributes of an edge using subscript notation if the edge already exists."
   ]
  },
  {
   "cell_type": "code",
   "execution_count": null,
   "metadata": {
    "ExecuteTime": {
     "end_time": "2024-09-03T02:54:43.787079Z",
     "start_time": "2024-09-03T02:54:43.783127Z"
    }
   },
   "outputs": [],
   "source": [
    "G.add_edge(1, 3)\n",
    "G[1][3]['color'] = \"blue\"\n",
    "G.edges[1, 2]['color'] = \"red\"\n",
    "G.edges[1, 2]"
   ]
  },
  {
   "cell_type": "markdown",
   "metadata": {},
   "source": [
    "Convenient access to all edges is achieved with the edges property."
   ]
  },
  {
   "cell_type": "code",
   "execution_count": null,
   "metadata": {
    "ExecuteTime": {
     "end_time": "2024-09-03T02:59:13.668101Z",
     "start_time": "2024-09-03T02:59:13.665412Z"
    }
   },
   "outputs": [],
   "source": [
    "# Get all edge attributes for a specific attribute name\n",
    "weights = nx.get_edge_attributes(G, 'color')\n",
    "print(weights)"
   ]
  },
  {
   "cell_type": "markdown",
   "metadata": {
    "ExecuteTime": {
     "end_time": "2023-09-08T06:32:24.796572Z",
     "start_time": "2023-09-08T06:32:24.793452Z"
    }
   },
   "source": [
    "## Adding attributes to graphs, nodes, and edges"
   ]
  },
  {
   "cell_type": "markdown",
   "metadata": {},
   "source": [
    "Attributes such as weights, labels, colors, or whatever Python object you like, can be attached to graphs, nodes, or edges.\n",
    "\n",
    "Each graph, node, and edge can hold key/value attribute pairs in an associated attribute dictionary (the keys must be hashable). By default these are empty, but attributes can be added or changed using add_edge, add_node or direct manipulation of the attribute dictionaries named G.graph, G.nodes, and G.edges for a graph G"
   ]
  },
  {
   "cell_type": "markdown",
   "metadata": {},
   "source": [
    "Assign graph attributes when creating a new graph"
   ]
  },
  {
   "cell_type": "code",
   "execution_count": null,
   "metadata": {
    "ExecuteTime": {
     "end_time": "2024-09-03T02:59:39.168835Z",
     "start_time": "2024-09-03T02:59:39.166772Z"
    }
   },
   "outputs": [],
   "source": [
    "G = nx.Graph(day=\"Friday\")"
   ]
  },
  {
   "cell_type": "code",
   "execution_count": null,
   "metadata": {
    "ExecuteTime": {
     "end_time": "2024-09-03T02:59:40.379397Z",
     "start_time": "2024-09-03T02:59:40.376126Z"
    }
   },
   "outputs": [],
   "source": [
    "G.graph"
   ]
  },
  {
   "cell_type": "markdown",
   "metadata": {},
   "source": [
    "Or you can modify attributes later"
   ]
  },
  {
   "cell_type": "code",
   "execution_count": null,
   "metadata": {
    "ExecuteTime": {
     "end_time": "2024-09-03T03:00:35.106840Z",
     "start_time": "2024-09-03T03:00:35.104006Z"
    }
   },
   "outputs": [],
   "source": [
    "G.graph['day'] = \"Monday\"\n",
    "G.graph"
   ]
  },
  {
   "cell_type": "markdown",
   "metadata": {},
   "source": [
    "### Node attributes"
   ]
  },
  {
   "cell_type": "markdown",
   "metadata": {},
   "source": [
    "Add node attributes using add_node(), add_nodes_from(), or G.nodes"
   ]
  },
  {
   "cell_type": "code",
   "execution_count": null,
   "metadata": {
    "ExecuteTime": {
     "end_time": "2024-09-03T03:00:43.597360Z",
     "start_time": "2024-09-03T03:00:43.593889Z"
    }
   },
   "outputs": [],
   "source": [
    "G.add_node(1, time='5pm')\n",
    "G.add_nodes_from([3], time='2pm')\n",
    "G.nodes[1]"
   ]
  },
  {
   "cell_type": "code",
   "execution_count": null,
   "metadata": {
    "ExecuteTime": {
     "end_time": "2024-09-03T03:00:47.403063Z",
     "start_time": "2024-09-03T03:00:47.399957Z"
    }
   },
   "outputs": [],
   "source": [
    "G.nodes[1]['room'] = 714\n",
    "G.nodes.data()"
   ]
  },
  {
   "cell_type": "markdown",
   "metadata": {},
   "source": [
    "Note that adding a node to G.nodes does not add it to the graph, use G.add_node() to add new nodes. Similarly for edges."
   ]
  },
  {
   "cell_type": "markdown",
   "metadata": {},
   "source": [
    "### Edge attributes"
   ]
  },
  {
   "cell_type": "markdown",
   "metadata": {},
   "source": [
    "Add/change edge attributes using add_edge(), add_edges_from(), or subscript notation."
   ]
  },
  {
   "cell_type": "code",
   "execution_count": null,
   "metadata": {
    "ExecuteTime": {
     "end_time": "2024-09-03T03:02:25.818891Z",
     "start_time": "2024-09-03T03:02:25.815018Z"
    }
   },
   "outputs": [],
   "source": [
    "G.add_edge(1, 2, weight=4.7)\n",
    "\n",
    "G.add_edges_from([(3, 4), (4, 5)], color='red')\n",
    "\n",
    "G.add_edges_from([(1, 2, {'color': 'blue'}), (2, 3, {'weight': 8})])\n",
    "\n",
    "G[1][2]['weight'] = 4.7\n",
    "\n",
    "G.edges[3, 4]['weight'] = 4.2"
   ]
  },
  {
   "cell_type": "markdown",
   "metadata": {},
   "source": [
    "## Reading a graph stored in a file using common graph formats"
   ]
  },
  {
   "cell_type": "markdown",
   "metadata": {},
   "source": [
    "NetworkX supports many popular formats, such as edge lists, adjacency lists, GML, GraphML, LEDA and others."
   ]
  },
  {
   "cell_type": "code",
   "execution_count": null,
   "metadata": {
    "ExecuteTime": {
     "end_time": "2024-09-03T03:07:31.625896Z",
     "start_time": "2024-09-03T03:07:29.838900Z"
    }
   },
   "outputs": [],
   "source": [
    "red = nx.random_lobster(100, 0.9, 0.9)\n",
    "nx.write_gml(red, \"path.to.file\")\n",
    "mygraph = nx.read_gml(\"path.to.file\")"
   ]
  },
  {
   "cell_type": "markdown",
   "metadata": {},
   "source": [
    "## Drawing graphs"
   ]
  },
  {
   "cell_type": "code",
   "execution_count": null,
   "metadata": {
    "ExecuteTime": {
     "end_time": "2024-09-03T03:19:57.530585Z",
     "start_time": "2024-09-03T03:19:57.390212Z"
    }
   },
   "outputs": [],
   "source": [
    "# importing matplotlib.pyplot\n",
    "import matplotlib.pyplot as plt\n",
    " \n",
    "G = nx.erdos_renyi_graph(10,0.8)\n",
    "pos = nx.random_layout(G)\n",
    "nx.draw_networkx(G, pos=pos)"
   ]
  },
  {
   "cell_type": "markdown",
   "metadata": {},
   "source": [
    "# Intro to OSMnx"
   ]
  },
  {
   "cell_type": "code",
   "execution_count": null,
   "metadata": {
    "ExecuteTime": {
     "end_time": "2024-09-04T15:35:37.871004Z",
     "start_time": "2024-09-04T15:35:21.184063Z"
    }
   },
   "outputs": [],
   "source": [
    "import osmnx as ox"
   ]
  },
  {
   "cell_type": "markdown",
   "metadata": {},
   "source": [
    "Let's get the boundary polygon for Atlanta, project it, and plot it"
   ]
  },
  {
   "cell_type": "markdown",
   "metadata": {},
   "source": [
    "The osmnx.geocoder.geocode_to_gdf() function retrieve OSM elements by place name or OSM ID with the Nominatim API.\n",
    "\n",
    "If searching by place name, the query argument can be a string or structured dict, or a list of such strings/dicts to send to the geocoder. This uses the Nominatim “search” endpoint to geocode the place name to the best-matching OSM element, then returns that element and its attribute data."
   ]
  },
  {
   "cell_type": "code",
   "execution_count": null,
   "metadata": {
    "ExecuteTime": {
     "end_time": "2024-09-04T15:35:47.848697Z",
     "start_time": "2024-09-04T15:35:43.288388Z"
    }
   },
   "outputs": [],
   "source": [
    "atlanta = ox.geocode_to_gdf(\"Atlanta, Georgia, USA\")\n",
    "atlanta"
   ]
  },
  {
   "cell_type": "markdown",
   "metadata": {},
   "source": [
    "Now lets project to UTM\n",
    "\n",
    "Documentation for ox.project_gdf can be found here: https://osmnx.readthedocs.io/en/stable/user-reference.html\n",
    "\n",
    ">osmnx.projection.project_gdf(gdf, to_crs=None, to_latlong=False)\n",
    "\n",
    "This function reroject a GeoDataFrame from its current CRS to another.\n",
    "If to_crs is None, project to the UTM CRS for the UTM zone in which the GeoDataFrame’s centroid lies. Otherwise project to the CRS defined by to_crs. The simple UTM zone calculation in this function works well for most latitudes, but may not work for some extreme northern locations like Svalbard or far northern Norway.\n",
    "PARAMETERS:\n",
    "gdf (geopandas.GeoDataFrame) – the GeoDataFrame to be projected\n",
    "to_crs (string or pyproj.CRS) – if None, project to UTM zone in which gdf’s centroid lies, otherwise project to this CRS\n",
    "to_latlong (bool) – if True, project to settings.default_crs and ignore to_crs\n",
    "\n",
    "RETURNS:\n",
    "gdf_proj – the projected GeoDataFrame\n",
    "\n",
    "RETURN TYPE:\n",
    "geopandas.GeoDataFrame"
   ]
  },
  {
   "cell_type": "code",
   "execution_count": null,
   "metadata": {
    "ExecuteTime": {
     "end_time": "2024-09-04T15:36:52.632570Z",
     "start_time": "2024-09-04T15:36:52.599313Z"
    }
   },
   "outputs": [],
   "source": [
    "atlanta_proj = ox.project_gdf(atlanta, to_crs=32616)\n",
    "atlanta_proj"
   ]
  },
  {
   "cell_type": "code",
   "execution_count": null,
   "metadata": {
    "ExecuteTime": {
     "end_time": "2024-09-04T15:37:12.403875Z",
     "start_time": "2024-09-04T15:37:12.149972Z"
    }
   },
   "outputs": [],
   "source": [
    "# Plot the city boundary\n",
    "ax = atlanta_proj.plot(fc=\"gray\", ec=\"none\")"
   ]
  },
  {
   "cell_type": "markdown",
   "metadata": {},
   "source": [
    "## Download and model street networks"
   ]
  },
  {
   "cell_type": "markdown",
   "metadata": {},
   "source": [
    "OSMnx lets you download street network data and build topologically-corrected street networks, project and plot the networks, and save the street network as SVGs, GraphML files, or GeoPackages for later use. The street networks are directed and preserve one-way directionality. For a more in-depth demonstration of creating street networks, see this notebook.\n",
    "\n",
    "You can download a street network by providing OSMnx any of the following (demonstrated in the examples below):\n",
    "\n",
    "- a bounding box\n",
    "- a lat-long point plus a distance\n",
    "- an address plus a distance\n",
    "- a place name or list of place names (to automatically geocode and get the boundary of)\n",
    "- a polygon of the desired street network's boundaries\n",
    "- a .osm formatted xml file\n",
    "\n",
    "You can also specify several different network types:\n",
    "\n",
    "- 'drive' - get drivable public streets (but not service roads)\n",
    "- 'drive_service' - get drivable streets, including service roads\n",
    "- 'walk' - get all streets and paths that pedestrians can use (this network type ignores one-way directionality)\n",
    "- 'bike' - get all streets and paths that cyclists can use\n",
    "- 'all' - download all non-private OSM streets and paths (this is the default network type unless you specify a different one)\n",
    "- 'all_private' - download all OSM streets and paths, including private-access ones"
   ]
  },
  {
   "cell_type": "markdown",
   "metadata": {},
   "source": [
    "Let's check the boundary shape for Atlanta again"
   ]
  },
  {
   "cell_type": "code",
   "execution_count": null,
   "metadata": {
    "ExecuteTime": {
     "end_time": "2024-09-04T15:37:24.715505Z",
     "start_time": "2024-09-04T15:37:24.706484Z"
    }
   },
   "outputs": [],
   "source": [
    "atlanta.iloc[0]['geometry']"
   ]
  },
  {
   "cell_type": "markdown",
   "metadata": {},
   "source": [
    "Download the graph for the drive network in Atlanta.\n",
    "This takes a while to finish running.\n",
    "There are a total of 12794 nodes and 33372 edges."
   ]
  },
  {
   "cell_type": "code",
   "execution_count": null,
   "metadata": {
    "ExecuteTime": {
     "end_time": "2024-09-04T15:37:51.618330Z",
     "start_time": "2024-09-04T15:37:28.749260Z"
    }
   },
   "outputs": [],
   "source": [
    "G = ox.graph_from_polygon(atlanta.iloc[0]['geometry'],\n",
    "                          network_type=\"drive\")"
   ]
  },
  {
   "cell_type": "markdown",
   "metadata": {
    "ExecuteTime": {
     "end_time": "2023-09-10T22:20:28.627512Z",
     "start_time": "2023-09-10T22:20:28.597725Z"
    }
   },
   "source": [
    "Let's choose a smaller area for this demo."
   ]
  },
  {
   "cell_type": "code",
   "execution_count": null,
   "metadata": {
    "ExecuteTime": {
     "end_time": "2024-09-04T15:37:55.340229Z",
     "start_time": "2024-09-04T15:37:55.337509Z"
    }
   },
   "outputs": [],
   "source": [
    "# define a bounding box in Atlanta near the GT campus\n",
    "north, south, east, west = 33.79, 33.75, -84.38, -84.41"
   ]
  },
  {
   "cell_type": "code",
   "execution_count": null,
   "metadata": {
    "ExecuteTime": {
     "end_time": "2024-09-04T15:38:11.032078Z",
     "start_time": "2024-09-04T15:37:56.773443Z"
    }
   },
   "outputs": [],
   "source": [
    "# create network from that bounding box\n",
    "G_box = ox.graph_from_bbox(north, south, east, west, network_type=\"drive\")"
   ]
  },
  {
   "cell_type": "markdown",
   "metadata": {},
   "source": [
    "Let's check the network that we have just extracted:"
   ]
  },
  {
   "cell_type": "code",
   "execution_count": null,
   "metadata": {
    "ExecuteTime": {
     "end_time": "2024-09-04T15:38:12.500009Z",
     "start_time": "2024-09-04T15:38:12.495821Z"
    }
   },
   "outputs": [],
   "source": [
    "print(f'The graph has {G_box.number_of_nodes()} nodes and {G_box.number_of_edges()} edges')"
   ]
  },
  {
   "cell_type": "markdown",
   "metadata": {},
   "source": [
    "## Save street networks"
   ]
  },
  {
   "cell_type": "markdown",
   "metadata": {},
   "source": [
    "### GeoPackages for GIS"
   ]
  },
  {
   "cell_type": "code",
   "execution_count": null,
   "metadata": {
    "ExecuteTime": {
     "end_time": "2024-09-04T15:38:41.038517Z",
     "start_time": "2024-09-04T15:38:17.596273Z"
    }
   },
   "outputs": [],
   "source": [
    "# save graph as a geopackage\n",
    "ox.save_graph_geopackage(G, filepath=\"../Exercise/G_box.gpkg\")"
   ]
  },
  {
   "cell_type": "markdown",
   "metadata": {},
   "source": [
    "### GraphML files for saving network and preserving topological detail"
   ]
  },
  {
   "cell_type": "code",
   "execution_count": null,
   "metadata": {
    "ExecuteTime": {
     "end_time": "2024-09-04T15:38:49.855119Z",
     "start_time": "2024-09-04T15:38:49.405796Z"
    }
   },
   "outputs": [],
   "source": [
    "# save/load graph as a graphml file: this is the best way to save your model\n",
    "# for subsequent work later\n",
    "filepath = \"../Exercise/G_box.graphml\"\n",
    "ox.save_graphml(G_box, filepath)\n",
    "G = ox.load_graphml(filepath)"
   ]
  },
  {
   "cell_type": "code",
   "execution_count": null,
   "metadata": {
    "ExecuteTime": {
     "end_time": "2024-09-04T15:38:51.868151Z",
     "start_time": "2024-09-04T15:38:51.755647Z"
    }
   },
   "outputs": [],
   "source": [
    "G = ox.load_graphml(filepath)"
   ]
  },
  {
   "cell_type": "code",
   "execution_count": null,
   "metadata": {
    "ExecuteTime": {
     "end_time": "2024-09-04T15:38:52.733153Z",
     "start_time": "2024-09-04T15:38:52.729735Z"
    }
   },
   "outputs": [],
   "source": [
    "G.number_of_nodes()"
   ]
  },
  {
   "cell_type": "code",
   "execution_count": null,
   "metadata": {
    "ExecuteTime": {
     "end_time": "2024-09-04T15:38:54.095208Z",
     "start_time": "2024-09-04T15:38:54.090246Z"
    }
   },
   "outputs": [],
   "source": [
    "G.number_of_edges()"
   ]
  },
  {
   "cell_type": "markdown",
   "metadata": {
    "ExecuteTime": {
     "end_time": "2024-09-03T02:09:13.682742Z",
     "start_time": "2024-09-03T02:09:13.680902Z"
    }
   },
   "source": [
    "# Bonus: Pandas advanced functions and methods"
   ]
  },
  {
   "cell_type": "markdown",
   "metadata": {},
   "source": [
    "Pandas provides two types of classes for handling data:\n",
    "\n",
    "> Series: a one-dimensional labeled array holding data of any type\n",
    "such as integers, strings, Python objects etc.\n",
    "\n",
    "> DataFrame: a two-dimensional data structure that holds data like a two-dimension array or a table with rows and columns."
   ]
  },
  {
   "cell_type": "markdown",
   "metadata": {},
   "source": [
    "Creating a Series by passing a list of values, letting pandas create a default RangeIndex"
   ]
  },
  {
   "cell_type": "code",
   "execution_count": null,
   "metadata": {
    "ExecuteTime": {
     "end_time": "2024-09-03T02:10:54.194293Z",
     "start_time": "2024-09-03T02:10:54.189609Z"
    }
   },
   "outputs": [],
   "source": [
    "s = pd.Series([1, 3, 5, np.nan, 6, 8])\n",
    "s"
   ]
  },
  {
   "cell_type": "markdown",
   "metadata": {},
   "source": [
    "Creating a DataFrame by passing a NumPy array with a datetime index using date_range() and labeled columns"
   ]
  },
  {
   "cell_type": "code",
   "execution_count": null,
   "metadata": {
    "ExecuteTime": {
     "end_time": "2024-09-03T02:11:58.408688Z",
     "start_time": "2024-09-03T02:11:58.405016Z"
    }
   },
   "outputs": [],
   "source": [
    "dates = pd.date_range(\"20240101\", periods=6)\n",
    "dates"
   ]
  },
  {
   "cell_type": "code",
   "execution_count": null,
   "metadata": {
    "ExecuteTime": {
     "end_time": "2024-09-03T02:12:27.540863Z",
     "start_time": "2024-09-03T02:12:27.532960Z"
    }
   },
   "outputs": [],
   "source": [
    "df = pd.DataFrame(np.random.randn(6, 5), index=dates, columns=list(\"ABCDE\"))\n",
    "df"
   ]
  },
  {
   "cell_type": "markdown",
   "metadata": {},
   "source": [
    "Creating a DataFrame by passing a dictionary of objects where the keys are the column labels and the values are the column values."
   ]
  },
  {
   "cell_type": "code",
   "execution_count": null,
   "metadata": {
    "ExecuteTime": {
     "end_time": "2024-09-03T02:20:35.148940Z",
     "start_time": "2024-09-03T02:20:35.144823Z"
    }
   },
   "outputs": [],
   "source": [
    "df2 = pd.DataFrame(\n",
    "    {\n",
    "        \"A\": 1.0,\n",
    "        \"B\": pd.Timestamp(\"20130102\"),\n",
    "        \"C\": pd.Series(1, index=list(range(4)), dtype=\"float32\"),\n",
    "        \"D\": np.array([3] * 4, dtype=\"int32\"),\n",
    "        \"E\": pd.Categorical([\"test\", \"train\", \"test\", \"train\"]),\n",
    "        \"F\": \"foo\",\n",
    "    }\n",
    ")"
   ]
  },
  {
   "cell_type": "code",
   "execution_count": null,
   "metadata": {
    "ExecuteTime": {
     "end_time": "2024-09-03T02:20:43.387099Z",
     "start_time": "2024-09-03T02:20:43.379864Z"
    }
   },
   "outputs": [],
   "source": [
    "df2"
   ]
  },
  {
   "cell_type": "markdown",
   "metadata": {},
   "source": [
    "The columns of the resulting DataFrame have different dtypes"
   ]
  },
  {
   "cell_type": "code",
   "execution_count": null,
   "metadata": {
    "ExecuteTime": {
     "end_time": "2024-09-03T02:21:09.343052Z",
     "start_time": "2024-09-03T02:21:09.339383Z"
    },
    "scrolled": true
   },
   "outputs": [],
   "source": [
    "df2.dtypes"
   ]
  },
  {
   "cell_type": "markdown",
   "metadata": {},
   "source": [
    "Use DataFrame.head() and DataFrame.tail() to view the top and bottom rows of the frame respectively"
   ]
  },
  {
   "cell_type": "code",
   "execution_count": null,
   "metadata": {
    "ExecuteTime": {
     "end_time": "2023-09-08T20:22:19.417697Z",
     "start_time": "2023-09-08T20:22:19.410456Z"
    }
   },
   "outputs": [],
   "source": [
    "df.head(2)"
   ]
  },
  {
   "cell_type": "code",
   "execution_count": null,
   "metadata": {
    "ExecuteTime": {
     "end_time": "2023-09-08T20:23:11.478742Z",
     "start_time": "2023-09-08T20:23:11.470389Z"
    }
   },
   "outputs": [],
   "source": [
    "df.tail(6)"
   ]
  },
  {
   "cell_type": "markdown",
   "metadata": {},
   "source": [
    "Display the DataFrame.index or DataFrame.columns"
   ]
  },
  {
   "cell_type": "code",
   "execution_count": null,
   "metadata": {
    "ExecuteTime": {
     "end_time": "2024-09-03T02:24:28.062299Z",
     "start_time": "2024-09-03T02:24:28.059093Z"
    }
   },
   "outputs": [],
   "source": [
    "df.index"
   ]
  },
  {
   "cell_type": "code",
   "execution_count": null,
   "metadata": {
    "ExecuteTime": {
     "end_time": "2024-09-03T02:28:38.060764Z",
     "start_time": "2024-09-03T02:28:38.057482Z"
    }
   },
   "outputs": [],
   "source": [
    "df.columns"
   ]
  },
  {
   "cell_type": "markdown",
   "metadata": {},
   "source": [
    "Return a NumPy representation of the underlying data with DataFrame.to_numpy() without the index or column labels"
   ]
  },
  {
   "cell_type": "code",
   "execution_count": null,
   "metadata": {
    "ExecuteTime": {
     "end_time": "2024-09-03T02:28:41.076580Z",
     "start_time": "2024-09-03T02:28:41.073360Z"
    }
   },
   "outputs": [],
   "source": [
    "df.to_numpy()"
   ]
  },
  {
   "cell_type": "markdown",
   "metadata": {},
   "source": [
    "describe() shows a quick statistic summary of your data"
   ]
  },
  {
   "cell_type": "code",
   "execution_count": null,
   "metadata": {
    "ExecuteTime": {
     "end_time": "2024-09-03T02:28:44.748362Z",
     "start_time": "2024-09-03T02:28:44.733612Z"
    }
   },
   "outputs": [],
   "source": [
    "df.describe()"
   ]
  },
  {
   "cell_type": "markdown",
   "metadata": {},
   "source": [
    "Transposing your data"
   ]
  },
  {
   "cell_type": "code",
   "execution_count": null,
   "metadata": {
    "ExecuteTime": {
     "end_time": "2024-09-03T02:28:47.857723Z",
     "start_time": "2024-09-03T02:28:47.848720Z"
    }
   },
   "outputs": [],
   "source": [
    "df.T"
   ]
  },
  {
   "cell_type": "markdown",
   "metadata": {
    "ExecuteTime": {
     "end_time": "2023-09-08T06:00:21.612591Z",
     "start_time": "2023-09-08T06:00:21.609392Z"
    }
   },
   "source": [
    "DataFrame.sort_index() sorts by an axis"
   ]
  },
  {
   "cell_type": "code",
   "execution_count": null,
   "metadata": {
    "ExecuteTime": {
     "end_time": "2024-09-03T02:28:51.625727Z",
     "start_time": "2024-09-03T02:28:51.617279Z"
    }
   },
   "outputs": [],
   "source": [
    "df.sort_index(axis=0, ascending=False)"
   ]
  },
  {
   "cell_type": "markdown",
   "metadata": {},
   "source": [
    "DataFrame.sort_values() sorts by values"
   ]
  },
  {
   "cell_type": "code",
   "execution_count": null,
   "metadata": {
    "ExecuteTime": {
     "end_time": "2024-09-03T02:28:57.473149Z",
     "start_time": "2024-09-03T02:28:57.464495Z"
    }
   },
   "outputs": [],
   "source": [
    "df.sort_values(by=\"B\", ascending=False)"
   ]
  },
  {
   "cell_type": "markdown",
   "metadata": {},
   "source": [
    "For a DataFrame, passing a single label selects a columns and yields a Series equivalent to df.A"
   ]
  },
  {
   "cell_type": "code",
   "execution_count": null,
   "metadata": {
    "ExecuteTime": {
     "end_time": "2024-09-03T02:29:03.477298Z",
     "start_time": "2024-09-03T02:29:03.473651Z"
    }
   },
   "outputs": [],
   "source": [
    "df[\"A\"]"
   ]
  },
  {
   "cell_type": "code",
   "execution_count": null,
   "metadata": {
    "ExecuteTime": {
     "end_time": "2024-09-03T02:29:08.008015Z",
     "start_time": "2024-09-03T02:29:08.003676Z"
    }
   },
   "outputs": [],
   "source": [
    "df.A"
   ]
  },
  {
   "cell_type": "markdown",
   "metadata": {},
   "source": [
    "For a DataFrame, passing a slice : selects matching rows"
   ]
  },
  {
   "cell_type": "code",
   "execution_count": null,
   "metadata": {
    "ExecuteTime": {
     "end_time": "2024-09-03T02:29:13.622840Z",
     "start_time": "2024-09-03T02:29:13.616083Z"
    }
   },
   "outputs": [],
   "source": [
    "df[1:3]"
   ]
  },
  {
   "cell_type": "code",
   "execution_count": null,
   "metadata": {
    "ExecuteTime": {
     "end_time": "2024-09-03T02:29:19.704063Z",
     "start_time": "2024-09-03T02:29:19.693706Z"
    }
   },
   "outputs": [],
   "source": [
    "df[\"20240102\":\"20240104\"]"
   ]
  },
  {
   "cell_type": "markdown",
   "metadata": {},
   "source": [
    "Selecting a row matching a label"
   ]
  },
  {
   "cell_type": "code",
   "execution_count": null,
   "metadata": {
    "ExecuteTime": {
     "end_time": "2024-09-03T02:29:22.845891Z",
     "start_time": "2024-09-03T02:29:22.841327Z"
    }
   },
   "outputs": [],
   "source": [
    "df.loc[dates[0]]"
   ]
  },
  {
   "cell_type": "markdown",
   "metadata": {},
   "source": [
    "Selecting all rows (:) with a select column labels"
   ]
  },
  {
   "cell_type": "code",
   "execution_count": null,
   "metadata": {
    "ExecuteTime": {
     "end_time": "2024-09-03T02:29:25.401018Z",
     "start_time": "2024-09-03T02:29:25.394270Z"
    }
   },
   "outputs": [],
   "source": [
    "df.loc[:, [\"A\", \"B\"]]"
   ]
  },
  {
   "cell_type": "markdown",
   "metadata": {},
   "source": [
    "Selecting a single row and column label returns a scalar"
   ]
  },
  {
   "cell_type": "code",
   "execution_count": null,
   "metadata": {
    "ExecuteTime": {
     "end_time": "2024-09-03T02:29:27.061071Z",
     "start_time": "2024-09-03T02:29:27.057871Z"
    }
   },
   "outputs": [],
   "source": [
    "df.loc[dates[0], \"A\"]"
   ]
  },
  {
   "cell_type": "markdown",
   "metadata": {},
   "source": [
    "Select via the position of the passed integers"
   ]
  },
  {
   "cell_type": "code",
   "execution_count": null,
   "metadata": {
    "ExecuteTime": {
     "end_time": "2024-09-03T02:29:29.831301Z",
     "start_time": "2024-09-03T02:29:29.827060Z"
    }
   },
   "outputs": [],
   "source": [
    "df.iloc[3]"
   ]
  },
  {
   "cell_type": "markdown",
   "metadata": {
    "ExecuteTime": {
     "end_time": "2023-09-08T06:04:14.511122Z",
     "start_time": "2023-09-08T06:04:14.503572Z"
    }
   },
   "source": [
    "Integer slices acts similar to NumPy/Python"
   ]
  },
  {
   "cell_type": "code",
   "execution_count": null,
   "metadata": {
    "ExecuteTime": {
     "end_time": "2024-09-03T02:29:32.240785Z",
     "start_time": "2024-09-03T02:29:32.234531Z"
    }
   },
   "outputs": [],
   "source": [
    "df.iloc[3:5, 0:2]"
   ]
  },
  {
   "cell_type": "markdown",
   "metadata": {},
   "source": [
    "Boolean Indexing\n",
    "\n",
    "Select rows where df.A is greater than 0"
   ]
  },
  {
   "cell_type": "code",
   "execution_count": null,
   "metadata": {
    "ExecuteTime": {
     "end_time": "2024-09-03T02:29:33.459007Z",
     "start_time": "2024-09-03T02:29:33.450799Z"
    }
   },
   "outputs": [],
   "source": [
    "df[df[\"A\"] > 0]"
   ]
  },
  {
   "cell_type": "markdown",
   "metadata": {},
   "source": [
    "Pandas provides various facilities for easily combining together Series and DataFrame objects with various kinds of set logic for the indexes and relational algebra functionality in the case of join / merge-type operations.\n",
    "\n",
    "Concatenating pandas objects together row-wise with concat()"
   ]
  },
  {
   "cell_type": "code",
   "execution_count": null,
   "metadata": {
    "ExecuteTime": {
     "end_time": "2024-09-03T02:29:36.236157Z",
     "start_time": "2024-09-03T02:29:36.234102Z"
    }
   },
   "outputs": [],
   "source": [
    "df = pd.DataFrame(np.random.randn(10, 4))"
   ]
  },
  {
   "cell_type": "code",
   "execution_count": null,
   "metadata": {
    "ExecuteTime": {
     "end_time": "2024-09-03T02:29:36.903821Z",
     "start_time": "2024-09-03T02:29:36.896997Z"
    }
   },
   "outputs": [],
   "source": [
    "df"
   ]
  },
  {
   "cell_type": "code",
   "execution_count": null,
   "metadata": {
    "ExecuteTime": {
     "end_time": "2024-09-03T02:29:38.465199Z",
     "start_time": "2024-09-03T02:29:38.459292Z"
    }
   },
   "outputs": [],
   "source": [
    "df[7:]"
   ]
  },
  {
   "cell_type": "code",
   "execution_count": null,
   "metadata": {
    "ExecuteTime": {
     "end_time": "2024-09-03T02:29:40.322741Z",
     "start_time": "2024-09-03T02:29:40.314887Z"
    }
   },
   "outputs": [],
   "source": [
    "pieces_of_df = [df[0:3], df[3:7], df[7:]]\n",
    "pieces_of_df[2]"
   ]
  },
  {
   "cell_type": "code",
   "execution_count": null,
   "metadata": {
    "ExecuteTime": {
     "end_time": "2024-09-03T02:29:46.706278Z",
     "start_time": "2024-09-03T02:29:46.698230Z"
    }
   },
   "outputs": [],
   "source": [
    "pd.concat(pieces_of_df)"
   ]
  },
  {
   "cell_type": "markdown",
   "metadata": {},
   "source": [
    "merge() enables SQL style join types along specific columns"
   ]
  },
  {
   "cell_type": "code",
   "execution_count": null,
   "metadata": {
    "ExecuteTime": {
     "end_time": "2024-09-03T02:29:49.022307Z",
     "start_time": "2024-09-03T02:29:49.019489Z"
    }
   },
   "outputs": [],
   "source": [
    "left = pd.DataFrame({\"key\": [\"foo\", \"foo\"], \"lval\": [1, 2]})"
   ]
  },
  {
   "cell_type": "code",
   "execution_count": null,
   "metadata": {
    "ExecuteTime": {
     "end_time": "2024-09-03T02:29:49.622144Z",
     "start_time": "2024-09-03T02:29:49.619125Z"
    }
   },
   "outputs": [],
   "source": [
    "right = pd.DataFrame({\"key\": [\"foo\", \"foo\"], \"rval\": [4, 5]})"
   ]
  },
  {
   "cell_type": "code",
   "execution_count": null,
   "metadata": {
    "ExecuteTime": {
     "end_time": "2024-09-03T02:29:50.034661Z",
     "start_time": "2024-09-03T02:29:50.026514Z"
    }
   },
   "outputs": [],
   "source": [
    "pd.merge(left, right, on=\"key\")"
   ]
  },
  {
   "cell_type": "code",
   "execution_count": null,
   "metadata": {},
   "outputs": [],
   "source": []
  }
 ],
 "metadata": {
  "kernelspec": {
   "display_name": "wb3",
   "language": "python",
   "name": "wb3"
  },
  "language_info": {
   "codemirror_mode": {
    "name": "ipython",
    "version": 3
   },
   "file_extension": ".py",
   "mimetype": "text/x-python",
   "name": "python",
   "nbconvert_exporter": "python",
   "pygments_lexer": "ipython3",
   "version": "3.9.16"
  },
  "toc": {
   "base_numbering": 1,
   "nav_menu": {},
   "number_sections": true,
   "sideBar": true,
   "skip_h1_title": false,
   "title_cell": "Table of Contents",
   "title_sidebar": "Contents",
   "toc_cell": true,
   "toc_position": {
    "height": "calc(100% - 180px)",
    "left": "10px",
    "top": "150px",
    "width": "165px"
   },
   "toc_section_display": true,
   "toc_window_display": true
  }
 },
 "nbformat": 4,
 "nbformat_minor": 4
}
