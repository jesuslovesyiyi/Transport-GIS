{
 "cells": [
  {
   "cell_type": "markdown",
   "metadata": {
    "toc": true
   },
   "source": [
    "<h1>Table of Contents<span class=\"tocSkip\"></span></h1>\n",
    "<div class=\"toc\"><ul class=\"toc-item\"><li><span><a href=\"#Install-pandas-and-networkx-libraries\" data-toc-modified-id=\"Install-pandas-and-networkx-libraries-1\"><span class=\"toc-item-num\">1&nbsp;&nbsp;</span>Install pandas and networkx libraries</a></span></li><li><span><a href=\"#Start-a-Jupyter-Notebook-Session\" data-toc-modified-id=\"Start-a-Jupyter-Notebook-Session-2\"><span class=\"toc-item-num\">2&nbsp;&nbsp;</span>Start a Jupyter Notebook Session</a></span><ul class=\"toc-item\"><li><span><a href=\"#Simple-calculations\" data-toc-modified-id=\"Simple-calculations-2.1\"><span class=\"toc-item-num\">2.1&nbsp;&nbsp;</span>Simple calculations</a></span></li><li><span><a href=\"#Working-with-lists\" data-toc-modified-id=\"Working-with-lists-2.2\"><span class=\"toc-item-num\">2.2&nbsp;&nbsp;</span>Working with lists</a></span></li><li><span><a href=\"#Basic-data-structures-in-pandas\" data-toc-modified-id=\"Basic-data-structures-in-pandas-2.3\"><span class=\"toc-item-num\">2.3&nbsp;&nbsp;</span>Basic data structures in pandas</a></span></li></ul></li><li><span><a href=\"#Network-modeling-with-NetworkX\" data-toc-modified-id=\"Network-modeling-with-NetworkX-3\"><span class=\"toc-item-num\">3&nbsp;&nbsp;</span>Network modeling with NetworkX</a></span><ul class=\"toc-item\"><li><span><a href=\"#Creating-a-Graph\" data-toc-modified-id=\"Creating-a-Graph-3.1\"><span class=\"toc-item-num\">3.1&nbsp;&nbsp;</span>Creating a Graph</a></span></li><li><span><a href=\"#Examining-elements-of-a-graph\" data-toc-modified-id=\"Examining-elements-of-a-graph-3.2\"><span class=\"toc-item-num\">3.2&nbsp;&nbsp;</span>Examining elements of a graph</a></span></li><li><span><a href=\"#Accessing-edges-and-neighbors\" data-toc-modified-id=\"Accessing-edges-and-neighbors-3.3\"><span class=\"toc-item-num\">3.3&nbsp;&nbsp;</span>Accessing edges and neighbors</a></span></li><li><span><a href=\"#Adding-attributes-to-graphs,-nodes,-and-edges\" data-toc-modified-id=\"Adding-attributes-to-graphs,-nodes,-and-edges-3.4\"><span class=\"toc-item-num\">3.4&nbsp;&nbsp;</span>Adding attributes to graphs, nodes, and edges</a></span><ul class=\"toc-item\"><li><span><a href=\"#Node-attributes\" data-toc-modified-id=\"Node-attributes-3.4.1\"><span class=\"toc-item-num\">3.4.1&nbsp;&nbsp;</span>Node attributes</a></span></li><li><span><a href=\"#Edge-attributes\" data-toc-modified-id=\"Edge-attributes-3.4.2\"><span class=\"toc-item-num\">3.4.2&nbsp;&nbsp;</span>Edge attributes</a></span></li></ul></li><li><span><a href=\"#Reading-a-graph-stored-in-a-file-using-common-graph-formats\" data-toc-modified-id=\"Reading-a-graph-stored-in-a-file-using-common-graph-formats-3.5\"><span class=\"toc-item-num\">3.5&nbsp;&nbsp;</span>Reading a graph stored in a file using common graph formats</a></span></li><li><span><a href=\"#Drawing-graphs\" data-toc-modified-id=\"Drawing-graphs-3.6\"><span class=\"toc-item-num\">3.6&nbsp;&nbsp;</span>Drawing graphs</a></span></li></ul></li><li><span><a href=\"#Bonus:-Pandas-advanced-functions-and-methods\" data-toc-modified-id=\"Bonus:-Pandas-advanced-functions-and-methods-4\"><span class=\"toc-item-num\">4&nbsp;&nbsp;</span>Bonus: Pandas advanced functions and methods</a></span></li></ul></div>"
   ]
  },
  {
   "cell_type": "markdown",
   "metadata": {},
   "source": [
    "# Install pandas and networkx libraries"
   ]
  },
  {
   "cell_type": "markdown",
   "metadata": {},
   "source": [
    "Install pandas library https://pandas.pydata.org/docs/getting_started/install.html\n",
    "\n",
    "> pip install pandas\n"
   ]
  },
  {
   "cell_type": "markdown",
   "metadata": {},
   "source": [
    "Install networkx library https://networkx.org/documentation/stable/install.html\n",
    "> pip install networkx"
   ]
  },
  {
   "cell_type": "code",
   "execution_count": 83,
   "metadata": {
    "ExecuteTime": {
     "end_time": "2024-09-03T02:31:06.543804Z",
     "start_time": "2024-09-03T02:31:06.541408Z"
    }
   },
   "outputs": [],
   "source": [
    "import numpy as np\n",
    "import pandas as pd\n",
    "import networkx as nx"
   ]
  },
  {
   "cell_type": "markdown",
   "metadata": {
    "heading_collapsed": true
   },
   "source": [
    "# Start a Jupyter Notebook Session"
   ]
  },
  {
   "cell_type": "markdown",
   "metadata": {
    "hidden": true
   },
   "source": [
    "If you are using a cloud-based service a Jupyter session will be started when you log on.\n",
    "\n",
    "If you have installed a Jupyter/Python distribution on your laptop then you can open a Jupyter session in one of two different ways:\n",
    "\n",
    "Use the Anaconda Navigator App, or\n",
    "open a terminal window on your laptop and execute the following statement at the command line:\n",
    "\n",
    "  > jupyter notebook"
   ]
  },
  {
   "cell_type": "markdown",
   "metadata": {
    "hidden": true
   },
   "source": [
    "At this point the browser displays a list of directories and files. You can navigate amoung the directories in the usual way by clicking on directory names"
   ]
  },
  {
   "cell_type": "markdown",
   "metadata": {
    "hidden": true
   },
   "source": [
    "Jupyter notebooks are simply files in a directory with a .ipynb suffix. They can be stored in any directory including Dropbox or Google Drive. Upload and create new Jupyter notebooks in the displayed directory using the appropriate buttons. Use the checkboxes to select items for other actions, such as to duplicate, to rename, or to delete notebooks and directories.\n",
    "\n",
    "- select one of your existing notebooks to work on,\n",
    "- start a new notebook by clicking on the New Notebook button, or\n",
    "- import a notebook from another directory by dragging it onto the list of notebooks.\n",
    "\n",
    "An IPython notebook consists of cells that hold headings, text, or python code. The user interface is relatively self-explanatory. Take a few minutes now to open, rename, and save a new notebook.\n",
    "\n",
    "Here's a quick video (30min21s) overview of Jupyter notebooks."
   ]
  },
  {
   "cell_type": "code",
   "execution_count": 2,
   "metadata": {
    "ExecuteTime": {
     "end_time": "2024-09-03T00:53:37.041374Z",
     "start_time": "2024-09-03T00:53:36.931758Z"
    },
    "hidden": true
   },
   "outputs": [
    {
     "data": {
      "image/jpeg": "[encoded data removed]",
      "text/html": [
       "\n",
       "        <iframe\n",
       "            width=\"800\"\n",
       "            height=\"500\"\n",
       "            src=\"https://www.youtube.com/embed/HW29067qVWk?rel=0\"\n",
       "            frameborder=\"0\"\n",
       "            allowfullscreen\n",
       "        ></iframe>\n",
       "        "
      ],
      "text/plain": [
       "<IPython.lib.display.YouTubeVideo at 0x7fb8a81a98b0>"
      ]
     },
     "execution_count": 2,
     "metadata": {},
     "output_type": "execute_result"
    }
   ],
   "source": [
    "from IPython.display import YouTubeVideo\n",
    "YouTubeVideo(\"HW29067qVWk\",800,500,rel=0)"
   ]
  },
  {
   "cell_type": "markdown",
   "metadata": {
    "hidden": true
   },
   "source": [
    "## Simple calculations"
   ]
  },
  {
   "cell_type": "markdown",
   "metadata": {
    "hidden": true
   },
   "source": [
    "Basic arithmetic operations are built into the Python langauge. Here are some examples. In particular, note that exponentiation is done with the ** operator."
   ]
  },
  {
   "cell_type": "code",
   "execution_count": 3,
   "metadata": {
    "ExecuteTime": {
     "end_time": "2024-09-03T00:57:34.666334Z",
     "start_time": "2024-09-03T00:57:34.663279Z"
    },
    "hidden": true
   },
   "outputs": [
    {
     "name": "stdout",
     "output_type": "stream",
     "text": [
      "5\n",
      "9\n",
      "1.5\n"
     ]
    }
   ],
   "source": [
    "a = 3\n",
    "b = 2\n",
    "\n",
    "print(a + b)\n",
    "print(a**b)\n",
    "print(a/b)"
   ]
  },
  {
   "cell_type": "markdown",
   "metadata": {
    "hidden": true
   },
   "source": [
    "## Working with lists"
   ]
  },
  {
   "cell_type": "markdown",
   "metadata": {
    "hidden": true
   },
   "source": [
    "Lists are a versatile way of organizing your data in Python. Here are some examples:"
   ]
  },
  {
   "cell_type": "code",
   "execution_count": 4,
   "metadata": {
    "ExecuteTime": {
     "end_time": "2024-09-03T00:57:37.525499Z",
     "start_time": "2024-09-03T00:57:37.522212Z"
    },
    "hidden": true
   },
   "outputs": [
    {
     "data": {
      "text/plain": [
       "[1, 2, 3, 4]"
      ]
     },
     "execution_count": 4,
     "metadata": {},
     "output_type": "execute_result"
    }
   ],
   "source": [
    "xList = [1, 2, 3, 4]\n",
    "xList"
   ]
  },
  {
   "cell_type": "markdown",
   "metadata": {
    "hidden": true
   },
   "source": [
    "Concatentation is the operation of joining one list to another."
   ]
  },
  {
   "cell_type": "code",
   "execution_count": 5,
   "metadata": {
    "ExecuteTime": {
     "end_time": "2024-09-03T00:57:40.126785Z",
     "start_time": "2024-09-03T00:57:40.122909Z"
    },
    "hidden": true
   },
   "outputs": [
    {
     "data": {
      "text/plain": [
       "[1, 2, 3, 4, 5, 6, 7, 8]"
      ]
     },
     "execution_count": 5,
     "metadata": {},
     "output_type": "execute_result"
    }
   ],
   "source": [
    "# Concatenation\n",
    "x = [1, 2, 3, 4];\n",
    "y = [5, 6, 7, 8];\n",
    "\n",
    "x + y"
   ]
  },
  {
   "cell_type": "markdown",
   "metadata": {
    "hidden": true
   },
   "source": [
    "Sum a list of numbers"
   ]
  },
  {
   "cell_type": "code",
   "execution_count": 6,
   "metadata": {
    "ExecuteTime": {
     "end_time": "2024-09-03T00:57:46.109512Z",
     "start_time": "2024-09-03T00:57:46.105969Z"
    },
    "hidden": true
   },
   "outputs": [
    {
     "data": {
      "text/plain": [
       "26"
      ]
     },
     "execution_count": 6,
     "metadata": {},
     "output_type": "execute_result"
    }
   ],
   "source": [
    "np.sum(y)"
   ]
  },
  {
   "cell_type": "code",
   "execution_count": 7,
   "metadata": {
    "ExecuteTime": {
     "end_time": "2024-09-03T00:57:47.598027Z",
     "start_time": "2024-09-03T00:57:47.592834Z"
    },
    "hidden": true
   },
   "outputs": [
    {
     "data": {
      "text/plain": [
       "26"
      ]
     },
     "execution_count": 7,
     "metadata": {},
     "output_type": "execute_result"
    }
   ],
   "source": [
    "sum(y)"
   ]
  },
  {
   "cell_type": "markdown",
   "metadata": {
    "hidden": true
   },
   "source": [
    "An element-by-element operation between two lists may be performed with"
   ]
  },
  {
   "cell_type": "code",
   "execution_count": 8,
   "metadata": {
    "ExecuteTime": {
     "end_time": "2024-09-03T00:58:01.012904Z",
     "start_time": "2024-09-03T00:58:01.010067Z"
    },
    "hidden": true
   },
   "outputs": [
    {
     "name": "stdout",
     "output_type": "stream",
     "text": [
      "[ 6  8 10 12]\n"
     ]
    }
   ],
   "source": [
    "print(np.add(x,y))"
   ]
  },
  {
   "cell_type": "code",
   "execution_count": 9,
   "metadata": {
    "ExecuteTime": {
     "end_time": "2024-09-03T00:58:12.710371Z",
     "start_time": "2024-09-03T00:58:12.707612Z"
    },
    "hidden": true
   },
   "outputs": [
    {
     "name": "stdout",
     "output_type": "stream",
     "text": [
      "70\n"
     ]
    }
   ],
   "source": [
    "print(np.dot(x,y))"
   ]
  },
  {
   "cell_type": "markdown",
   "metadata": {
    "hidden": true
   },
   "source": [
    "A for loop is a means for iterating over the elements of a list. The colon marks the start of code that will be executed for each element of a list. Indenting has meaning in Python. In this case, everything in the indented block will be executed on each iteration of the for loop. This example also demonstrates string formatting."
   ]
  },
  {
   "cell_type": "code",
   "execution_count": 10,
   "metadata": {
    "ExecuteTime": {
     "end_time": "2024-09-03T00:58:19.268517Z",
     "start_time": "2024-09-03T00:58:19.265650Z"
    },
    "hidden": true
   },
   "outputs": [
    {
     "name": "stdout",
     "output_type": "stream",
     "text": [
      "I am looking at item: 1\n",
      "I am looking at item: 2\n",
      "I am looking at item: 3\n",
      "I am looking at item: 4\n"
     ]
    }
   ],
   "source": [
    "xList\n",
    "\n",
    "for item in xList:\n",
    "    print(\"I am looking at item:\", item)"
   ]
  },
  {
   "cell_type": "code",
   "execution_count": 11,
   "metadata": {
    "ExecuteTime": {
     "end_time": "2024-09-03T00:58:23.334612Z",
     "start_time": "2024-09-03T00:58:23.331849Z"
    },
    "hidden": true
   },
   "outputs": [
    {
     "name": "stdout",
     "output_type": "stream",
     "text": [
      "The index is 0, and the value is 1\n",
      "The index is 1, and the value is 2\n",
      "The index is 2, and the value is 3\n",
      "The index is 3, and the value is 4\n"
     ]
    }
   ],
   "source": [
    "for idx, item in enumerate(xList):\n",
    "    print(f\"The index is {idx}, and the value is {item}\")"
   ]
  },
  {
   "cell_type": "markdown",
   "metadata": {
    "hidden": true
   },
   "source": [
    "## Basic data structures in pandas"
   ]
  },
  {
   "cell_type": "markdown",
   "metadata": {
    "hidden": true
   },
   "source": [
    "Pandas provides two types of classes for handling data:\n",
    "\n",
    "> Series: a one-dimensional labeled array holding data of any type\n",
    "such as integers, strings, Python objects etc.\n",
    "\n",
    "> DataFrame: a two-dimensional data structure that holds data like a two-dimension array or a table with rows and columns."
   ]
  },
  {
   "cell_type": "markdown",
   "metadata": {
    "hidden": true
   },
   "source": [
    "Creating a Series by passing a list of values, letting pandas create a default RangeIndex"
   ]
  },
  {
   "cell_type": "code",
   "execution_count": 12,
   "metadata": {
    "ExecuteTime": {
     "end_time": "2024-09-03T00:59:24.042966Z",
     "start_time": "2024-09-03T00:59:24.037883Z"
    },
    "hidden": true
   },
   "outputs": [
    {
     "data": {
      "text/plain": [
       "0    1.0\n",
       "1    3.0\n",
       "2    5.0\n",
       "3    NaN\n",
       "4    6.0\n",
       "5    8.0\n",
       "dtype: float64"
      ]
     },
     "execution_count": 12,
     "metadata": {},
     "output_type": "execute_result"
    }
   ],
   "source": [
    "s = pd.Series([1, 3, 5, np.nan, 6, 8])\n",
    "s"
   ]
  },
  {
   "cell_type": "markdown",
   "metadata": {
    "hidden": true
   },
   "source": [
    "Creating a DataFrame by passing a NumPy array with a datetime index using date_range() and labeled columns"
   ]
  },
  {
   "cell_type": "code",
   "execution_count": 13,
   "metadata": {
    "ExecuteTime": {
     "end_time": "2024-09-03T00:59:26.904226Z",
     "start_time": "2024-09-03T00:59:26.900109Z"
    },
    "hidden": true
   },
   "outputs": [
    {
     "data": {
      "text/plain": [
       "DatetimeIndex(['2024-01-01', '2024-01-02', '2024-01-03', '2024-01-04',\n",
       "               '2024-01-05', '2024-01-06'],\n",
       "              dtype='datetime64[ns]', freq='D')"
      ]
     },
     "execution_count": 13,
     "metadata": {},
     "output_type": "execute_result"
    }
   ],
   "source": [
    "dates = pd.date_range(\"20240101\", periods=6)\n",
    "dates"
   ]
  },
  {
   "cell_type": "code",
   "execution_count": 15,
   "metadata": {
    "ExecuteTime": {
     "end_time": "2024-09-03T00:59:38.746210Z",
     "start_time": "2024-09-03T00:59:38.734695Z"
    },
    "hidden": true
   },
   "outputs": [
    {
     "data": {
      "text/html": [
       "<div>\n",
       "<style scoped>\n",
       "    .dataframe tbody tr th:only-of-type {\n",
       "        vertical-align: middle;\n",
       "    }\n",
       "\n",
       "    .dataframe tbody tr th {\n",
       "        vertical-align: top;\n",
       "    }\n",
       "\n",
       "    .dataframe thead th {\n",
       "        text-align: right;\n",
       "    }\n",
       "</style>\n",
       "<table border=\"1\" class=\"dataframe\">\n",
       "  <thead>\n",
       "    <tr style=\"text-align: right;\">\n",
       "      <th></th>\n",
       "      <th>A</th>\n",
       "      <th>B</th>\n",
       "      <th>C</th>\n",
       "      <th>D</th>\n",
       "      <th>E</th>\n",
       "    </tr>\n",
       "  </thead>\n",
       "  <tbody>\n",
       "    <tr>\n",
       "      <th>2024-01-01</th>\n",
       "      <td>0.398992</td>\n",
       "      <td>-0.705722</td>\n",
       "      <td>0.647397</td>\n",
       "      <td>0.643289</td>\n",
       "      <td>-0.241213</td>\n",
       "    </tr>\n",
       "    <tr>\n",
       "      <th>2024-01-02</th>\n",
       "      <td>0.974753</td>\n",
       "      <td>0.183478</td>\n",
       "      <td>0.734640</td>\n",
       "      <td>-1.393124</td>\n",
       "      <td>0.836931</td>\n",
       "    </tr>\n",
       "    <tr>\n",
       "      <th>2024-01-03</th>\n",
       "      <td>1.324641</td>\n",
       "      <td>0.355224</td>\n",
       "      <td>0.267260</td>\n",
       "      <td>-0.707808</td>\n",
       "      <td>0.132574</td>\n",
       "    </tr>\n",
       "    <tr>\n",
       "      <th>2024-01-04</th>\n",
       "      <td>-1.676161</td>\n",
       "      <td>0.490386</td>\n",
       "      <td>0.437516</td>\n",
       "      <td>0.674595</td>\n",
       "      <td>-0.680765</td>\n",
       "    </tr>\n",
       "    <tr>\n",
       "      <th>2024-01-05</th>\n",
       "      <td>1.581475</td>\n",
       "      <td>-0.127488</td>\n",
       "      <td>0.991004</td>\n",
       "      <td>0.658706</td>\n",
       "      <td>1.133160</td>\n",
       "    </tr>\n",
       "    <tr>\n",
       "      <th>2024-01-06</th>\n",
       "      <td>-0.255155</td>\n",
       "      <td>0.443390</td>\n",
       "      <td>0.403922</td>\n",
       "      <td>0.413419</td>\n",
       "      <td>-1.172471</td>\n",
       "    </tr>\n",
       "  </tbody>\n",
       "</table>\n",
       "</div>"
      ],
      "text/plain": [
       "                   A         B         C         D         E\n",
       "2024-01-01  0.398992 -0.705722  0.647397  0.643289 -0.241213\n",
       "2024-01-02  0.974753  0.183478  0.734640 -1.393124  0.836931\n",
       "2024-01-03  1.324641  0.355224  0.267260 -0.707808  0.132574\n",
       "2024-01-04 -1.676161  0.490386  0.437516  0.674595 -0.680765\n",
       "2024-01-05  1.581475 -0.127488  0.991004  0.658706  1.133160\n",
       "2024-01-06 -0.255155  0.443390  0.403922  0.413419 -1.172471"
      ]
     },
     "execution_count": 15,
     "metadata": {},
     "output_type": "execute_result"
    }
   ],
   "source": [
    "df = pd.DataFrame(np.random.randn(6, 5), index=dates, columns=list(\"ABCDE\"))\n",
    "df"
   ]
  },
  {
   "cell_type": "markdown",
   "metadata": {
    "hidden": true
   },
   "source": [
    "Creating a DataFrame by passing a dictionary of objects where the keys are the column labels and the values are the column values."
   ]
  },
  {
   "cell_type": "code",
   "execution_count": 16,
   "metadata": {
    "ExecuteTime": {
     "end_time": "2024-09-03T00:59:50.161036Z",
     "start_time": "2024-09-03T00:59:50.156189Z"
    },
    "hidden": true
   },
   "outputs": [],
   "source": [
    "df2 = pd.DataFrame(\n",
    "    {\n",
    "        \"A\": 1.0,\n",
    "        \"B\": pd.Timestamp(\"20240102\"),\n",
    "        \"C\": pd.Series(1, index=list(range(4)), dtype=\"float32\"),\n",
    "        \"D\": np.array([3] * 4, dtype=\"int32\"),\n",
    "        \"E\": pd.Categorical([\"test\", \"train\", \"test\", \"train\"]),\n",
    "        \"F\": \"foo\",\n",
    "    }\n",
    ")"
   ]
  },
  {
   "cell_type": "code",
   "execution_count": 17,
   "metadata": {
    "ExecuteTime": {
     "end_time": "2024-09-03T00:59:52.609719Z",
     "start_time": "2024-09-03T00:59:52.602331Z"
    },
    "hidden": true
   },
   "outputs": [
    {
     "data": {
      "text/html": [
       "<div>\n",
       "<style scoped>\n",
       "    .dataframe tbody tr th:only-of-type {\n",
       "        vertical-align: middle;\n",
       "    }\n",
       "\n",
       "    .dataframe tbody tr th {\n",
       "        vertical-align: top;\n",
       "    }\n",
       "\n",
       "    .dataframe thead th {\n",
       "        text-align: right;\n",
       "    }\n",
       "</style>\n",
       "<table border=\"1\" class=\"dataframe\">\n",
       "  <thead>\n",
       "    <tr style=\"text-align: right;\">\n",
       "      <th></th>\n",
       "      <th>A</th>\n",
       "      <th>B</th>\n",
       "      <th>C</th>\n",
       "      <th>D</th>\n",
       "      <th>E</th>\n",
       "      <th>F</th>\n",
       "    </tr>\n",
       "  </thead>\n",
       "  <tbody>\n",
       "    <tr>\n",
       "      <th>0</th>\n",
       "      <td>1.0</td>\n",
       "      <td>2013-01-02</td>\n",
       "      <td>1.0</td>\n",
       "      <td>3</td>\n",
       "      <td>test</td>\n",
       "      <td>foo</td>\n",
       "    </tr>\n",
       "    <tr>\n",
       "      <th>1</th>\n",
       "      <td>1.0</td>\n",
       "      <td>2013-01-02</td>\n",
       "      <td>1.0</td>\n",
       "      <td>3</td>\n",
       "      <td>train</td>\n",
       "      <td>foo</td>\n",
       "    </tr>\n",
       "    <tr>\n",
       "      <th>2</th>\n",
       "      <td>1.0</td>\n",
       "      <td>2013-01-02</td>\n",
       "      <td>1.0</td>\n",
       "      <td>3</td>\n",
       "      <td>test</td>\n",
       "      <td>foo</td>\n",
       "    </tr>\n",
       "    <tr>\n",
       "      <th>3</th>\n",
       "      <td>1.0</td>\n",
       "      <td>2013-01-02</td>\n",
       "      <td>1.0</td>\n",
       "      <td>3</td>\n",
       "      <td>train</td>\n",
       "      <td>foo</td>\n",
       "    </tr>\n",
       "  </tbody>\n",
       "</table>\n",
       "</div>"
      ],
      "text/plain": [
       "     A          B    C  D      E    F\n",
       "0  1.0 2013-01-02  1.0  3   test  foo\n",
       "1  1.0 2013-01-02  1.0  3  train  foo\n",
       "2  1.0 2013-01-02  1.0  3   test  foo\n",
       "3  1.0 2013-01-02  1.0  3  train  foo"
      ]
     },
     "execution_count": 17,
     "metadata": {},
     "output_type": "execute_result"
    }
   ],
   "source": [
    "df2"
   ]
  },
  {
   "cell_type": "markdown",
   "metadata": {
    "hidden": true
   },
   "source": [
    "The columns of the resulting DataFrame have different dtypes"
   ]
  },
  {
   "cell_type": "code",
   "execution_count": 18,
   "metadata": {
    "ExecuteTime": {
     "end_time": "2024-09-03T00:59:55.477951Z",
     "start_time": "2024-09-03T00:59:55.474110Z"
    },
    "hidden": true
   },
   "outputs": [
    {
     "data": {
      "text/plain": [
       "A          float64\n",
       "B    datetime64[s]\n",
       "C          float32\n",
       "D            int32\n",
       "E         category\n",
       "F           object\n",
       "dtype: object"
      ]
     },
     "execution_count": 18,
     "metadata": {},
     "output_type": "execute_result"
    }
   ],
   "source": [
    "df2.dtypes"
   ]
  },
  {
   "cell_type": "markdown",
   "metadata": {
    "hidden": true
   },
   "source": [
    "Display the DataFrame.index or DataFrame.columns"
   ]
  },
  {
   "cell_type": "code",
   "execution_count": 19,
   "metadata": {
    "ExecuteTime": {
     "end_time": "2024-09-03T01:00:48.330929Z",
     "start_time": "2024-09-03T01:00:48.327092Z"
    },
    "hidden": true
   },
   "outputs": [
    {
     "data": {
      "text/plain": [
       "DatetimeIndex(['2024-01-01', '2024-01-02', '2024-01-03', '2024-01-04',\n",
       "               '2024-01-05', '2024-01-06'],\n",
       "              dtype='datetime64[ns]', freq='D')"
      ]
     },
     "execution_count": 19,
     "metadata": {},
     "output_type": "execute_result"
    }
   ],
   "source": [
    "df.index"
   ]
  },
  {
   "cell_type": "markdown",
   "metadata": {
    "hidden": true
   },
   "source": [
    "Return a NumPy representation of the underlying data with DataFrame.to_numpy() without the index or column labels"
   ]
  },
  {
   "cell_type": "code",
   "execution_count": 20,
   "metadata": {
    "ExecuteTime": {
     "end_time": "2024-09-03T01:01:00.215259Z",
     "start_time": "2024-09-03T01:01:00.211847Z"
    },
    "hidden": true
   },
   "outputs": [
    {
     "data": {
      "text/plain": [
       "array([[ 0.39899167, -0.70572235,  0.64739674,  0.64328928, -0.24121298],\n",
       "       [ 0.97475275,  0.18347831,  0.73464041, -1.3931243 ,  0.83693053],\n",
       "       [ 1.32464143,  0.35522433,  0.26726015, -0.70780821,  0.13257405],\n",
       "       [-1.67616127,  0.49038622,  0.43751602,  0.67459451, -0.68076481],\n",
       "       [ 1.58147451, -0.12748823,  0.99100425,  0.65870626,  1.13316025],\n",
       "       [-0.25515453,  0.44339005,  0.40392189,  0.41341906, -1.17247129]])"
      ]
     },
     "execution_count": 20,
     "metadata": {},
     "output_type": "execute_result"
    }
   ],
   "source": [
    "df.to_numpy()"
   ]
  },
  {
   "cell_type": "markdown",
   "metadata": {
    "hidden": true
   },
   "source": [
    "describe() shows a quick statistic summary of your data"
   ]
  },
  {
   "cell_type": "code",
   "execution_count": 21,
   "metadata": {
    "ExecuteTime": {
     "end_time": "2024-09-03T01:01:01.944408Z",
     "start_time": "2024-09-03T01:01:01.916204Z"
    },
    "hidden": true
   },
   "outputs": [
    {
     "data": {
      "text/html": [
       "<div>\n",
       "<style scoped>\n",
       "    .dataframe tbody tr th:only-of-type {\n",
       "        vertical-align: middle;\n",
       "    }\n",
       "\n",
       "    .dataframe tbody tr th {\n",
       "        vertical-align: top;\n",
       "    }\n",
       "\n",
       "    .dataframe thead th {\n",
       "        text-align: right;\n",
       "    }\n",
       "</style>\n",
       "<table border=\"1\" class=\"dataframe\">\n",
       "  <thead>\n",
       "    <tr style=\"text-align: right;\">\n",
       "      <th></th>\n",
       "      <th>A</th>\n",
       "      <th>B</th>\n",
       "      <th>C</th>\n",
       "      <th>D</th>\n",
       "      <th>E</th>\n",
       "    </tr>\n",
       "  </thead>\n",
       "  <tbody>\n",
       "    <tr>\n",
       "      <th>count</th>\n",
       "      <td>6.000000</td>\n",
       "      <td>6.000000</td>\n",
       "      <td>6.000000</td>\n",
       "      <td>6.000000</td>\n",
       "      <td>6.000000</td>\n",
       "    </tr>\n",
       "    <tr>\n",
       "      <th>mean</th>\n",
       "      <td>0.391424</td>\n",
       "      <td>0.106545</td>\n",
       "      <td>0.580290</td>\n",
       "      <td>0.048179</td>\n",
       "      <td>0.001369</td>\n",
       "    </tr>\n",
       "    <tr>\n",
       "      <th>std</th>\n",
       "      <td>1.209993</td>\n",
       "      <td>0.456751</td>\n",
       "      <td>0.263246</td>\n",
       "      <td>0.883354</td>\n",
       "      <td>0.882993</td>\n",
       "    </tr>\n",
       "    <tr>\n",
       "      <th>min</th>\n",
       "      <td>-1.676161</td>\n",
       "      <td>-0.705722</td>\n",
       "      <td>0.267260</td>\n",
       "      <td>-1.393124</td>\n",
       "      <td>-1.172471</td>\n",
       "    </tr>\n",
       "    <tr>\n",
       "      <th>25%</th>\n",
       "      <td>-0.091618</td>\n",
       "      <td>-0.049747</td>\n",
       "      <td>0.412320</td>\n",
       "      <td>-0.427501</td>\n",
       "      <td>-0.570877</td>\n",
       "    </tr>\n",
       "    <tr>\n",
       "      <th>50%</th>\n",
       "      <td>0.686872</td>\n",
       "      <td>0.269351</td>\n",
       "      <td>0.542456</td>\n",
       "      <td>0.528354</td>\n",
       "      <td>-0.054319</td>\n",
       "    </tr>\n",
       "    <tr>\n",
       "      <th>75%</th>\n",
       "      <td>1.237169</td>\n",
       "      <td>0.421349</td>\n",
       "      <td>0.712829</td>\n",
       "      <td>0.654852</td>\n",
       "      <td>0.660841</td>\n",
       "    </tr>\n",
       "    <tr>\n",
       "      <th>max</th>\n",
       "      <td>1.581475</td>\n",
       "      <td>0.490386</td>\n",
       "      <td>0.991004</td>\n",
       "      <td>0.674595</td>\n",
       "      <td>1.133160</td>\n",
       "    </tr>\n",
       "  </tbody>\n",
       "</table>\n",
       "</div>"
      ],
      "text/plain": [
       "              A         B         C         D         E\n",
       "count  6.000000  6.000000  6.000000  6.000000  6.000000\n",
       "mean   0.391424  0.106545  0.580290  0.048179  0.001369\n",
       "std    1.209993  0.456751  0.263246  0.883354  0.882993\n",
       "min   -1.676161 -0.705722  0.267260 -1.393124 -1.172471\n",
       "25%   -0.091618 -0.049747  0.412320 -0.427501 -0.570877\n",
       "50%    0.686872  0.269351  0.542456  0.528354 -0.054319\n",
       "75%    1.237169  0.421349  0.712829  0.654852  0.660841\n",
       "max    1.581475  0.490386  0.991004  0.674595  1.133160"
      ]
     },
     "execution_count": 21,
     "metadata": {},
     "output_type": "execute_result"
    }
   ],
   "source": [
    "df.describe()"
   ]
  },
  {
   "cell_type": "markdown",
   "metadata": {
    "hidden": true
   },
   "source": [
    "Transposing your data"
   ]
  },
  {
   "cell_type": "code",
   "execution_count": 22,
   "metadata": {
    "ExecuteTime": {
     "end_time": "2024-09-03T01:01:04.929875Z",
     "start_time": "2024-09-03T01:01:04.919915Z"
    },
    "hidden": true
   },
   "outputs": [
    {
     "data": {
      "text/html": [
       "<div>\n",
       "<style scoped>\n",
       "    .dataframe tbody tr th:only-of-type {\n",
       "        vertical-align: middle;\n",
       "    }\n",
       "\n",
       "    .dataframe tbody tr th {\n",
       "        vertical-align: top;\n",
       "    }\n",
       "\n",
       "    .dataframe thead th {\n",
       "        text-align: right;\n",
       "    }\n",
       "</style>\n",
       "<table border=\"1\" class=\"dataframe\">\n",
       "  <thead>\n",
       "    <tr style=\"text-align: right;\">\n",
       "      <th></th>\n",
       "      <th>2024-01-01</th>\n",
       "      <th>2024-01-02</th>\n",
       "      <th>2024-01-03</th>\n",
       "      <th>2024-01-04</th>\n",
       "      <th>2024-01-05</th>\n",
       "      <th>2024-01-06</th>\n",
       "    </tr>\n",
       "  </thead>\n",
       "  <tbody>\n",
       "    <tr>\n",
       "      <th>A</th>\n",
       "      <td>0.398992</td>\n",
       "      <td>0.974753</td>\n",
       "      <td>1.324641</td>\n",
       "      <td>-1.676161</td>\n",
       "      <td>1.581475</td>\n",
       "      <td>-0.255155</td>\n",
       "    </tr>\n",
       "    <tr>\n",
       "      <th>B</th>\n",
       "      <td>-0.705722</td>\n",
       "      <td>0.183478</td>\n",
       "      <td>0.355224</td>\n",
       "      <td>0.490386</td>\n",
       "      <td>-0.127488</td>\n",
       "      <td>0.443390</td>\n",
       "    </tr>\n",
       "    <tr>\n",
       "      <th>C</th>\n",
       "      <td>0.647397</td>\n",
       "      <td>0.734640</td>\n",
       "      <td>0.267260</td>\n",
       "      <td>0.437516</td>\n",
       "      <td>0.991004</td>\n",
       "      <td>0.403922</td>\n",
       "    </tr>\n",
       "    <tr>\n",
       "      <th>D</th>\n",
       "      <td>0.643289</td>\n",
       "      <td>-1.393124</td>\n",
       "      <td>-0.707808</td>\n",
       "      <td>0.674595</td>\n",
       "      <td>0.658706</td>\n",
       "      <td>0.413419</td>\n",
       "    </tr>\n",
       "    <tr>\n",
       "      <th>E</th>\n",
       "      <td>-0.241213</td>\n",
       "      <td>0.836931</td>\n",
       "      <td>0.132574</td>\n",
       "      <td>-0.680765</td>\n",
       "      <td>1.133160</td>\n",
       "      <td>-1.172471</td>\n",
       "    </tr>\n",
       "  </tbody>\n",
       "</table>\n",
       "</div>"
      ],
      "text/plain": [
       "   2024-01-01  2024-01-02  2024-01-03  2024-01-04  2024-01-05  2024-01-06\n",
       "A    0.398992    0.974753    1.324641   -1.676161    1.581475   -0.255155\n",
       "B   -0.705722    0.183478    0.355224    0.490386   -0.127488    0.443390\n",
       "C    0.647397    0.734640    0.267260    0.437516    0.991004    0.403922\n",
       "D    0.643289   -1.393124   -0.707808    0.674595    0.658706    0.413419\n",
       "E   -0.241213    0.836931    0.132574   -0.680765    1.133160   -1.172471"
      ]
     },
     "execution_count": 22,
     "metadata": {},
     "output_type": "execute_result"
    }
   ],
   "source": [
    "df.T"
   ]
  },
  {
   "cell_type": "markdown",
   "metadata": {
    "ExecuteTime": {
     "end_time": "2023-09-08T06:00:21.612591Z",
     "start_time": "2023-09-08T06:00:21.609392Z"
    },
    "hidden": true
   },
   "source": [
    "DataFrame.sort_index() sorts by an axis"
   ]
  },
  {
   "cell_type": "code",
   "execution_count": 23,
   "metadata": {
    "ExecuteTime": {
     "end_time": "2024-09-03T01:01:07.897308Z",
     "start_time": "2024-09-03T01:01:07.888064Z"
    },
    "hidden": true
   },
   "outputs": [
    {
     "data": {
      "text/html": [
       "<div>\n",
       "<style scoped>\n",
       "    .dataframe tbody tr th:only-of-type {\n",
       "        vertical-align: middle;\n",
       "    }\n",
       "\n",
       "    .dataframe tbody tr th {\n",
       "        vertical-align: top;\n",
       "    }\n",
       "\n",
       "    .dataframe thead th {\n",
       "        text-align: right;\n",
       "    }\n",
       "</style>\n",
       "<table border=\"1\" class=\"dataframe\">\n",
       "  <thead>\n",
       "    <tr style=\"text-align: right;\">\n",
       "      <th></th>\n",
       "      <th>A</th>\n",
       "      <th>B</th>\n",
       "      <th>C</th>\n",
       "      <th>D</th>\n",
       "      <th>E</th>\n",
       "    </tr>\n",
       "  </thead>\n",
       "  <tbody>\n",
       "    <tr>\n",
       "      <th>2024-01-06</th>\n",
       "      <td>-0.255155</td>\n",
       "      <td>0.443390</td>\n",
       "      <td>0.403922</td>\n",
       "      <td>0.413419</td>\n",
       "      <td>-1.172471</td>\n",
       "    </tr>\n",
       "    <tr>\n",
       "      <th>2024-01-05</th>\n",
       "      <td>1.581475</td>\n",
       "      <td>-0.127488</td>\n",
       "      <td>0.991004</td>\n",
       "      <td>0.658706</td>\n",
       "      <td>1.133160</td>\n",
       "    </tr>\n",
       "    <tr>\n",
       "      <th>2024-01-04</th>\n",
       "      <td>-1.676161</td>\n",
       "      <td>0.490386</td>\n",
       "      <td>0.437516</td>\n",
       "      <td>0.674595</td>\n",
       "      <td>-0.680765</td>\n",
       "    </tr>\n",
       "    <tr>\n",
       "      <th>2024-01-03</th>\n",
       "      <td>1.324641</td>\n",
       "      <td>0.355224</td>\n",
       "      <td>0.267260</td>\n",
       "      <td>-0.707808</td>\n",
       "      <td>0.132574</td>\n",
       "    </tr>\n",
       "    <tr>\n",
       "      <th>2024-01-02</th>\n",
       "      <td>0.974753</td>\n",
       "      <td>0.183478</td>\n",
       "      <td>0.734640</td>\n",
       "      <td>-1.393124</td>\n",
       "      <td>0.836931</td>\n",
       "    </tr>\n",
       "    <tr>\n",
       "      <th>2024-01-01</th>\n",
       "      <td>0.398992</td>\n",
       "      <td>-0.705722</td>\n",
       "      <td>0.647397</td>\n",
       "      <td>0.643289</td>\n",
       "      <td>-0.241213</td>\n",
       "    </tr>\n",
       "  </tbody>\n",
       "</table>\n",
       "</div>"
      ],
      "text/plain": [
       "                   A         B         C         D         E\n",
       "2024-01-06 -0.255155  0.443390  0.403922  0.413419 -1.172471\n",
       "2024-01-05  1.581475 -0.127488  0.991004  0.658706  1.133160\n",
       "2024-01-04 -1.676161  0.490386  0.437516  0.674595 -0.680765\n",
       "2024-01-03  1.324641  0.355224  0.267260 -0.707808  0.132574\n",
       "2024-01-02  0.974753  0.183478  0.734640 -1.393124  0.836931\n",
       "2024-01-01  0.398992 -0.705722  0.647397  0.643289 -0.241213"
      ]
     },
     "execution_count": 23,
     "metadata": {},
     "output_type": "execute_result"
    }
   ],
   "source": [
    "df.sort_index(axis=0, ascending=False)"
   ]
  },
  {
   "cell_type": "markdown",
   "metadata": {
    "hidden": true
   },
   "source": [
    "DataFrame.sort_values() sorts by values"
   ]
  },
  {
   "cell_type": "code",
   "execution_count": 24,
   "metadata": {
    "ExecuteTime": {
     "end_time": "2024-09-03T01:01:12.327058Z",
     "start_time": "2024-09-03T01:01:12.318403Z"
    },
    "hidden": true
   },
   "outputs": [
    {
     "data": {
      "text/html": [
       "<div>\n",
       "<style scoped>\n",
       "    .dataframe tbody tr th:only-of-type {\n",
       "        vertical-align: middle;\n",
       "    }\n",
       "\n",
       "    .dataframe tbody tr th {\n",
       "        vertical-align: top;\n",
       "    }\n",
       "\n",
       "    .dataframe thead th {\n",
       "        text-align: right;\n",
       "    }\n",
       "</style>\n",
       "<table border=\"1\" class=\"dataframe\">\n",
       "  <thead>\n",
       "    <tr style=\"text-align: right;\">\n",
       "      <th></th>\n",
       "      <th>A</th>\n",
       "      <th>B</th>\n",
       "      <th>C</th>\n",
       "      <th>D</th>\n",
       "      <th>E</th>\n",
       "    </tr>\n",
       "  </thead>\n",
       "  <tbody>\n",
       "    <tr>\n",
       "      <th>2024-01-04</th>\n",
       "      <td>-1.676161</td>\n",
       "      <td>0.490386</td>\n",
       "      <td>0.437516</td>\n",
       "      <td>0.674595</td>\n",
       "      <td>-0.680765</td>\n",
       "    </tr>\n",
       "    <tr>\n",
       "      <th>2024-01-06</th>\n",
       "      <td>-0.255155</td>\n",
       "      <td>0.443390</td>\n",
       "      <td>0.403922</td>\n",
       "      <td>0.413419</td>\n",
       "      <td>-1.172471</td>\n",
       "    </tr>\n",
       "    <tr>\n",
       "      <th>2024-01-03</th>\n",
       "      <td>1.324641</td>\n",
       "      <td>0.355224</td>\n",
       "      <td>0.267260</td>\n",
       "      <td>-0.707808</td>\n",
       "      <td>0.132574</td>\n",
       "    </tr>\n",
       "    <tr>\n",
       "      <th>2024-01-02</th>\n",
       "      <td>0.974753</td>\n",
       "      <td>0.183478</td>\n",
       "      <td>0.734640</td>\n",
       "      <td>-1.393124</td>\n",
       "      <td>0.836931</td>\n",
       "    </tr>\n",
       "    <tr>\n",
       "      <th>2024-01-05</th>\n",
       "      <td>1.581475</td>\n",
       "      <td>-0.127488</td>\n",
       "      <td>0.991004</td>\n",
       "      <td>0.658706</td>\n",
       "      <td>1.133160</td>\n",
       "    </tr>\n",
       "    <tr>\n",
       "      <th>2024-01-01</th>\n",
       "      <td>0.398992</td>\n",
       "      <td>-0.705722</td>\n",
       "      <td>0.647397</td>\n",
       "      <td>0.643289</td>\n",
       "      <td>-0.241213</td>\n",
       "    </tr>\n",
       "  </tbody>\n",
       "</table>\n",
       "</div>"
      ],
      "text/plain": [
       "                   A         B         C         D         E\n",
       "2024-01-04 -1.676161  0.490386  0.437516  0.674595 -0.680765\n",
       "2024-01-06 -0.255155  0.443390  0.403922  0.413419 -1.172471\n",
       "2024-01-03  1.324641  0.355224  0.267260 -0.707808  0.132574\n",
       "2024-01-02  0.974753  0.183478  0.734640 -1.393124  0.836931\n",
       "2024-01-05  1.581475 -0.127488  0.991004  0.658706  1.133160\n",
       "2024-01-01  0.398992 -0.705722  0.647397  0.643289 -0.241213"
      ]
     },
     "execution_count": 24,
     "metadata": {},
     "output_type": "execute_result"
    }
   ],
   "source": [
    "df.sort_values(by=\"B\", ascending=False)"
   ]
  },
  {
   "cell_type": "markdown",
   "metadata": {
    "hidden": true
   },
   "source": [
    "For a DataFrame, passing a single label selects a columns and yields a Series equivalent to df.A"
   ]
  },
  {
   "cell_type": "code",
   "execution_count": 27,
   "metadata": {
    "ExecuteTime": {
     "end_time": "2024-09-03T01:01:32.211400Z",
     "start_time": "2024-09-03T01:01:32.207357Z"
    },
    "hidden": true
   },
   "outputs": [
    {
     "data": {
      "text/plain": [
       "2024-01-01    0.398992\n",
       "2024-01-02    0.974753\n",
       "2024-01-03    1.324641\n",
       "2024-01-04   -1.676161\n",
       "2024-01-05    1.581475\n",
       "2024-01-06   -0.255155\n",
       "Freq: D, Name: A, dtype: float64"
      ]
     },
     "execution_count": 27,
     "metadata": {},
     "output_type": "execute_result"
    }
   ],
   "source": [
    "df[\"A\"]"
   ]
  },
  {
   "cell_type": "markdown",
   "metadata": {
    "hidden": true
   },
   "source": [
    "For a DataFrame, passing a slice : selects matching rows"
   ]
  },
  {
   "cell_type": "code",
   "execution_count": 28,
   "metadata": {
    "ExecuteTime": {
     "end_time": "2024-09-03T01:01:48.040840Z",
     "start_time": "2024-09-03T01:01:48.033294Z"
    },
    "hidden": true
   },
   "outputs": [
    {
     "data": {
      "text/html": [
       "<div>\n",
       "<style scoped>\n",
       "    .dataframe tbody tr th:only-of-type {\n",
       "        vertical-align: middle;\n",
       "    }\n",
       "\n",
       "    .dataframe tbody tr th {\n",
       "        vertical-align: top;\n",
       "    }\n",
       "\n",
       "    .dataframe thead th {\n",
       "        text-align: right;\n",
       "    }\n",
       "</style>\n",
       "<table border=\"1\" class=\"dataframe\">\n",
       "  <thead>\n",
       "    <tr style=\"text-align: right;\">\n",
       "      <th></th>\n",
       "      <th>A</th>\n",
       "      <th>B</th>\n",
       "      <th>C</th>\n",
       "      <th>D</th>\n",
       "      <th>E</th>\n",
       "    </tr>\n",
       "  </thead>\n",
       "  <tbody>\n",
       "    <tr>\n",
       "      <th>2024-01-02</th>\n",
       "      <td>0.974753</td>\n",
       "      <td>0.183478</td>\n",
       "      <td>0.73464</td>\n",
       "      <td>-1.393124</td>\n",
       "      <td>0.836931</td>\n",
       "    </tr>\n",
       "    <tr>\n",
       "      <th>2024-01-03</th>\n",
       "      <td>1.324641</td>\n",
       "      <td>0.355224</td>\n",
       "      <td>0.26726</td>\n",
       "      <td>-0.707808</td>\n",
       "      <td>0.132574</td>\n",
       "    </tr>\n",
       "  </tbody>\n",
       "</table>\n",
       "</div>"
      ],
      "text/plain": [
       "                   A         B        C         D         E\n",
       "2024-01-02  0.974753  0.183478  0.73464 -1.393124  0.836931\n",
       "2024-01-03  1.324641  0.355224  0.26726 -0.707808  0.132574"
      ]
     },
     "execution_count": 28,
     "metadata": {},
     "output_type": "execute_result"
    }
   ],
   "source": [
    "df[1:3]"
   ]
  },
  {
   "cell_type": "markdown",
   "metadata": {
    "hidden": true
   },
   "source": [
    "Selecting all rows (:) with a select column labels"
   ]
  },
  {
   "cell_type": "code",
   "execution_count": 30,
   "metadata": {
    "ExecuteTime": {
     "end_time": "2024-09-03T01:02:19.407983Z",
     "start_time": "2024-09-03T01:02:19.400662Z"
    },
    "hidden": true
   },
   "outputs": [
    {
     "data": {
      "text/html": [
       "<div>\n",
       "<style scoped>\n",
       "    .dataframe tbody tr th:only-of-type {\n",
       "        vertical-align: middle;\n",
       "    }\n",
       "\n",
       "    .dataframe tbody tr th {\n",
       "        vertical-align: top;\n",
       "    }\n",
       "\n",
       "    .dataframe thead th {\n",
       "        text-align: right;\n",
       "    }\n",
       "</style>\n",
       "<table border=\"1\" class=\"dataframe\">\n",
       "  <thead>\n",
       "    <tr style=\"text-align: right;\">\n",
       "      <th></th>\n",
       "      <th>A</th>\n",
       "      <th>B</th>\n",
       "    </tr>\n",
       "  </thead>\n",
       "  <tbody>\n",
       "    <tr>\n",
       "      <th>2024-01-01</th>\n",
       "      <td>0.398992</td>\n",
       "      <td>-0.705722</td>\n",
       "    </tr>\n",
       "    <tr>\n",
       "      <th>2024-01-02</th>\n",
       "      <td>0.974753</td>\n",
       "      <td>0.183478</td>\n",
       "    </tr>\n",
       "    <tr>\n",
       "      <th>2024-01-03</th>\n",
       "      <td>1.324641</td>\n",
       "      <td>0.355224</td>\n",
       "    </tr>\n",
       "    <tr>\n",
       "      <th>2024-01-04</th>\n",
       "      <td>-1.676161</td>\n",
       "      <td>0.490386</td>\n",
       "    </tr>\n",
       "    <tr>\n",
       "      <th>2024-01-05</th>\n",
       "      <td>1.581475</td>\n",
       "      <td>-0.127488</td>\n",
       "    </tr>\n",
       "    <tr>\n",
       "      <th>2024-01-06</th>\n",
       "      <td>-0.255155</td>\n",
       "      <td>0.443390</td>\n",
       "    </tr>\n",
       "  </tbody>\n",
       "</table>\n",
       "</div>"
      ],
      "text/plain": [
       "                   A         B\n",
       "2024-01-01  0.398992 -0.705722\n",
       "2024-01-02  0.974753  0.183478\n",
       "2024-01-03  1.324641  0.355224\n",
       "2024-01-04 -1.676161  0.490386\n",
       "2024-01-05  1.581475 -0.127488\n",
       "2024-01-06 -0.255155  0.443390"
      ]
     },
     "execution_count": 30,
     "metadata": {},
     "output_type": "execute_result"
    }
   ],
   "source": [
    "df.loc[:, [\"A\", \"B\"]]"
   ]
  },
  {
   "cell_type": "markdown",
   "metadata": {
    "hidden": true
   },
   "source": [
    "Selecting a single row and column label returns a scalar"
   ]
  },
  {
   "cell_type": "code",
   "execution_count": 29,
   "metadata": {
    "ExecuteTime": {
     "end_time": "2024-09-03T01:02:17.686310Z",
     "start_time": "2024-09-03T01:02:17.682512Z"
    },
    "hidden": true
   },
   "outputs": [
    {
     "data": {
      "text/plain": [
       "0.3989916659516968"
      ]
     },
     "execution_count": 29,
     "metadata": {},
     "output_type": "execute_result"
    }
   ],
   "source": [
    "df.loc[dates[0], \"A\"]"
   ]
  },
  {
   "cell_type": "markdown",
   "metadata": {
    "hidden": true
   },
   "source": [
    "Select via the position of the passed integers"
   ]
  },
  {
   "cell_type": "code",
   "execution_count": 31,
   "metadata": {
    "ExecuteTime": {
     "end_time": "2024-09-03T01:02:23.214912Z",
     "start_time": "2024-09-03T01:02:23.210434Z"
    },
    "hidden": true
   },
   "outputs": [
    {
     "data": {
      "text/plain": [
       "A   -1.676161\n",
       "B    0.490386\n",
       "C    0.437516\n",
       "D    0.674595\n",
       "E   -0.680765\n",
       "Name: 2024-01-04 00:00:00, dtype: float64"
      ]
     },
     "execution_count": 31,
     "metadata": {},
     "output_type": "execute_result"
    }
   ],
   "source": [
    "df.iloc[3]"
   ]
  },
  {
   "cell_type": "markdown",
   "metadata": {
    "ExecuteTime": {
     "end_time": "2023-09-08T06:04:14.511122Z",
     "start_time": "2023-09-08T06:04:14.503572Z"
    },
    "hidden": true
   },
   "source": [
    "Integer slices acts similar to NumPy/Python"
   ]
  },
  {
   "cell_type": "code",
   "execution_count": 32,
   "metadata": {
    "ExecuteTime": {
     "end_time": "2024-09-03T01:02:28.286527Z",
     "start_time": "2024-09-03T01:02:28.280390Z"
    },
    "hidden": true
   },
   "outputs": [
    {
     "data": {
      "text/html": [
       "<div>\n",
       "<style scoped>\n",
       "    .dataframe tbody tr th:only-of-type {\n",
       "        vertical-align: middle;\n",
       "    }\n",
       "\n",
       "    .dataframe tbody tr th {\n",
       "        vertical-align: top;\n",
       "    }\n",
       "\n",
       "    .dataframe thead th {\n",
       "        text-align: right;\n",
       "    }\n",
       "</style>\n",
       "<table border=\"1\" class=\"dataframe\">\n",
       "  <thead>\n",
       "    <tr style=\"text-align: right;\">\n",
       "      <th></th>\n",
       "      <th>A</th>\n",
       "      <th>B</th>\n",
       "    </tr>\n",
       "  </thead>\n",
       "  <tbody>\n",
       "    <tr>\n",
       "      <th>2024-01-04</th>\n",
       "      <td>-1.676161</td>\n",
       "      <td>0.490386</td>\n",
       "    </tr>\n",
       "    <tr>\n",
       "      <th>2024-01-05</th>\n",
       "      <td>1.581475</td>\n",
       "      <td>-0.127488</td>\n",
       "    </tr>\n",
       "  </tbody>\n",
       "</table>\n",
       "</div>"
      ],
      "text/plain": [
       "                   A         B\n",
       "2024-01-04 -1.676161  0.490386\n",
       "2024-01-05  1.581475 -0.127488"
      ]
     },
     "execution_count": 32,
     "metadata": {},
     "output_type": "execute_result"
    }
   ],
   "source": [
    "df.iloc[3:5, 0:2]"
   ]
  },
  {
   "cell_type": "markdown",
   "metadata": {
    "hidden": true
   },
   "source": [
    "Pandas provides various facilities for easily combining together Series and DataFrame objects with various kinds of set logic for the indexes and relational algebra functionality in the case of join / merge-type operations.\n",
    "\n",
    "Concatenating pandas objects together row-wise with concat()"
   ]
  },
  {
   "cell_type": "code",
   "execution_count": 33,
   "metadata": {
    "ExecuteTime": {
     "end_time": "2024-09-03T01:02:56.173229Z",
     "start_time": "2024-09-03T01:02:56.170720Z"
    },
    "hidden": true
   },
   "outputs": [],
   "source": [
    "df = pd.DataFrame(np.random.randn(10, 4))"
   ]
  },
  {
   "cell_type": "code",
   "execution_count": 34,
   "metadata": {
    "ExecuteTime": {
     "end_time": "2024-09-03T01:02:56.529533Z",
     "start_time": "2024-09-03T01:02:56.521973Z"
    },
    "hidden": true
   },
   "outputs": [
    {
     "data": {
      "text/html": [
       "<div>\n",
       "<style scoped>\n",
       "    .dataframe tbody tr th:only-of-type {\n",
       "        vertical-align: middle;\n",
       "    }\n",
       "\n",
       "    .dataframe tbody tr th {\n",
       "        vertical-align: top;\n",
       "    }\n",
       "\n",
       "    .dataframe thead th {\n",
       "        text-align: right;\n",
       "    }\n",
       "</style>\n",
       "<table border=\"1\" class=\"dataframe\">\n",
       "  <thead>\n",
       "    <tr style=\"text-align: right;\">\n",
       "      <th></th>\n",
       "      <th>0</th>\n",
       "      <th>1</th>\n",
       "      <th>2</th>\n",
       "      <th>3</th>\n",
       "    </tr>\n",
       "  </thead>\n",
       "  <tbody>\n",
       "    <tr>\n",
       "      <th>0</th>\n",
       "      <td>0.420153</td>\n",
       "      <td>0.164938</td>\n",
       "      <td>-0.371259</td>\n",
       "      <td>-0.909656</td>\n",
       "    </tr>\n",
       "    <tr>\n",
       "      <th>1</th>\n",
       "      <td>0.287225</td>\n",
       "      <td>1.180899</td>\n",
       "      <td>0.619523</td>\n",
       "      <td>-0.507354</td>\n",
       "    </tr>\n",
       "    <tr>\n",
       "      <th>2</th>\n",
       "      <td>-1.922591</td>\n",
       "      <td>1.747730</td>\n",
       "      <td>-0.515925</td>\n",
       "      <td>-1.689922</td>\n",
       "    </tr>\n",
       "    <tr>\n",
       "      <th>3</th>\n",
       "      <td>-0.408980</td>\n",
       "      <td>-1.051204</td>\n",
       "      <td>0.288444</td>\n",
       "      <td>1.003613</td>\n",
       "    </tr>\n",
       "    <tr>\n",
       "      <th>4</th>\n",
       "      <td>-0.097873</td>\n",
       "      <td>-0.222320</td>\n",
       "      <td>-0.748488</td>\n",
       "      <td>-1.187445</td>\n",
       "    </tr>\n",
       "    <tr>\n",
       "      <th>5</th>\n",
       "      <td>-0.049639</td>\n",
       "      <td>-0.154996</td>\n",
       "      <td>0.207541</td>\n",
       "      <td>1.758722</td>\n",
       "    </tr>\n",
       "    <tr>\n",
       "      <th>6</th>\n",
       "      <td>-0.343254</td>\n",
       "      <td>0.514785</td>\n",
       "      <td>-1.048150</td>\n",
       "      <td>0.444147</td>\n",
       "    </tr>\n",
       "    <tr>\n",
       "      <th>7</th>\n",
       "      <td>0.074092</td>\n",
       "      <td>0.713409</td>\n",
       "      <td>-0.709389</td>\n",
       "      <td>1.371211</td>\n",
       "    </tr>\n",
       "    <tr>\n",
       "      <th>8</th>\n",
       "      <td>-0.501554</td>\n",
       "      <td>-0.184692</td>\n",
       "      <td>1.249297</td>\n",
       "      <td>-1.063719</td>\n",
       "    </tr>\n",
       "    <tr>\n",
       "      <th>9</th>\n",
       "      <td>-0.114230</td>\n",
       "      <td>0.346265</td>\n",
       "      <td>-1.701520</td>\n",
       "      <td>-0.356562</td>\n",
       "    </tr>\n",
       "  </tbody>\n",
       "</table>\n",
       "</div>"
      ],
      "text/plain": [
       "          0         1         2         3\n",
       "0  0.420153  0.164938 -0.371259 -0.909656\n",
       "1  0.287225  1.180899  0.619523 -0.507354\n",
       "2 -1.922591  1.747730 -0.515925 -1.689922\n",
       "3 -0.408980 -1.051204  0.288444  1.003613\n",
       "4 -0.097873 -0.222320 -0.748488 -1.187445\n",
       "5 -0.049639 -0.154996  0.207541  1.758722\n",
       "6 -0.343254  0.514785 -1.048150  0.444147\n",
       "7  0.074092  0.713409 -0.709389  1.371211\n",
       "8 -0.501554 -0.184692  1.249297 -1.063719\n",
       "9 -0.114230  0.346265 -1.701520 -0.356562"
      ]
     },
     "execution_count": 34,
     "metadata": {},
     "output_type": "execute_result"
    }
   ],
   "source": [
    "df"
   ]
  },
  {
   "cell_type": "code",
   "execution_count": 35,
   "metadata": {
    "ExecuteTime": {
     "end_time": "2024-09-03T01:02:57.289251Z",
     "start_time": "2024-09-03T01:02:57.282572Z"
    },
    "hidden": true
   },
   "outputs": [
    {
     "data": {
      "text/html": [
       "<div>\n",
       "<style scoped>\n",
       "    .dataframe tbody tr th:only-of-type {\n",
       "        vertical-align: middle;\n",
       "    }\n",
       "\n",
       "    .dataframe tbody tr th {\n",
       "        vertical-align: top;\n",
       "    }\n",
       "\n",
       "    .dataframe thead th {\n",
       "        text-align: right;\n",
       "    }\n",
       "</style>\n",
       "<table border=\"1\" class=\"dataframe\">\n",
       "  <thead>\n",
       "    <tr style=\"text-align: right;\">\n",
       "      <th></th>\n",
       "      <th>0</th>\n",
       "      <th>1</th>\n",
       "      <th>2</th>\n",
       "      <th>3</th>\n",
       "    </tr>\n",
       "  </thead>\n",
       "  <tbody>\n",
       "    <tr>\n",
       "      <th>7</th>\n",
       "      <td>0.074092</td>\n",
       "      <td>0.713409</td>\n",
       "      <td>-0.709389</td>\n",
       "      <td>1.371211</td>\n",
       "    </tr>\n",
       "    <tr>\n",
       "      <th>8</th>\n",
       "      <td>-0.501554</td>\n",
       "      <td>-0.184692</td>\n",
       "      <td>1.249297</td>\n",
       "      <td>-1.063719</td>\n",
       "    </tr>\n",
       "    <tr>\n",
       "      <th>9</th>\n",
       "      <td>-0.114230</td>\n",
       "      <td>0.346265</td>\n",
       "      <td>-1.701520</td>\n",
       "      <td>-0.356562</td>\n",
       "    </tr>\n",
       "  </tbody>\n",
       "</table>\n",
       "</div>"
      ],
      "text/plain": [
       "          0         1         2         3\n",
       "7  0.074092  0.713409 -0.709389  1.371211\n",
       "8 -0.501554 -0.184692  1.249297 -1.063719\n",
       "9 -0.114230  0.346265 -1.701520 -0.356562"
      ]
     },
     "execution_count": 35,
     "metadata": {},
     "output_type": "execute_result"
    }
   ],
   "source": [
    "df[7:]"
   ]
  },
  {
   "cell_type": "code",
   "execution_count": 36,
   "metadata": {
    "ExecuteTime": {
     "end_time": "2024-09-03T01:02:58.849846Z",
     "start_time": "2024-09-03T01:02:58.842844Z"
    },
    "hidden": true
   },
   "outputs": [
    {
     "data": {
      "text/html": [
       "<div>\n",
       "<style scoped>\n",
       "    .dataframe tbody tr th:only-of-type {\n",
       "        vertical-align: middle;\n",
       "    }\n",
       "\n",
       "    .dataframe tbody tr th {\n",
       "        vertical-align: top;\n",
       "    }\n",
       "\n",
       "    .dataframe thead th {\n",
       "        text-align: right;\n",
       "    }\n",
       "</style>\n",
       "<table border=\"1\" class=\"dataframe\">\n",
       "  <thead>\n",
       "    <tr style=\"text-align: right;\">\n",
       "      <th></th>\n",
       "      <th>0</th>\n",
       "      <th>1</th>\n",
       "      <th>2</th>\n",
       "      <th>3</th>\n",
       "    </tr>\n",
       "  </thead>\n",
       "  <tbody>\n",
       "    <tr>\n",
       "      <th>7</th>\n",
       "      <td>0.074092</td>\n",
       "      <td>0.713409</td>\n",
       "      <td>-0.709389</td>\n",
       "      <td>1.371211</td>\n",
       "    </tr>\n",
       "    <tr>\n",
       "      <th>8</th>\n",
       "      <td>-0.501554</td>\n",
       "      <td>-0.184692</td>\n",
       "      <td>1.249297</td>\n",
       "      <td>-1.063719</td>\n",
       "    </tr>\n",
       "    <tr>\n",
       "      <th>9</th>\n",
       "      <td>-0.114230</td>\n",
       "      <td>0.346265</td>\n",
       "      <td>-1.701520</td>\n",
       "      <td>-0.356562</td>\n",
       "    </tr>\n",
       "  </tbody>\n",
       "</table>\n",
       "</div>"
      ],
      "text/plain": [
       "          0         1         2         3\n",
       "7  0.074092  0.713409 -0.709389  1.371211\n",
       "8 -0.501554 -0.184692  1.249297 -1.063719\n",
       "9 -0.114230  0.346265 -1.701520 -0.356562"
      ]
     },
     "execution_count": 36,
     "metadata": {},
     "output_type": "execute_result"
    }
   ],
   "source": [
    "pieces_of_df = [df[0:3], df[3:7], df[7:]]\n",
    "pieces_of_df[2]"
   ]
  },
  {
   "cell_type": "code",
   "execution_count": 38,
   "metadata": {
    "ExecuteTime": {
     "end_time": "2024-09-03T01:03:09.722956Z",
     "start_time": "2024-09-03T01:03:09.715479Z"
    },
    "hidden": true
   },
   "outputs": [
    {
     "data": {
      "text/html": [
       "<div>\n",
       "<style scoped>\n",
       "    .dataframe tbody tr th:only-of-type {\n",
       "        vertical-align: middle;\n",
       "    }\n",
       "\n",
       "    .dataframe tbody tr th {\n",
       "        vertical-align: top;\n",
       "    }\n",
       "\n",
       "    .dataframe thead th {\n",
       "        text-align: right;\n",
       "    }\n",
       "</style>\n",
       "<table border=\"1\" class=\"dataframe\">\n",
       "  <thead>\n",
       "    <tr style=\"text-align: right;\">\n",
       "      <th></th>\n",
       "      <th>0</th>\n",
       "      <th>1</th>\n",
       "      <th>2</th>\n",
       "      <th>3</th>\n",
       "    </tr>\n",
       "  </thead>\n",
       "  <tbody>\n",
       "    <tr>\n",
       "      <th>0</th>\n",
       "      <td>0.420153</td>\n",
       "      <td>0.164938</td>\n",
       "      <td>-0.371259</td>\n",
       "      <td>-0.909656</td>\n",
       "    </tr>\n",
       "    <tr>\n",
       "      <th>1</th>\n",
       "      <td>0.287225</td>\n",
       "      <td>1.180899</td>\n",
       "      <td>0.619523</td>\n",
       "      <td>-0.507354</td>\n",
       "    </tr>\n",
       "    <tr>\n",
       "      <th>2</th>\n",
       "      <td>-1.922591</td>\n",
       "      <td>1.747730</td>\n",
       "      <td>-0.515925</td>\n",
       "      <td>-1.689922</td>\n",
       "    </tr>\n",
       "    <tr>\n",
       "      <th>3</th>\n",
       "      <td>-0.408980</td>\n",
       "      <td>-1.051204</td>\n",
       "      <td>0.288444</td>\n",
       "      <td>1.003613</td>\n",
       "    </tr>\n",
       "    <tr>\n",
       "      <th>4</th>\n",
       "      <td>-0.097873</td>\n",
       "      <td>-0.222320</td>\n",
       "      <td>-0.748488</td>\n",
       "      <td>-1.187445</td>\n",
       "    </tr>\n",
       "    <tr>\n",
       "      <th>5</th>\n",
       "      <td>-0.049639</td>\n",
       "      <td>-0.154996</td>\n",
       "      <td>0.207541</td>\n",
       "      <td>1.758722</td>\n",
       "    </tr>\n",
       "    <tr>\n",
       "      <th>6</th>\n",
       "      <td>-0.343254</td>\n",
       "      <td>0.514785</td>\n",
       "      <td>-1.048150</td>\n",
       "      <td>0.444147</td>\n",
       "    </tr>\n",
       "    <tr>\n",
       "      <th>7</th>\n",
       "      <td>0.074092</td>\n",
       "      <td>0.713409</td>\n",
       "      <td>-0.709389</td>\n",
       "      <td>1.371211</td>\n",
       "    </tr>\n",
       "    <tr>\n",
       "      <th>8</th>\n",
       "      <td>-0.501554</td>\n",
       "      <td>-0.184692</td>\n",
       "      <td>1.249297</td>\n",
       "      <td>-1.063719</td>\n",
       "    </tr>\n",
       "    <tr>\n",
       "      <th>9</th>\n",
       "      <td>-0.114230</td>\n",
       "      <td>0.346265</td>\n",
       "      <td>-1.701520</td>\n",
       "      <td>-0.356562</td>\n",
       "    </tr>\n",
       "  </tbody>\n",
       "</table>\n",
       "</div>"
      ],
      "text/plain": [
       "          0         1         2         3\n",
       "0  0.420153  0.164938 -0.371259 -0.909656\n",
       "1  0.287225  1.180899  0.619523 -0.507354\n",
       "2 -1.922591  1.747730 -0.515925 -1.689922\n",
       "3 -0.408980 -1.051204  0.288444  1.003613\n",
       "4 -0.097873 -0.222320 -0.748488 -1.187445\n",
       "5 -0.049639 -0.154996  0.207541  1.758722\n",
       "6 -0.343254  0.514785 -1.048150  0.444147\n",
       "7  0.074092  0.713409 -0.709389  1.371211\n",
       "8 -0.501554 -0.184692  1.249297 -1.063719\n",
       "9 -0.114230  0.346265 -1.701520 -0.356562"
      ]
     },
     "execution_count": 38,
     "metadata": {},
     "output_type": "execute_result"
    }
   ],
   "source": [
    "pd.concat(pieces_of_df)"
   ]
  },
  {
   "cell_type": "markdown",
   "metadata": {
    "hidden": true
   },
   "source": [
    "merge() enables SQL style join types along specific columns"
   ]
  },
  {
   "cell_type": "code",
   "execution_count": 39,
   "metadata": {
    "ExecuteTime": {
     "end_time": "2024-09-03T01:03:24.470063Z",
     "start_time": "2024-09-03T01:03:24.467374Z"
    },
    "hidden": true
   },
   "outputs": [],
   "source": [
    "left = pd.DataFrame({\"key\": [\"foo\", \"foo\"], \"lval\": [1, 2]})"
   ]
  },
  {
   "cell_type": "code",
   "execution_count": 40,
   "metadata": {
    "ExecuteTime": {
     "end_time": "2024-09-03T01:03:25.342204Z",
     "start_time": "2024-09-03T01:03:25.339544Z"
    },
    "hidden": true
   },
   "outputs": [],
   "source": [
    "right = pd.DataFrame({\"key\": [\"foo\", \"foo\"], \"rval\": [4, 5]})"
   ]
  },
  {
   "cell_type": "code",
   "execution_count": 41,
   "metadata": {
    "ExecuteTime": {
     "end_time": "2024-09-03T01:03:25.826574Z",
     "start_time": "2024-09-03T01:03:25.818106Z"
    },
    "hidden": true
   },
   "outputs": [
    {
     "data": {
      "text/html": [
       "<div>\n",
       "<style scoped>\n",
       "    .dataframe tbody tr th:only-of-type {\n",
       "        vertical-align: middle;\n",
       "    }\n",
       "\n",
       "    .dataframe tbody tr th {\n",
       "        vertical-align: top;\n",
       "    }\n",
       "\n",
       "    .dataframe thead th {\n",
       "        text-align: right;\n",
       "    }\n",
       "</style>\n",
       "<table border=\"1\" class=\"dataframe\">\n",
       "  <thead>\n",
       "    <tr style=\"text-align: right;\">\n",
       "      <th></th>\n",
       "      <th>key</th>\n",
       "      <th>lval</th>\n",
       "      <th>rval</th>\n",
       "    </tr>\n",
       "  </thead>\n",
       "  <tbody>\n",
       "    <tr>\n",
       "      <th>0</th>\n",
       "      <td>foo</td>\n",
       "      <td>1</td>\n",
       "      <td>4</td>\n",
       "    </tr>\n",
       "    <tr>\n",
       "      <th>1</th>\n",
       "      <td>foo</td>\n",
       "      <td>1</td>\n",
       "      <td>5</td>\n",
       "    </tr>\n",
       "    <tr>\n",
       "      <th>2</th>\n",
       "      <td>foo</td>\n",
       "      <td>2</td>\n",
       "      <td>4</td>\n",
       "    </tr>\n",
       "    <tr>\n",
       "      <th>3</th>\n",
       "      <td>foo</td>\n",
       "      <td>2</td>\n",
       "      <td>5</td>\n",
       "    </tr>\n",
       "  </tbody>\n",
       "</table>\n",
       "</div>"
      ],
      "text/plain": [
       "   key  lval  rval\n",
       "0  foo     1     4\n",
       "1  foo     1     5\n",
       "2  foo     2     4\n",
       "3  foo     2     5"
      ]
     },
     "execution_count": 41,
     "metadata": {},
     "output_type": "execute_result"
    }
   ],
   "source": [
    "pd.merge(left, right, on=\"key\")"
   ]
  },
  {
   "cell_type": "markdown",
   "metadata": {},
   "source": [
    "# Network modeling with NetworkX"
   ]
  },
  {
   "cell_type": "markdown",
   "metadata": {},
   "source": [
    "NetworkX is a Python package for the creation, manipulation, and study of the structure, dynamics, and functions of complex networks."
   ]
  },
  {
   "cell_type": "markdown",
   "metadata": {},
   "source": [
    "It provides:\n",
    "\n",
    "- tools for the study of the structure and dynamics of social, biological, and infrastructure networks;\n",
    "\n",
    "- a standard programming interface and graph implementation that is suitable for many applications;\n",
    "\n",
    "- a rapid development environment for collaborative, multidisciplinary projects;\n",
    "\n",
    "- an interface to existing numerical algorithms and code written in C, C++, and FORTRAN; and\n",
    "\n",
    "- the ability to painlessly work with large nonstandard data sets."
   ]
  },
  {
   "cell_type": "markdown",
   "metadata": {},
   "source": [
    "With NetworkX you can load and store networks in standard and nonstandard data formats, generate many types of random and classic networks, analyze network structure, build network models, design new network algorithms, draw networks, and much more."
   ]
  },
  {
   "cell_type": "markdown",
   "metadata": {},
   "source": [
    "## Creating a Graph"
   ]
  },
  {
   "cell_type": "code",
   "execution_count": 87,
   "metadata": {
    "ExecuteTime": {
     "end_time": "2024-09-03T02:32:21.320300Z",
     "start_time": "2024-09-03T02:32:21.317401Z"
    }
   },
   "outputs": [
    {
     "data": {
      "text/plain": [
       "<networkx.classes.graph.Graph at 0x7fb8d8ca6940>"
      ]
     },
     "execution_count": 87,
     "metadata": {},
     "output_type": "execute_result"
    }
   ],
   "source": [
    "G = nx.Graph()\n",
    "G"
   ]
  },
  {
   "cell_type": "markdown",
   "metadata": {},
   "source": [
    "The graph G can be grown in several ways. NetworkX includes many graph generator functions and facilities to read and write graphs in many formats. To get started though we’ll look at simple manipulations. You can add one node at a time"
   ]
  },
  {
   "cell_type": "code",
   "execution_count": 88,
   "metadata": {
    "ExecuteTime": {
     "end_time": "2024-09-03T02:32:21.815212Z",
     "start_time": "2024-09-03T02:32:21.813217Z"
    }
   },
   "outputs": [],
   "source": [
    "G.add_node(1)"
   ]
  },
  {
   "cell_type": "markdown",
   "metadata": {},
   "source": [
    "or add nodes from any iterable container, such as a list"
   ]
  },
  {
   "cell_type": "code",
   "execution_count": 89,
   "metadata": {
    "ExecuteTime": {
     "end_time": "2024-09-03T02:32:22.369520Z",
     "start_time": "2024-09-03T02:32:22.367228Z"
    }
   },
   "outputs": [],
   "source": [
    "G.add_nodes_from([2, 3])"
   ]
  },
  {
   "cell_type": "code",
   "execution_count": 90,
   "metadata": {
    "ExecuteTime": {
     "end_time": "2024-09-03T02:32:22.847428Z",
     "start_time": "2024-09-03T02:32:22.844599Z"
    }
   },
   "outputs": [
    {
     "data": {
      "text/plain": [
       "3"
      ]
     },
     "execution_count": 90,
     "metadata": {},
     "output_type": "execute_result"
    }
   ],
   "source": [
    "G.number_of_nodes()"
   ]
  },
  {
   "cell_type": "markdown",
   "metadata": {},
   "source": [
    "You can also add nodes along with node attributes if your container yields 2-tuples of the form (node, node_attribute_dict)"
   ]
  },
  {
   "cell_type": "code",
   "execution_count": 91,
   "metadata": {
    "ExecuteTime": {
     "end_time": "2024-09-03T02:32:27.127948Z",
     "start_time": "2024-09-03T02:32:27.125222Z"
    }
   },
   "outputs": [],
   "source": [
    "G.add_nodes_from([\n",
    "    (4, {\"color\": \"red\"}),\n",
    "    (5, {\"color\": \"green\"}),\n",
    "])"
   ]
  },
  {
   "cell_type": "code",
   "execution_count": 92,
   "metadata": {
    "ExecuteTime": {
     "end_time": "2024-09-03T02:32:28.517326Z",
     "start_time": "2024-09-03T02:32:28.366041Z"
    }
   },
   "outputs": [
    {
     "data": {
      "image/png": "[encoded data removed]",
      "text/plain": [
       "<Figure size 432x288 with 1 Axes>"
      ]
     },
     "metadata": {},
     "output_type": "display_data"
    }
   ],
   "source": [
    "nx.draw_networkx(G)"
   ]
  },
  {
   "cell_type": "code",
   "execution_count": 93,
   "metadata": {
    "ExecuteTime": {
     "end_time": "2024-09-03T02:32:31.687929Z",
     "start_time": "2024-09-03T02:32:31.685164Z"
    }
   },
   "outputs": [
    {
     "name": "stdout",
     "output_type": "stream",
     "text": [
      "(1, {})\n",
      "(2, {})\n",
      "(3, {})\n",
      "(4, {'color': 'red'})\n",
      "(5, {'color': 'green'})\n"
     ]
    }
   ],
   "source": [
    "for node in G.nodes.data():\n",
    "    print(node)"
   ]
  },
  {
   "cell_type": "markdown",
   "metadata": {},
   "source": [
    "Nodes from one graph can be incorporated into another"
   ]
  },
  {
   "cell_type": "code",
   "execution_count": 94,
   "metadata": {
    "ExecuteTime": {
     "end_time": "2024-09-03T02:32:36.647347Z",
     "start_time": "2024-09-03T02:32:36.645341Z"
    }
   },
   "outputs": [],
   "source": [
    "H = nx.path_graph(10)\n",
    "G.add_nodes_from(H)"
   ]
  },
  {
   "cell_type": "markdown",
   "metadata": {},
   "source": [
    "G now contains the nodes of H as nodes of G. In contrast, you could use the graph H as a node in G"
   ]
  },
  {
   "cell_type": "code",
   "execution_count": 95,
   "metadata": {
    "ExecuteTime": {
     "end_time": "2024-09-03T02:32:39.839290Z",
     "start_time": "2024-09-03T02:32:39.837445Z"
    }
   },
   "outputs": [],
   "source": [
    "G.add_node(H)"
   ]
  },
  {
   "cell_type": "markdown",
   "metadata": {},
   "source": [
    "G can also be grown by adding one edge at a time"
   ]
  },
  {
   "cell_type": "code",
   "execution_count": 96,
   "metadata": {
    "ExecuteTime": {
     "end_time": "2024-09-03T02:32:42.632065Z",
     "start_time": "2024-09-03T02:32:42.629685Z"
    }
   },
   "outputs": [],
   "source": [
    "G.add_edge(1, 2)\n",
    "e = (2, 3)\n",
    "G.add_edge(*e)  # unpack edge tuple*"
   ]
  },
  {
   "cell_type": "markdown",
   "metadata": {
    "ExecuteTime": {
     "end_time": "2023-09-08T06:14:25.927664Z",
     "start_time": "2023-09-08T06:14:25.924038Z"
    }
   },
   "source": [
    "by adding a list of edges"
   ]
  },
  {
   "cell_type": "code",
   "execution_count": 97,
   "metadata": {
    "ExecuteTime": {
     "end_time": "2024-09-03T02:32:44.249095Z",
     "start_time": "2024-09-03T02:32:44.246949Z"
    }
   },
   "outputs": [],
   "source": [
    "G.add_edges_from([(1, 2), (1, 3)])"
   ]
  },
  {
   "cell_type": "code",
   "execution_count": 98,
   "metadata": {
    "ExecuteTime": {
     "end_time": "2024-09-03T02:32:55.627270Z",
     "start_time": "2024-09-03T02:32:55.470091Z"
    }
   },
   "outputs": [
    {
     "data": {
      "image/png": "[encoded data removed]",
      "text/plain": [
       "<Figure size 432x288 with 1 Axes>"
      ]
     },
     "metadata": {},
     "output_type": "display_data"
    }
   ],
   "source": [
    "nx.draw_networkx(G)"
   ]
  },
  {
   "cell_type": "markdown",
   "metadata": {},
   "source": [
    "## Examining elements of a graph"
   ]
  },
  {
   "cell_type": "markdown",
   "metadata": {},
   "source": [
    "We can examine the nodes and edges. Four basic graph properties facilitate reporting:\n",
    "> G.nodes\n",
    "\n",
    "> G.edges\n",
    "\n",
    "> G.adj\n",
    "\n",
    "> G.degree\n",
    "\n",
    "These are set-like views of the nodes, edges, neighbors (adjacencies), and degrees of nodes in a graph. They offer a continually updated read-only view into the graph structure. They are also dict-like in that you can look up node and edge data attributes via the views and iterate with data attributes using methods .items(), .data(). If you want a specific container type instead of a view, you can specify one. Here we use lists, though sets, dicts, tuples and other containers may be better in other contexts."
   ]
  },
  {
   "cell_type": "code",
   "execution_count": 99,
   "metadata": {
    "ExecuteTime": {
     "end_time": "2024-09-03T02:33:06.801739Z",
     "start_time": "2024-09-03T02:33:06.798572Z"
    }
   },
   "outputs": [
    {
     "data": {
      "text/plain": [
       "[1,\n",
       " 2,\n",
       " 3,\n",
       " 4,\n",
       " 5,\n",
       " 0,\n",
       " 6,\n",
       " 7,\n",
       " 8,\n",
       " 9,\n",
       " <networkx.classes.graph.Graph at 0x7fb8d8c9c9d0>]"
      ]
     },
     "execution_count": 99,
     "metadata": {},
     "output_type": "execute_result"
    }
   ],
   "source": [
    "list(G.nodes)"
   ]
  },
  {
   "cell_type": "code",
   "execution_count": 100,
   "metadata": {
    "ExecuteTime": {
     "end_time": "2024-09-03T02:33:13.625359Z",
     "start_time": "2024-09-03T02:33:13.622118Z"
    }
   },
   "outputs": [
    {
     "data": {
      "text/plain": [
       "[(1, 2), (1, 3), (2, 3)]"
      ]
     },
     "execution_count": 100,
     "metadata": {},
     "output_type": "execute_result"
    }
   ],
   "source": [
    "list(G.edges)"
   ]
  },
  {
   "cell_type": "code",
   "execution_count": 102,
   "metadata": {
    "ExecuteTime": {
     "end_time": "2024-09-03T02:49:32.082952Z",
     "start_time": "2024-09-03T02:49:32.079407Z"
    }
   },
   "outputs": [
    {
     "data": {
      "text/plain": [
       "[2, 3]"
      ]
     },
     "execution_count": 102,
     "metadata": {},
     "output_type": "execute_result"
    }
   ],
   "source": [
    "list(G.adj[1])  # or list(G.neighbors(1))"
   ]
  },
  {
   "cell_type": "code",
   "execution_count": 104,
   "metadata": {
    "ExecuteTime": {
     "end_time": "2024-09-03T02:49:57.260642Z",
     "start_time": "2024-09-03T02:49:57.257801Z"
    }
   },
   "outputs": [
    {
     "data": {
      "text/plain": [
       "2"
      ]
     },
     "execution_count": 104,
     "metadata": {},
     "output_type": "execute_result"
    }
   ],
   "source": [
    "G.degree[1]  # the number of edges incident to 1"
   ]
  },
  {
   "cell_type": "markdown",
   "metadata": {},
   "source": [
    "## Accessing edges and neighbors"
   ]
  },
  {
   "cell_type": "markdown",
   "metadata": {},
   "source": [
    "In addition to the views Graph.edges, and Graph.adj, access to edges and neighbors is possible using subscript notation."
   ]
  },
  {
   "cell_type": "code",
   "execution_count": 105,
   "metadata": {
    "ExecuteTime": {
     "end_time": "2024-09-03T02:53:08.891727Z",
     "start_time": "2024-09-03T02:53:08.889148Z"
    }
   },
   "outputs": [],
   "source": [
    "G = nx.Graph([(1, 2, {\"color\": \"yellow\"})])"
   ]
  },
  {
   "cell_type": "code",
   "execution_count": 106,
   "metadata": {
    "ExecuteTime": {
     "end_time": "2024-09-03T02:53:11.771136Z",
     "start_time": "2024-09-03T02:53:11.767731Z"
    }
   },
   "outputs": [
    {
     "data": {
      "text/plain": [
       "AtlasView({2: {'color': 'yellow'}})"
      ]
     },
     "execution_count": 106,
     "metadata": {},
     "output_type": "execute_result"
    }
   ],
   "source": [
    "G[1]  # same as G.adj[1]"
   ]
  },
  {
   "cell_type": "code",
   "execution_count": 108,
   "metadata": {
    "ExecuteTime": {
     "end_time": "2024-09-03T02:53:43.498482Z",
     "start_time": "2024-09-03T02:53:43.495330Z"
    }
   },
   "outputs": [
    {
     "data": {
      "text/plain": [
       "{'color': 'yellow'}"
      ]
     },
     "execution_count": 108,
     "metadata": {},
     "output_type": "execute_result"
    }
   ],
   "source": [
    "G[1][2]"
   ]
  },
  {
   "cell_type": "code",
   "execution_count": 109,
   "metadata": {
    "ExecuteTime": {
     "end_time": "2024-09-03T02:53:45.107549Z",
     "start_time": "2024-09-03T02:53:45.104242Z"
    }
   },
   "outputs": [
    {
     "data": {
      "text/plain": [
       "{'color': 'yellow'}"
      ]
     },
     "execution_count": 109,
     "metadata": {},
     "output_type": "execute_result"
    }
   ],
   "source": [
    "G.edges[1, 2]"
   ]
  },
  {
   "cell_type": "markdown",
   "metadata": {},
   "source": [
    "You can get/set the attributes of an edge using subscript notation if the edge already exists."
   ]
  },
  {
   "cell_type": "code",
   "execution_count": 110,
   "metadata": {
    "ExecuteTime": {
     "end_time": "2024-09-03T02:54:43.787079Z",
     "start_time": "2024-09-03T02:54:43.783127Z"
    }
   },
   "outputs": [
    {
     "data": {
      "text/plain": [
       "{'color': 'red'}"
      ]
     },
     "execution_count": 110,
     "metadata": {},
     "output_type": "execute_result"
    }
   ],
   "source": [
    "G.add_edge(1, 3)\n",
    "G[1][3]['color'] = \"blue\"\n",
    "G.edges[1, 2]['color'] = \"red\"\n",
    "G.edges[1, 2]"
   ]
  },
  {
   "cell_type": "markdown",
   "metadata": {},
   "source": [
    "Convenient access to all edges is achieved with the edges property."
   ]
  },
  {
   "cell_type": "code",
   "execution_count": 113,
   "metadata": {
    "ExecuteTime": {
     "end_time": "2024-09-03T02:59:13.668101Z",
     "start_time": "2024-09-03T02:59:13.665412Z"
    }
   },
   "outputs": [
    {
     "name": "stdout",
     "output_type": "stream",
     "text": [
      "{(1, 2): 'red', (1, 3): 'blue'}\n"
     ]
    }
   ],
   "source": [
    "# Get all edge attributes for a specific attribute name\n",
    "weights = nx.get_edge_attributes(G, 'color')\n",
    "print(weights)"
   ]
  },
  {
   "cell_type": "markdown",
   "metadata": {
    "ExecuteTime": {
     "end_time": "2023-09-08T06:32:24.796572Z",
     "start_time": "2023-09-08T06:32:24.793452Z"
    }
   },
   "source": [
    "## Adding attributes to graphs, nodes, and edges"
   ]
  },
  {
   "cell_type": "markdown",
   "metadata": {},
   "source": [
    "Attributes such as weights, labels, colors, or whatever Python object you like, can be attached to graphs, nodes, or edges.\n",
    "\n",
    "Each graph, node, and edge can hold key/value attribute pairs in an associated attribute dictionary (the keys must be hashable). By default these are empty, but attributes can be added or changed using add_edge, add_node or direct manipulation of the attribute dictionaries named G.graph, G.nodes, and G.edges for a graph G"
   ]
  },
  {
   "cell_type": "markdown",
   "metadata": {},
   "source": [
    "Assign graph attributes when creating a new graph"
   ]
  },
  {
   "cell_type": "code",
   "execution_count": 114,
   "metadata": {
    "ExecuteTime": {
     "end_time": "2024-09-03T02:59:39.168835Z",
     "start_time": "2024-09-03T02:59:39.166772Z"
    }
   },
   "outputs": [],
   "source": [
    "G = nx.Graph(day=\"Friday\")"
   ]
  },
  {
   "cell_type": "code",
   "execution_count": 115,
   "metadata": {
    "ExecuteTime": {
     "end_time": "2024-09-03T02:59:40.379397Z",
     "start_time": "2024-09-03T02:59:40.376126Z"
    }
   },
   "outputs": [
    {
     "data": {
      "text/plain": [
       "{'day': 'Friday'}"
      ]
     },
     "execution_count": 115,
     "metadata": {},
     "output_type": "execute_result"
    }
   ],
   "source": [
    "G.graph"
   ]
  },
  {
   "cell_type": "markdown",
   "metadata": {},
   "source": [
    "Or you can modify attributes later"
   ]
  },
  {
   "cell_type": "code",
   "execution_count": 116,
   "metadata": {
    "ExecuteTime": {
     "end_time": "2024-09-03T03:00:35.106840Z",
     "start_time": "2024-09-03T03:00:35.104006Z"
    }
   },
   "outputs": [
    {
     "data": {
      "text/plain": [
       "{'day': 'Monday'}"
      ]
     },
     "execution_count": 116,
     "metadata": {},
     "output_type": "execute_result"
    }
   ],
   "source": [
    "G.graph['day'] = \"Monday\"\n",
    "G.graph"
   ]
  },
  {
   "cell_type": "markdown",
   "metadata": {},
   "source": [
    "### Node attributes"
   ]
  },
  {
   "cell_type": "markdown",
   "metadata": {},
   "source": [
    "Add node attributes using add_node(), add_nodes_from(), or G.nodes"
   ]
  },
  {
   "cell_type": "code",
   "execution_count": 117,
   "metadata": {
    "ExecuteTime": {
     "end_time": "2024-09-03T03:00:43.597360Z",
     "start_time": "2024-09-03T03:00:43.593889Z"
    }
   },
   "outputs": [
    {
     "data": {
      "text/plain": [
       "{'time': '5pm'}"
      ]
     },
     "execution_count": 117,
     "metadata": {},
     "output_type": "execute_result"
    }
   ],
   "source": [
    "G.add_node(1, time='5pm')\n",
    "G.add_nodes_from([3], time='2pm')\n",
    "G.nodes[1]"
   ]
  },
  {
   "cell_type": "code",
   "execution_count": 118,
   "metadata": {
    "ExecuteTime": {
     "end_time": "2024-09-03T03:00:47.403063Z",
     "start_time": "2024-09-03T03:00:47.399957Z"
    }
   },
   "outputs": [
    {
     "data": {
      "text/plain": [
       "NodeDataView({1: {'time': '5pm', 'room': 714}, 3: {'time': '2pm'}})"
      ]
     },
     "execution_count": 118,
     "metadata": {},
     "output_type": "execute_result"
    }
   ],
   "source": [
    "G.nodes[1]['room'] = 714\n",
    "G.nodes.data()"
   ]
  },
  {
   "cell_type": "markdown",
   "metadata": {},
   "source": [
    "Note that adding a node to G.nodes does not add it to the graph, use G.add_node() to add new nodes. Similarly for edges."
   ]
  },
  {
   "cell_type": "markdown",
   "metadata": {},
   "source": [
    "### Edge attributes"
   ]
  },
  {
   "cell_type": "markdown",
   "metadata": {},
   "source": [
    "Add/change edge attributes using add_edge(), add_edges_from(), or subscript notation."
   ]
  },
  {
   "cell_type": "code",
   "execution_count": 119,
   "metadata": {
    "ExecuteTime": {
     "end_time": "2024-09-03T03:02:25.818891Z",
     "start_time": "2024-09-03T03:02:25.815018Z"
    }
   },
   "outputs": [],
   "source": [
    "G.add_edge(1, 2, weight=4.7)\n",
    "\n",
    "G.add_edges_from([(3, 4), (4, 5)], color='red')\n",
    "\n",
    "G.add_edges_from([(1, 2, {'color': 'blue'}), (2, 3, {'weight': 8})])\n",
    "\n",
    "G[1][2]['weight'] = 4.7\n",
    "\n",
    "G.edges[3, 4]['weight'] = 4.2"
   ]
  },
  {
   "cell_type": "markdown",
   "metadata": {},
   "source": [
    "## Reading a graph stored in a file using common graph formats"
   ]
  },
  {
   "cell_type": "markdown",
   "metadata": {},
   "source": [
    "NetworkX supports many popular formats, such as edge lists, adjacency lists, GML, GraphML, LEDA and others."
   ]
  },
  {
   "cell_type": "code",
   "execution_count": 122,
   "metadata": {
    "ExecuteTime": {
     "end_time": "2024-09-03T03:07:31.625896Z",
     "start_time": "2024-09-03T03:07:29.838900Z"
    }
   },
   "outputs": [],
   "source": [
    "red = nx.random_lobster(100, 0.9, 0.9)\n",
    "nx.write_gml(red, \"path.to.file\")\n",
    "mygraph = nx.read_gml(\"path.to.file\")"
   ]
  },
  {
   "cell_type": "markdown",
   "metadata": {},
   "source": [
    "## Drawing graphs"
   ]
  },
  {
   "cell_type": "code",
   "execution_count": 135,
   "metadata": {
    "ExecuteTime": {
     "end_time": "2024-09-03T03:19:57.530585Z",
     "start_time": "2024-09-03T03:19:57.390212Z"
    }
   },
   "outputs": [
    {
     "data": {
      "image/png": "[encoded data removed]",
      "text/plain": [
       "<Figure size 432x288 with 1 Axes>"
      ]
     },
     "metadata": {},
     "output_type": "display_data"
    }
   ],
   "source": [
    "# importing matplotlib.pyplot\n",
    "import matplotlib.pyplot as plt\n",
    " \n",
    "G = nx.erdos_renyi_graph(10,0.8)\n",
    "pos = nx.random_layout(G)\n",
    "nx.draw_networkx(G, pos=pos)"
   ]
  },
  {
   "cell_type": "markdown",
   "metadata": {
    "ExecuteTime": {
     "end_time": "2024-09-03T02:09:13.682742Z",
     "start_time": "2024-09-03T02:09:13.680902Z"
    }
   },
   "source": [
    "# Bonus: Pandas advanced functions and methods"
   ]
  },
  {
   "cell_type": "markdown",
   "metadata": {},
   "source": [
    "Pandas provides two types of classes for handling data:\n",
    "\n",
    "> Series: a one-dimensional labeled array holding data of any type\n",
    "such as integers, strings, Python objects etc.\n",
    "\n",
    "> DataFrame: a two-dimensional data structure that holds data like a two-dimension array or a table with rows and columns."
   ]
  },
  {
   "cell_type": "markdown",
   "metadata": {},
   "source": [
    "Creating a Series by passing a list of values, letting pandas create a default RangeIndex"
   ]
  },
  {
   "cell_type": "code",
   "execution_count": 43,
   "metadata": {
    "ExecuteTime": {
     "end_time": "2024-09-03T02:10:54.194293Z",
     "start_time": "2024-09-03T02:10:54.189609Z"
    }
   },
   "outputs": [
    {
     "data": {
      "text/plain": [
       "0    1.0\n",
       "1    3.0\n",
       "2    5.0\n",
       "3    NaN\n",
       "4    6.0\n",
       "5    8.0\n",
       "dtype: float64"
      ]
     },
     "execution_count": 43,
     "metadata": {},
     "output_type": "execute_result"
    }
   ],
   "source": [
    "s = pd.Series([1, 3, 5, np.nan, 6, 8])\n",
    "s"
   ]
  },
  {
   "cell_type": "markdown",
   "metadata": {},
   "source": [
    "Creating a DataFrame by passing a NumPy array with a datetime index using date_range() and labeled columns"
   ]
  },
  {
   "cell_type": "code",
   "execution_count": 44,
   "metadata": {
    "ExecuteTime": {
     "end_time": "2024-09-03T02:11:58.408688Z",
     "start_time": "2024-09-03T02:11:58.405016Z"
    }
   },
   "outputs": [
    {
     "data": {
      "text/plain": [
       "DatetimeIndex(['2024-01-01', '2024-01-02', '2024-01-03', '2024-01-04',\n",
       "               '2024-01-05', '2024-01-06'],\n",
       "              dtype='datetime64[ns]', freq='D')"
      ]
     },
     "execution_count": 44,
     "metadata": {},
     "output_type": "execute_result"
    }
   ],
   "source": [
    "dates = pd.date_range(\"20240101\", periods=6)\n",
    "dates"
   ]
  },
  {
   "cell_type": "code",
   "execution_count": 45,
   "metadata": {
    "ExecuteTime": {
     "end_time": "2024-09-03T02:12:27.540863Z",
     "start_time": "2024-09-03T02:12:27.532960Z"
    }
   },
   "outputs": [
    {
     "data": {
      "text/html": [
       "<div>\n",
       "<style scoped>\n",
       "    .dataframe tbody tr th:only-of-type {\n",
       "        vertical-align: middle;\n",
       "    }\n",
       "\n",
       "    .dataframe tbody tr th {\n",
       "        vertical-align: top;\n",
       "    }\n",
       "\n",
       "    .dataframe thead th {\n",
       "        text-align: right;\n",
       "    }\n",
       "</style>\n",
       "<table border=\"1\" class=\"dataframe\">\n",
       "  <thead>\n",
       "    <tr style=\"text-align: right;\">\n",
       "      <th></th>\n",
       "      <th>A</th>\n",
       "      <th>B</th>\n",
       "      <th>C</th>\n",
       "      <th>D</th>\n",
       "      <th>E</th>\n",
       "    </tr>\n",
       "  </thead>\n",
       "  <tbody>\n",
       "    <tr>\n",
       "      <th>2024-01-01</th>\n",
       "      <td>-0.882545</td>\n",
       "      <td>-0.201672</td>\n",
       "      <td>-1.157937</td>\n",
       "      <td>1.071684</td>\n",
       "      <td>-1.063342</td>\n",
       "    </tr>\n",
       "    <tr>\n",
       "      <th>2024-01-02</th>\n",
       "      <td>0.339624</td>\n",
       "      <td>-1.693471</td>\n",
       "      <td>-0.463449</td>\n",
       "      <td>-0.726825</td>\n",
       "      <td>0.512772</td>\n",
       "    </tr>\n",
       "    <tr>\n",
       "      <th>2024-01-03</th>\n",
       "      <td>-1.629245</td>\n",
       "      <td>-1.236641</td>\n",
       "      <td>0.783613</td>\n",
       "      <td>-1.321281</td>\n",
       "      <td>-1.597336</td>\n",
       "    </tr>\n",
       "    <tr>\n",
       "      <th>2024-01-04</th>\n",
       "      <td>-0.219981</td>\n",
       "      <td>-1.516602</td>\n",
       "      <td>0.353629</td>\n",
       "      <td>1.567145</td>\n",
       "      <td>1.369631</td>\n",
       "    </tr>\n",
       "    <tr>\n",
       "      <th>2024-01-05</th>\n",
       "      <td>-0.385619</td>\n",
       "      <td>0.429930</td>\n",
       "      <td>-1.299299</td>\n",
       "      <td>0.213758</td>\n",
       "      <td>-0.163544</td>\n",
       "    </tr>\n",
       "    <tr>\n",
       "      <th>2024-01-06</th>\n",
       "      <td>1.882600</td>\n",
       "      <td>-0.317011</td>\n",
       "      <td>0.248245</td>\n",
       "      <td>0.564298</td>\n",
       "      <td>0.675615</td>\n",
       "    </tr>\n",
       "  </tbody>\n",
       "</table>\n",
       "</div>"
      ],
      "text/plain": [
       "                   A         B         C         D         E\n",
       "2024-01-01 -0.882545 -0.201672 -1.157937  1.071684 -1.063342\n",
       "2024-01-02  0.339624 -1.693471 -0.463449 -0.726825  0.512772\n",
       "2024-01-03 -1.629245 -1.236641  0.783613 -1.321281 -1.597336\n",
       "2024-01-04 -0.219981 -1.516602  0.353629  1.567145  1.369631\n",
       "2024-01-05 -0.385619  0.429930 -1.299299  0.213758 -0.163544\n",
       "2024-01-06  1.882600 -0.317011  0.248245  0.564298  0.675615"
      ]
     },
     "execution_count": 45,
     "metadata": {},
     "output_type": "execute_result"
    }
   ],
   "source": [
    "df = pd.DataFrame(np.random.randn(6, 5), index=dates, columns=list(\"ABCDE\"))\n",
    "df"
   ]
  },
  {
   "cell_type": "markdown",
   "metadata": {},
   "source": [
    "Creating a DataFrame by passing a dictionary of objects where the keys are the column labels and the values are the column values."
   ]
  },
  {
   "cell_type": "code",
   "execution_count": 46,
   "metadata": {
    "ExecuteTime": {
     "end_time": "2024-09-03T02:20:35.148940Z",
     "start_time": "2024-09-03T02:20:35.144823Z"
    }
   },
   "outputs": [],
   "source": [
    "df2 = pd.DataFrame(\n",
    "    {\n",
    "        \"A\": 1.0,\n",
    "        \"B\": pd.Timestamp(\"20130102\"),\n",
    "        \"C\": pd.Series(1, index=list(range(4)), dtype=\"float32\"),\n",
    "        \"D\": np.array([3] * 4, dtype=\"int32\"),\n",
    "        \"E\": pd.Categorical([\"test\", \"train\", \"test\", \"train\"]),\n",
    "        \"F\": \"foo\",\n",
    "    }\n",
    ")"
   ]
  },
  {
   "cell_type": "code",
   "execution_count": 47,
   "metadata": {
    "ExecuteTime": {
     "end_time": "2024-09-03T02:20:43.387099Z",
     "start_time": "2024-09-03T02:20:43.379864Z"
    }
   },
   "outputs": [
    {
     "data": {
      "text/html": [
       "<div>\n",
       "<style scoped>\n",
       "    .dataframe tbody tr th:only-of-type {\n",
       "        vertical-align: middle;\n",
       "    }\n",
       "\n",
       "    .dataframe tbody tr th {\n",
       "        vertical-align: top;\n",
       "    }\n",
       "\n",
       "    .dataframe thead th {\n",
       "        text-align: right;\n",
       "    }\n",
       "</style>\n",
       "<table border=\"1\" class=\"dataframe\">\n",
       "  <thead>\n",
       "    <tr style=\"text-align: right;\">\n",
       "      <th></th>\n",
       "      <th>A</th>\n",
       "      <th>B</th>\n",
       "      <th>C</th>\n",
       "      <th>D</th>\n",
       "      <th>E</th>\n",
       "      <th>F</th>\n",
       "    </tr>\n",
       "  </thead>\n",
       "  <tbody>\n",
       "    <tr>\n",
       "      <th>0</th>\n",
       "      <td>1.0</td>\n",
       "      <td>2013-01-02</td>\n",
       "      <td>1.0</td>\n",
       "      <td>3</td>\n",
       "      <td>test</td>\n",
       "      <td>foo</td>\n",
       "    </tr>\n",
       "    <tr>\n",
       "      <th>1</th>\n",
       "      <td>1.0</td>\n",
       "      <td>2013-01-02</td>\n",
       "      <td>1.0</td>\n",
       "      <td>3</td>\n",
       "      <td>train</td>\n",
       "      <td>foo</td>\n",
       "    </tr>\n",
       "    <tr>\n",
       "      <th>2</th>\n",
       "      <td>1.0</td>\n",
       "      <td>2013-01-02</td>\n",
       "      <td>1.0</td>\n",
       "      <td>3</td>\n",
       "      <td>test</td>\n",
       "      <td>foo</td>\n",
       "    </tr>\n",
       "    <tr>\n",
       "      <th>3</th>\n",
       "      <td>1.0</td>\n",
       "      <td>2013-01-02</td>\n",
       "      <td>1.0</td>\n",
       "      <td>3</td>\n",
       "      <td>train</td>\n",
       "      <td>foo</td>\n",
       "    </tr>\n",
       "  </tbody>\n",
       "</table>\n",
       "</div>"
      ],
      "text/plain": [
       "     A          B    C  D      E    F\n",
       "0  1.0 2013-01-02  1.0  3   test  foo\n",
       "1  1.0 2013-01-02  1.0  3  train  foo\n",
       "2  1.0 2013-01-02  1.0  3   test  foo\n",
       "3  1.0 2013-01-02  1.0  3  train  foo"
      ]
     },
     "execution_count": 47,
     "metadata": {},
     "output_type": "execute_result"
    }
   ],
   "source": [
    "df2"
   ]
  },
  {
   "cell_type": "markdown",
   "metadata": {},
   "source": [
    "The columns of the resulting DataFrame have different dtypes"
   ]
  },
  {
   "cell_type": "code",
   "execution_count": 48,
   "metadata": {
    "ExecuteTime": {
     "end_time": "2024-09-03T02:21:09.343052Z",
     "start_time": "2024-09-03T02:21:09.339383Z"
    },
    "scrolled": true
   },
   "outputs": [
    {
     "data": {
      "text/plain": [
       "A          float64\n",
       "B    datetime64[s]\n",
       "C          float32\n",
       "D            int32\n",
       "E         category\n",
       "F           object\n",
       "dtype: object"
      ]
     },
     "execution_count": 48,
     "metadata": {},
     "output_type": "execute_result"
    }
   ],
   "source": [
    "df2.dtypes"
   ]
  },
  {
   "cell_type": "markdown",
   "metadata": {},
   "source": [
    "Use DataFrame.head() and DataFrame.tail() to view the top and bottom rows of the frame respectively"
   ]
  },
  {
   "cell_type": "code",
   "execution_count": 57,
   "metadata": {
    "ExecuteTime": {
     "end_time": "2023-09-08T20:22:19.417697Z",
     "start_time": "2023-09-08T20:22:19.410456Z"
    }
   },
   "outputs": [
    {
     "data": {
      "text/html": [
       "<div>\n",
       "<style scoped>\n",
       "    .dataframe tbody tr th:only-of-type {\n",
       "        vertical-align: middle;\n",
       "    }\n",
       "\n",
       "    .dataframe tbody tr th {\n",
       "        vertical-align: top;\n",
       "    }\n",
       "\n",
       "    .dataframe thead th {\n",
       "        text-align: right;\n",
       "    }\n",
       "</style>\n",
       "<table border=\"1\" class=\"dataframe\">\n",
       "  <thead>\n",
       "    <tr style=\"text-align: right;\">\n",
       "      <th></th>\n",
       "      <th>A</th>\n",
       "      <th>B</th>\n",
       "      <th>C</th>\n",
       "      <th>D</th>\n",
       "      <th>E</th>\n",
       "    </tr>\n",
       "  </thead>\n",
       "  <tbody>\n",
       "    <tr>\n",
       "      <th>2013-01-01</th>\n",
       "      <td>1.364046</td>\n",
       "      <td>2.146349</td>\n",
       "      <td>-1.714575</td>\n",
       "      <td>-0.722803</td>\n",
       "      <td>0.642916</td>\n",
       "    </tr>\n",
       "    <tr>\n",
       "      <th>2013-01-02</th>\n",
       "      <td>0.837175</td>\n",
       "      <td>0.293008</td>\n",
       "      <td>-0.649574</td>\n",
       "      <td>-1.581925</td>\n",
       "      <td>-0.843208</td>\n",
       "    </tr>\n",
       "  </tbody>\n",
       "</table>\n",
       "</div>"
      ],
      "text/plain": [
       "                   A         B         C         D         E\n",
       "2013-01-01  1.364046  2.146349 -1.714575 -0.722803  0.642916\n",
       "2013-01-02  0.837175  0.293008 -0.649574 -1.581925 -0.843208"
      ]
     },
     "execution_count": 57,
     "metadata": {},
     "output_type": "execute_result"
    }
   ],
   "source": [
    "df.head(2)"
   ]
  },
  {
   "cell_type": "code",
   "execution_count": 61,
   "metadata": {
    "ExecuteTime": {
     "end_time": "2023-09-08T20:23:11.478742Z",
     "start_time": "2023-09-08T20:23:11.470389Z"
    }
   },
   "outputs": [
    {
     "data": {
      "text/html": [
       "<div>\n",
       "<style scoped>\n",
       "    .dataframe tbody tr th:only-of-type {\n",
       "        vertical-align: middle;\n",
       "    }\n",
       "\n",
       "    .dataframe tbody tr th {\n",
       "        vertical-align: top;\n",
       "    }\n",
       "\n",
       "    .dataframe thead th {\n",
       "        text-align: right;\n",
       "    }\n",
       "</style>\n",
       "<table border=\"1\" class=\"dataframe\">\n",
       "  <thead>\n",
       "    <tr style=\"text-align: right;\">\n",
       "      <th></th>\n",
       "      <th>A</th>\n",
       "      <th>B</th>\n",
       "      <th>C</th>\n",
       "      <th>D</th>\n",
       "      <th>E</th>\n",
       "    </tr>\n",
       "  </thead>\n",
       "  <tbody>\n",
       "    <tr>\n",
       "      <th>2013-01-01</th>\n",
       "      <td>1.364046</td>\n",
       "      <td>2.146349</td>\n",
       "      <td>-1.714575</td>\n",
       "      <td>-0.722803</td>\n",
       "      <td>0.642916</td>\n",
       "    </tr>\n",
       "    <tr>\n",
       "      <th>2013-01-02</th>\n",
       "      <td>0.837175</td>\n",
       "      <td>0.293008</td>\n",
       "      <td>-0.649574</td>\n",
       "      <td>-1.581925</td>\n",
       "      <td>-0.843208</td>\n",
       "    </tr>\n",
       "    <tr>\n",
       "      <th>2013-01-03</th>\n",
       "      <td>-0.321746</td>\n",
       "      <td>0.265475</td>\n",
       "      <td>-0.395775</td>\n",
       "      <td>-1.146845</td>\n",
       "      <td>-0.513957</td>\n",
       "    </tr>\n",
       "    <tr>\n",
       "      <th>2013-01-04</th>\n",
       "      <td>-0.031451</td>\n",
       "      <td>-2.994427</td>\n",
       "      <td>0.092930</td>\n",
       "      <td>-1.204247</td>\n",
       "      <td>1.160185</td>\n",
       "    </tr>\n",
       "    <tr>\n",
       "      <th>2013-01-05</th>\n",
       "      <td>-1.373284</td>\n",
       "      <td>-0.293196</td>\n",
       "      <td>-0.427829</td>\n",
       "      <td>1.219596</td>\n",
       "      <td>-1.214076</td>\n",
       "    </tr>\n",
       "    <tr>\n",
       "      <th>2013-01-06</th>\n",
       "      <td>-1.593538</td>\n",
       "      <td>-0.667025</td>\n",
       "      <td>-0.067215</td>\n",
       "      <td>0.854560</td>\n",
       "      <td>0.340245</td>\n",
       "    </tr>\n",
       "  </tbody>\n",
       "</table>\n",
       "</div>"
      ],
      "text/plain": [
       "                   A         B         C         D         E\n",
       "2013-01-01  1.364046  2.146349 -1.714575 -0.722803  0.642916\n",
       "2013-01-02  0.837175  0.293008 -0.649574 -1.581925 -0.843208\n",
       "2013-01-03 -0.321746  0.265475 -0.395775 -1.146845 -0.513957\n",
       "2013-01-04 -0.031451 -2.994427  0.092930 -1.204247  1.160185\n",
       "2013-01-05 -1.373284 -0.293196 -0.427829  1.219596 -1.214076\n",
       "2013-01-06 -1.593538 -0.667025 -0.067215  0.854560  0.340245"
      ]
     },
     "execution_count": 61,
     "metadata": {},
     "output_type": "execute_result"
    }
   ],
   "source": [
    "df.tail(6)"
   ]
  },
  {
   "cell_type": "markdown",
   "metadata": {},
   "source": [
    "Display the DataFrame.index or DataFrame.columns"
   ]
  },
  {
   "cell_type": "code",
   "execution_count": 49,
   "metadata": {
    "ExecuteTime": {
     "end_time": "2024-09-03T02:24:28.062299Z",
     "start_time": "2024-09-03T02:24:28.059093Z"
    }
   },
   "outputs": [
    {
     "data": {
      "text/plain": [
       "DatetimeIndex(['2024-01-01', '2024-01-02', '2024-01-03', '2024-01-04',\n",
       "               '2024-01-05', '2024-01-06'],\n",
       "              dtype='datetime64[ns]', freq='D')"
      ]
     },
     "execution_count": 49,
     "metadata": {},
     "output_type": "execute_result"
    }
   ],
   "source": [
    "df.index"
   ]
  },
  {
   "cell_type": "code",
   "execution_count": 51,
   "metadata": {
    "ExecuteTime": {
     "end_time": "2024-09-03T02:28:38.060764Z",
     "start_time": "2024-09-03T02:28:38.057482Z"
    }
   },
   "outputs": [
    {
     "data": {
      "text/plain": [
       "Index(['A', 'B', 'C', 'D', 'E'], dtype='object')"
      ]
     },
     "execution_count": 51,
     "metadata": {},
     "output_type": "execute_result"
    }
   ],
   "source": [
    "df.columns"
   ]
  },
  {
   "cell_type": "markdown",
   "metadata": {},
   "source": [
    "Return a NumPy representation of the underlying data with DataFrame.to_numpy() without the index or column labels"
   ]
  },
  {
   "cell_type": "code",
   "execution_count": 52,
   "metadata": {
    "ExecuteTime": {
     "end_time": "2024-09-03T02:28:41.076580Z",
     "start_time": "2024-09-03T02:28:41.073360Z"
    }
   },
   "outputs": [
    {
     "data": {
      "text/plain": [
       "array([[-0.88254459, -0.2016719 , -1.15793744,  1.07168396, -1.06334216],\n",
       "       [ 0.33962392, -1.69347082, -0.46344873, -0.72682454,  0.51277227],\n",
       "       [-1.62924486, -1.23664127,  0.78361266, -1.32128089, -1.5973359 ],\n",
       "       [-0.21998077, -1.51660179,  0.35362875,  1.56714525,  1.36963106],\n",
       "       [-0.38561865,  0.42992957, -1.29929946,  0.21375793, -0.16354384],\n",
       "       [ 1.88259999, -0.31701144,  0.24824512,  0.56429777,  0.67561506]])"
      ]
     },
     "execution_count": 52,
     "metadata": {},
     "output_type": "execute_result"
    }
   ],
   "source": [
    "df.to_numpy()"
   ]
  },
  {
   "cell_type": "markdown",
   "metadata": {},
   "source": [
    "describe() shows a quick statistic summary of your data"
   ]
  },
  {
   "cell_type": "code",
   "execution_count": 53,
   "metadata": {
    "ExecuteTime": {
     "end_time": "2024-09-03T02:28:44.748362Z",
     "start_time": "2024-09-03T02:28:44.733612Z"
    }
   },
   "outputs": [
    {
     "data": {
      "text/html": [
       "<div>\n",
       "<style scoped>\n",
       "    .dataframe tbody tr th:only-of-type {\n",
       "        vertical-align: middle;\n",
       "    }\n",
       "\n",
       "    .dataframe tbody tr th {\n",
       "        vertical-align: top;\n",
       "    }\n",
       "\n",
       "    .dataframe thead th {\n",
       "        text-align: right;\n",
       "    }\n",
       "</style>\n",
       "<table border=\"1\" class=\"dataframe\">\n",
       "  <thead>\n",
       "    <tr style=\"text-align: right;\">\n",
       "      <th></th>\n",
       "      <th>A</th>\n",
       "      <th>B</th>\n",
       "      <th>C</th>\n",
       "      <th>D</th>\n",
       "      <th>E</th>\n",
       "    </tr>\n",
       "  </thead>\n",
       "  <tbody>\n",
       "    <tr>\n",
       "      <th>count</th>\n",
       "      <td>6.000000</td>\n",
       "      <td>6.000000</td>\n",
       "      <td>6.000000</td>\n",
       "      <td>6.000000</td>\n",
       "      <td>6.000000</td>\n",
       "    </tr>\n",
       "    <tr>\n",
       "      <th>mean</th>\n",
       "      <td>-0.149194</td>\n",
       "      <td>-0.755911</td>\n",
       "      <td>-0.255867</td>\n",
       "      <td>0.228130</td>\n",
       "      <td>-0.044367</td>\n",
       "    </tr>\n",
       "    <tr>\n",
       "      <th>std</th>\n",
       "      <td>1.196360</td>\n",
       "      <td>0.847915</td>\n",
       "      <td>0.854600</td>\n",
       "      <td>1.089070</td>\n",
       "      <td>1.121819</td>\n",
       "    </tr>\n",
       "    <tr>\n",
       "      <th>min</th>\n",
       "      <td>-1.629245</td>\n",
       "      <td>-1.693471</td>\n",
       "      <td>-1.299299</td>\n",
       "      <td>-1.321281</td>\n",
       "      <td>-1.597336</td>\n",
       "    </tr>\n",
       "    <tr>\n",
       "      <th>25%</th>\n",
       "      <td>-0.758313</td>\n",
       "      <td>-1.446612</td>\n",
       "      <td>-0.984315</td>\n",
       "      <td>-0.491679</td>\n",
       "      <td>-0.838393</td>\n",
       "    </tr>\n",
       "    <tr>\n",
       "      <th>50%</th>\n",
       "      <td>-0.302800</td>\n",
       "      <td>-0.776826</td>\n",
       "      <td>-0.107602</td>\n",
       "      <td>0.389028</td>\n",
       "      <td>0.174614</td>\n",
       "    </tr>\n",
       "    <tr>\n",
       "      <th>75%</th>\n",
       "      <td>0.199723</td>\n",
       "      <td>-0.230507</td>\n",
       "      <td>0.327283</td>\n",
       "      <td>0.944837</td>\n",
       "      <td>0.634904</td>\n",
       "    </tr>\n",
       "    <tr>\n",
       "      <th>max</th>\n",
       "      <td>1.882600</td>\n",
       "      <td>0.429930</td>\n",
       "      <td>0.783613</td>\n",
       "      <td>1.567145</td>\n",
       "      <td>1.369631</td>\n",
       "    </tr>\n",
       "  </tbody>\n",
       "</table>\n",
       "</div>"
      ],
      "text/plain": [
       "              A         B         C         D         E\n",
       "count  6.000000  6.000000  6.000000  6.000000  6.000000\n",
       "mean  -0.149194 -0.755911 -0.255867  0.228130 -0.044367\n",
       "std    1.196360  0.847915  0.854600  1.089070  1.121819\n",
       "min   -1.629245 -1.693471 -1.299299 -1.321281 -1.597336\n",
       "25%   -0.758313 -1.446612 -0.984315 -0.491679 -0.838393\n",
       "50%   -0.302800 -0.776826 -0.107602  0.389028  0.174614\n",
       "75%    0.199723 -0.230507  0.327283  0.944837  0.634904\n",
       "max    1.882600  0.429930  0.783613  1.567145  1.369631"
      ]
     },
     "execution_count": 53,
     "metadata": {},
     "output_type": "execute_result"
    }
   ],
   "source": [
    "df.describe()"
   ]
  },
  {
   "cell_type": "markdown",
   "metadata": {},
   "source": [
    "Transposing your data"
   ]
  },
  {
   "cell_type": "code",
   "execution_count": 54,
   "metadata": {
    "ExecuteTime": {
     "end_time": "2024-09-03T02:28:47.857723Z",
     "start_time": "2024-09-03T02:28:47.848720Z"
    }
   },
   "outputs": [
    {
     "data": {
      "text/html": [
       "<div>\n",
       "<style scoped>\n",
       "    .dataframe tbody tr th:only-of-type {\n",
       "        vertical-align: middle;\n",
       "    }\n",
       "\n",
       "    .dataframe tbody tr th {\n",
       "        vertical-align: top;\n",
       "    }\n",
       "\n",
       "    .dataframe thead th {\n",
       "        text-align: right;\n",
       "    }\n",
       "</style>\n",
       "<table border=\"1\" class=\"dataframe\">\n",
       "  <thead>\n",
       "    <tr style=\"text-align: right;\">\n",
       "      <th></th>\n",
       "      <th>2024-01-01</th>\n",
       "      <th>2024-01-02</th>\n",
       "      <th>2024-01-03</th>\n",
       "      <th>2024-01-04</th>\n",
       "      <th>2024-01-05</th>\n",
       "      <th>2024-01-06</th>\n",
       "    </tr>\n",
       "  </thead>\n",
       "  <tbody>\n",
       "    <tr>\n",
       "      <th>A</th>\n",
       "      <td>-0.882545</td>\n",
       "      <td>0.339624</td>\n",
       "      <td>-1.629245</td>\n",
       "      <td>-0.219981</td>\n",
       "      <td>-0.385619</td>\n",
       "      <td>1.882600</td>\n",
       "    </tr>\n",
       "    <tr>\n",
       "      <th>B</th>\n",
       "      <td>-0.201672</td>\n",
       "      <td>-1.693471</td>\n",
       "      <td>-1.236641</td>\n",
       "      <td>-1.516602</td>\n",
       "      <td>0.429930</td>\n",
       "      <td>-0.317011</td>\n",
       "    </tr>\n",
       "    <tr>\n",
       "      <th>C</th>\n",
       "      <td>-1.157937</td>\n",
       "      <td>-0.463449</td>\n",
       "      <td>0.783613</td>\n",
       "      <td>0.353629</td>\n",
       "      <td>-1.299299</td>\n",
       "      <td>0.248245</td>\n",
       "    </tr>\n",
       "    <tr>\n",
       "      <th>D</th>\n",
       "      <td>1.071684</td>\n",
       "      <td>-0.726825</td>\n",
       "      <td>-1.321281</td>\n",
       "      <td>1.567145</td>\n",
       "      <td>0.213758</td>\n",
       "      <td>0.564298</td>\n",
       "    </tr>\n",
       "    <tr>\n",
       "      <th>E</th>\n",
       "      <td>-1.063342</td>\n",
       "      <td>0.512772</td>\n",
       "      <td>-1.597336</td>\n",
       "      <td>1.369631</td>\n",
       "      <td>-0.163544</td>\n",
       "      <td>0.675615</td>\n",
       "    </tr>\n",
       "  </tbody>\n",
       "</table>\n",
       "</div>"
      ],
      "text/plain": [
       "   2024-01-01  2024-01-02  2024-01-03  2024-01-04  2024-01-05  2024-01-06\n",
       "A   -0.882545    0.339624   -1.629245   -0.219981   -0.385619    1.882600\n",
       "B   -0.201672   -1.693471   -1.236641   -1.516602    0.429930   -0.317011\n",
       "C   -1.157937   -0.463449    0.783613    0.353629   -1.299299    0.248245\n",
       "D    1.071684   -0.726825   -1.321281    1.567145    0.213758    0.564298\n",
       "E   -1.063342    0.512772   -1.597336    1.369631   -0.163544    0.675615"
      ]
     },
     "execution_count": 54,
     "metadata": {},
     "output_type": "execute_result"
    }
   ],
   "source": [
    "df.T"
   ]
  },
  {
   "cell_type": "markdown",
   "metadata": {
    "ExecuteTime": {
     "end_time": "2023-09-08T06:00:21.612591Z",
     "start_time": "2023-09-08T06:00:21.609392Z"
    }
   },
   "source": [
    "DataFrame.sort_index() sorts by an axis"
   ]
  },
  {
   "cell_type": "code",
   "execution_count": 55,
   "metadata": {
    "ExecuteTime": {
     "end_time": "2024-09-03T02:28:51.625727Z",
     "start_time": "2024-09-03T02:28:51.617279Z"
    }
   },
   "outputs": [
    {
     "data": {
      "text/html": [
       "<div>\n",
       "<style scoped>\n",
       "    .dataframe tbody tr th:only-of-type {\n",
       "        vertical-align: middle;\n",
       "    }\n",
       "\n",
       "    .dataframe tbody tr th {\n",
       "        vertical-align: top;\n",
       "    }\n",
       "\n",
       "    .dataframe thead th {\n",
       "        text-align: right;\n",
       "    }\n",
       "</style>\n",
       "<table border=\"1\" class=\"dataframe\">\n",
       "  <thead>\n",
       "    <tr style=\"text-align: right;\">\n",
       "      <th></th>\n",
       "      <th>A</th>\n",
       "      <th>B</th>\n",
       "      <th>C</th>\n",
       "      <th>D</th>\n",
       "      <th>E</th>\n",
       "    </tr>\n",
       "  </thead>\n",
       "  <tbody>\n",
       "    <tr>\n",
       "      <th>2024-01-06</th>\n",
       "      <td>1.882600</td>\n",
       "      <td>-0.317011</td>\n",
       "      <td>0.248245</td>\n",
       "      <td>0.564298</td>\n",
       "      <td>0.675615</td>\n",
       "    </tr>\n",
       "    <tr>\n",
       "      <th>2024-01-05</th>\n",
       "      <td>-0.385619</td>\n",
       "      <td>0.429930</td>\n",
       "      <td>-1.299299</td>\n",
       "      <td>0.213758</td>\n",
       "      <td>-0.163544</td>\n",
       "    </tr>\n",
       "    <tr>\n",
       "      <th>2024-01-04</th>\n",
       "      <td>-0.219981</td>\n",
       "      <td>-1.516602</td>\n",
       "      <td>0.353629</td>\n",
       "      <td>1.567145</td>\n",
       "      <td>1.369631</td>\n",
       "    </tr>\n",
       "    <tr>\n",
       "      <th>2024-01-03</th>\n",
       "      <td>-1.629245</td>\n",
       "      <td>-1.236641</td>\n",
       "      <td>0.783613</td>\n",
       "      <td>-1.321281</td>\n",
       "      <td>-1.597336</td>\n",
       "    </tr>\n",
       "    <tr>\n",
       "      <th>2024-01-02</th>\n",
       "      <td>0.339624</td>\n",
       "      <td>-1.693471</td>\n",
       "      <td>-0.463449</td>\n",
       "      <td>-0.726825</td>\n",
       "      <td>0.512772</td>\n",
       "    </tr>\n",
       "    <tr>\n",
       "      <th>2024-01-01</th>\n",
       "      <td>-0.882545</td>\n",
       "      <td>-0.201672</td>\n",
       "      <td>-1.157937</td>\n",
       "      <td>1.071684</td>\n",
       "      <td>-1.063342</td>\n",
       "    </tr>\n",
       "  </tbody>\n",
       "</table>\n",
       "</div>"
      ],
      "text/plain": [
       "                   A         B         C         D         E\n",
       "2024-01-06  1.882600 -0.317011  0.248245  0.564298  0.675615\n",
       "2024-01-05 -0.385619  0.429930 -1.299299  0.213758 -0.163544\n",
       "2024-01-04 -0.219981 -1.516602  0.353629  1.567145  1.369631\n",
       "2024-01-03 -1.629245 -1.236641  0.783613 -1.321281 -1.597336\n",
       "2024-01-02  0.339624 -1.693471 -0.463449 -0.726825  0.512772\n",
       "2024-01-01 -0.882545 -0.201672 -1.157937  1.071684 -1.063342"
      ]
     },
     "execution_count": 55,
     "metadata": {},
     "output_type": "execute_result"
    }
   ],
   "source": [
    "df.sort_index(axis=0, ascending=False)"
   ]
  },
  {
   "cell_type": "markdown",
   "metadata": {},
   "source": [
    "DataFrame.sort_values() sorts by values"
   ]
  },
  {
   "cell_type": "code",
   "execution_count": 56,
   "metadata": {
    "ExecuteTime": {
     "end_time": "2024-09-03T02:28:57.473149Z",
     "start_time": "2024-09-03T02:28:57.464495Z"
    }
   },
   "outputs": [
    {
     "data": {
      "text/html": [
       "<div>\n",
       "<style scoped>\n",
       "    .dataframe tbody tr th:only-of-type {\n",
       "        vertical-align: middle;\n",
       "    }\n",
       "\n",
       "    .dataframe tbody tr th {\n",
       "        vertical-align: top;\n",
       "    }\n",
       "\n",
       "    .dataframe thead th {\n",
       "        text-align: right;\n",
       "    }\n",
       "</style>\n",
       "<table border=\"1\" class=\"dataframe\">\n",
       "  <thead>\n",
       "    <tr style=\"text-align: right;\">\n",
       "      <th></th>\n",
       "      <th>A</th>\n",
       "      <th>B</th>\n",
       "      <th>C</th>\n",
       "      <th>D</th>\n",
       "      <th>E</th>\n",
       "    </tr>\n",
       "  </thead>\n",
       "  <tbody>\n",
       "    <tr>\n",
       "      <th>2024-01-05</th>\n",
       "      <td>-0.385619</td>\n",
       "      <td>0.429930</td>\n",
       "      <td>-1.299299</td>\n",
       "      <td>0.213758</td>\n",
       "      <td>-0.163544</td>\n",
       "    </tr>\n",
       "    <tr>\n",
       "      <th>2024-01-01</th>\n",
       "      <td>-0.882545</td>\n",
       "      <td>-0.201672</td>\n",
       "      <td>-1.157937</td>\n",
       "      <td>1.071684</td>\n",
       "      <td>-1.063342</td>\n",
       "    </tr>\n",
       "    <tr>\n",
       "      <th>2024-01-06</th>\n",
       "      <td>1.882600</td>\n",
       "      <td>-0.317011</td>\n",
       "      <td>0.248245</td>\n",
       "      <td>0.564298</td>\n",
       "      <td>0.675615</td>\n",
       "    </tr>\n",
       "    <tr>\n",
       "      <th>2024-01-03</th>\n",
       "      <td>-1.629245</td>\n",
       "      <td>-1.236641</td>\n",
       "      <td>0.783613</td>\n",
       "      <td>-1.321281</td>\n",
       "      <td>-1.597336</td>\n",
       "    </tr>\n",
       "    <tr>\n",
       "      <th>2024-01-04</th>\n",
       "      <td>-0.219981</td>\n",
       "      <td>-1.516602</td>\n",
       "      <td>0.353629</td>\n",
       "      <td>1.567145</td>\n",
       "      <td>1.369631</td>\n",
       "    </tr>\n",
       "    <tr>\n",
       "      <th>2024-01-02</th>\n",
       "      <td>0.339624</td>\n",
       "      <td>-1.693471</td>\n",
       "      <td>-0.463449</td>\n",
       "      <td>-0.726825</td>\n",
       "      <td>0.512772</td>\n",
       "    </tr>\n",
       "  </tbody>\n",
       "</table>\n",
       "</div>"
      ],
      "text/plain": [
       "                   A         B         C         D         E\n",
       "2024-01-05 -0.385619  0.429930 -1.299299  0.213758 -0.163544\n",
       "2024-01-01 -0.882545 -0.201672 -1.157937  1.071684 -1.063342\n",
       "2024-01-06  1.882600 -0.317011  0.248245  0.564298  0.675615\n",
       "2024-01-03 -1.629245 -1.236641  0.783613 -1.321281 -1.597336\n",
       "2024-01-04 -0.219981 -1.516602  0.353629  1.567145  1.369631\n",
       "2024-01-02  0.339624 -1.693471 -0.463449 -0.726825  0.512772"
      ]
     },
     "execution_count": 56,
     "metadata": {},
     "output_type": "execute_result"
    }
   ],
   "source": [
    "df.sort_values(by=\"B\", ascending=False)"
   ]
  },
  {
   "cell_type": "markdown",
   "metadata": {},
   "source": [
    "For a DataFrame, passing a single label selects a columns and yields a Series equivalent to df.A"
   ]
  },
  {
   "cell_type": "code",
   "execution_count": 57,
   "metadata": {
    "ExecuteTime": {
     "end_time": "2024-09-03T02:29:03.477298Z",
     "start_time": "2024-09-03T02:29:03.473651Z"
    }
   },
   "outputs": [
    {
     "data": {
      "text/plain": [
       "2024-01-01   -0.882545\n",
       "2024-01-02    0.339624\n",
       "2024-01-03   -1.629245\n",
       "2024-01-04   -0.219981\n",
       "2024-01-05   -0.385619\n",
       "2024-01-06    1.882600\n",
       "Freq: D, Name: A, dtype: float64"
      ]
     },
     "execution_count": 57,
     "metadata": {},
     "output_type": "execute_result"
    }
   ],
   "source": [
    "df[\"A\"]"
   ]
  },
  {
   "cell_type": "code",
   "execution_count": 58,
   "metadata": {
    "ExecuteTime": {
     "end_time": "2024-09-03T02:29:08.008015Z",
     "start_time": "2024-09-03T02:29:08.003676Z"
    }
   },
   "outputs": [
    {
     "data": {
      "text/plain": [
       "2024-01-01   -0.882545\n",
       "2024-01-02    0.339624\n",
       "2024-01-03   -1.629245\n",
       "2024-01-04   -0.219981\n",
       "2024-01-05   -0.385619\n",
       "2024-01-06    1.882600\n",
       "Freq: D, Name: A, dtype: float64"
      ]
     },
     "execution_count": 58,
     "metadata": {},
     "output_type": "execute_result"
    }
   ],
   "source": [
    "df.A"
   ]
  },
  {
   "cell_type": "markdown",
   "metadata": {},
   "source": [
    "For a DataFrame, passing a slice : selects matching rows"
   ]
  },
  {
   "cell_type": "code",
   "execution_count": 59,
   "metadata": {
    "ExecuteTime": {
     "end_time": "2024-09-03T02:29:13.622840Z",
     "start_time": "2024-09-03T02:29:13.616083Z"
    }
   },
   "outputs": [
    {
     "data": {
      "text/html": [
       "<div>\n",
       "<style scoped>\n",
       "    .dataframe tbody tr th:only-of-type {\n",
       "        vertical-align: middle;\n",
       "    }\n",
       "\n",
       "    .dataframe tbody tr th {\n",
       "        vertical-align: top;\n",
       "    }\n",
       "\n",
       "    .dataframe thead th {\n",
       "        text-align: right;\n",
       "    }\n",
       "</style>\n",
       "<table border=\"1\" class=\"dataframe\">\n",
       "  <thead>\n",
       "    <tr style=\"text-align: right;\">\n",
       "      <th></th>\n",
       "      <th>A</th>\n",
       "      <th>B</th>\n",
       "      <th>C</th>\n",
       "      <th>D</th>\n",
       "      <th>E</th>\n",
       "    </tr>\n",
       "  </thead>\n",
       "  <tbody>\n",
       "    <tr>\n",
       "      <th>2024-01-02</th>\n",
       "      <td>0.339624</td>\n",
       "      <td>-1.693471</td>\n",
       "      <td>-0.463449</td>\n",
       "      <td>-0.726825</td>\n",
       "      <td>0.512772</td>\n",
       "    </tr>\n",
       "    <tr>\n",
       "      <th>2024-01-03</th>\n",
       "      <td>-1.629245</td>\n",
       "      <td>-1.236641</td>\n",
       "      <td>0.783613</td>\n",
       "      <td>-1.321281</td>\n",
       "      <td>-1.597336</td>\n",
       "    </tr>\n",
       "  </tbody>\n",
       "</table>\n",
       "</div>"
      ],
      "text/plain": [
       "                   A         B         C         D         E\n",
       "2024-01-02  0.339624 -1.693471 -0.463449 -0.726825  0.512772\n",
       "2024-01-03 -1.629245 -1.236641  0.783613 -1.321281 -1.597336"
      ]
     },
     "execution_count": 59,
     "metadata": {},
     "output_type": "execute_result"
    }
   ],
   "source": [
    "df[1:3]"
   ]
  },
  {
   "cell_type": "code",
   "execution_count": 60,
   "metadata": {
    "ExecuteTime": {
     "end_time": "2024-09-03T02:29:19.704063Z",
     "start_time": "2024-09-03T02:29:19.693706Z"
    }
   },
   "outputs": [
    {
     "data": {
      "text/html": [
       "<div>\n",
       "<style scoped>\n",
       "    .dataframe tbody tr th:only-of-type {\n",
       "        vertical-align: middle;\n",
       "    }\n",
       "\n",
       "    .dataframe tbody tr th {\n",
       "        vertical-align: top;\n",
       "    }\n",
       "\n",
       "    .dataframe thead th {\n",
       "        text-align: right;\n",
       "    }\n",
       "</style>\n",
       "<table border=\"1\" class=\"dataframe\">\n",
       "  <thead>\n",
       "    <tr style=\"text-align: right;\">\n",
       "      <th></th>\n",
       "      <th>A</th>\n",
       "      <th>B</th>\n",
       "      <th>C</th>\n",
       "      <th>D</th>\n",
       "      <th>E</th>\n",
       "    </tr>\n",
       "  </thead>\n",
       "  <tbody>\n",
       "    <tr>\n",
       "      <th>2024-01-02</th>\n",
       "      <td>0.339624</td>\n",
       "      <td>-1.693471</td>\n",
       "      <td>-0.463449</td>\n",
       "      <td>-0.726825</td>\n",
       "      <td>0.512772</td>\n",
       "    </tr>\n",
       "    <tr>\n",
       "      <th>2024-01-03</th>\n",
       "      <td>-1.629245</td>\n",
       "      <td>-1.236641</td>\n",
       "      <td>0.783613</td>\n",
       "      <td>-1.321281</td>\n",
       "      <td>-1.597336</td>\n",
       "    </tr>\n",
       "    <tr>\n",
       "      <th>2024-01-04</th>\n",
       "      <td>-0.219981</td>\n",
       "      <td>-1.516602</td>\n",
       "      <td>0.353629</td>\n",
       "      <td>1.567145</td>\n",
       "      <td>1.369631</td>\n",
       "    </tr>\n",
       "  </tbody>\n",
       "</table>\n",
       "</div>"
      ],
      "text/plain": [
       "                   A         B         C         D         E\n",
       "2024-01-02  0.339624 -1.693471 -0.463449 -0.726825  0.512772\n",
       "2024-01-03 -1.629245 -1.236641  0.783613 -1.321281 -1.597336\n",
       "2024-01-04 -0.219981 -1.516602  0.353629  1.567145  1.369631"
      ]
     },
     "execution_count": 60,
     "metadata": {},
     "output_type": "execute_result"
    }
   ],
   "source": [
    "df[\"20240102\":\"20240104\"]"
   ]
  },
  {
   "cell_type": "markdown",
   "metadata": {},
   "source": [
    "Selecting a row matching a label"
   ]
  },
  {
   "cell_type": "code",
   "execution_count": 61,
   "metadata": {
    "ExecuteTime": {
     "end_time": "2024-09-03T02:29:22.845891Z",
     "start_time": "2024-09-03T02:29:22.841327Z"
    }
   },
   "outputs": [
    {
     "data": {
      "text/plain": [
       "A   -0.882545\n",
       "B   -0.201672\n",
       "C   -1.157937\n",
       "D    1.071684\n",
       "E   -1.063342\n",
       "Name: 2024-01-01 00:00:00, dtype: float64"
      ]
     },
     "execution_count": 61,
     "metadata": {},
     "output_type": "execute_result"
    }
   ],
   "source": [
    "df.loc[dates[0]]"
   ]
  },
  {
   "cell_type": "markdown",
   "metadata": {},
   "source": [
    "Selecting all rows (:) with a select column labels"
   ]
  },
  {
   "cell_type": "code",
   "execution_count": 62,
   "metadata": {
    "ExecuteTime": {
     "end_time": "2024-09-03T02:29:25.401018Z",
     "start_time": "2024-09-03T02:29:25.394270Z"
    }
   },
   "outputs": [
    {
     "data": {
      "text/html": [
       "<div>\n",
       "<style scoped>\n",
       "    .dataframe tbody tr th:only-of-type {\n",
       "        vertical-align: middle;\n",
       "    }\n",
       "\n",
       "    .dataframe tbody tr th {\n",
       "        vertical-align: top;\n",
       "    }\n",
       "\n",
       "    .dataframe thead th {\n",
       "        text-align: right;\n",
       "    }\n",
       "</style>\n",
       "<table border=\"1\" class=\"dataframe\">\n",
       "  <thead>\n",
       "    <tr style=\"text-align: right;\">\n",
       "      <th></th>\n",
       "      <th>A</th>\n",
       "      <th>B</th>\n",
       "    </tr>\n",
       "  </thead>\n",
       "  <tbody>\n",
       "    <tr>\n",
       "      <th>2024-01-01</th>\n",
       "      <td>-0.882545</td>\n",
       "      <td>-0.201672</td>\n",
       "    </tr>\n",
       "    <tr>\n",
       "      <th>2024-01-02</th>\n",
       "      <td>0.339624</td>\n",
       "      <td>-1.693471</td>\n",
       "    </tr>\n",
       "    <tr>\n",
       "      <th>2024-01-03</th>\n",
       "      <td>-1.629245</td>\n",
       "      <td>-1.236641</td>\n",
       "    </tr>\n",
       "    <tr>\n",
       "      <th>2024-01-04</th>\n",
       "      <td>-0.219981</td>\n",
       "      <td>-1.516602</td>\n",
       "    </tr>\n",
       "    <tr>\n",
       "      <th>2024-01-05</th>\n",
       "      <td>-0.385619</td>\n",
       "      <td>0.429930</td>\n",
       "    </tr>\n",
       "    <tr>\n",
       "      <th>2024-01-06</th>\n",
       "      <td>1.882600</td>\n",
       "      <td>-0.317011</td>\n",
       "    </tr>\n",
       "  </tbody>\n",
       "</table>\n",
       "</div>"
      ],
      "text/plain": [
       "                   A         B\n",
       "2024-01-01 -0.882545 -0.201672\n",
       "2024-01-02  0.339624 -1.693471\n",
       "2024-01-03 -1.629245 -1.236641\n",
       "2024-01-04 -0.219981 -1.516602\n",
       "2024-01-05 -0.385619  0.429930\n",
       "2024-01-06  1.882600 -0.317011"
      ]
     },
     "execution_count": 62,
     "metadata": {},
     "output_type": "execute_result"
    }
   ],
   "source": [
    "df.loc[:, [\"A\", \"B\"]]"
   ]
  },
  {
   "cell_type": "markdown",
   "metadata": {},
   "source": [
    "Selecting a single row and column label returns a scalar"
   ]
  },
  {
   "cell_type": "code",
   "execution_count": 63,
   "metadata": {
    "ExecuteTime": {
     "end_time": "2024-09-03T02:29:27.061071Z",
     "start_time": "2024-09-03T02:29:27.057871Z"
    }
   },
   "outputs": [
    {
     "data": {
      "text/plain": [
       "-0.8825445915343347"
      ]
     },
     "execution_count": 63,
     "metadata": {},
     "output_type": "execute_result"
    }
   ],
   "source": [
    "df.loc[dates[0], \"A\"]"
   ]
  },
  {
   "cell_type": "markdown",
   "metadata": {},
   "source": [
    "Select via the position of the passed integers"
   ]
  },
  {
   "cell_type": "code",
   "execution_count": 64,
   "metadata": {
    "ExecuteTime": {
     "end_time": "2024-09-03T02:29:29.831301Z",
     "start_time": "2024-09-03T02:29:29.827060Z"
    }
   },
   "outputs": [
    {
     "data": {
      "text/plain": [
       "A   -0.219981\n",
       "B   -1.516602\n",
       "C    0.353629\n",
       "D    1.567145\n",
       "E    1.369631\n",
       "Name: 2024-01-04 00:00:00, dtype: float64"
      ]
     },
     "execution_count": 64,
     "metadata": {},
     "output_type": "execute_result"
    }
   ],
   "source": [
    "df.iloc[3]"
   ]
  },
  {
   "cell_type": "markdown",
   "metadata": {
    "ExecuteTime": {
     "end_time": "2023-09-08T06:04:14.511122Z",
     "start_time": "2023-09-08T06:04:14.503572Z"
    }
   },
   "source": [
    "Integer slices acts similar to NumPy/Python"
   ]
  },
  {
   "cell_type": "code",
   "execution_count": 65,
   "metadata": {
    "ExecuteTime": {
     "end_time": "2024-09-03T02:29:32.240785Z",
     "start_time": "2024-09-03T02:29:32.234531Z"
    }
   },
   "outputs": [
    {
     "data": {
      "text/html": [
       "<div>\n",
       "<style scoped>\n",
       "    .dataframe tbody tr th:only-of-type {\n",
       "        vertical-align: middle;\n",
       "    }\n",
       "\n",
       "    .dataframe tbody tr th {\n",
       "        vertical-align: top;\n",
       "    }\n",
       "\n",
       "    .dataframe thead th {\n",
       "        text-align: right;\n",
       "    }\n",
       "</style>\n",
       "<table border=\"1\" class=\"dataframe\">\n",
       "  <thead>\n",
       "    <tr style=\"text-align: right;\">\n",
       "      <th></th>\n",
       "      <th>A</th>\n",
       "      <th>B</th>\n",
       "    </tr>\n",
       "  </thead>\n",
       "  <tbody>\n",
       "    <tr>\n",
       "      <th>2024-01-04</th>\n",
       "      <td>-0.219981</td>\n",
       "      <td>-1.516602</td>\n",
       "    </tr>\n",
       "    <tr>\n",
       "      <th>2024-01-05</th>\n",
       "      <td>-0.385619</td>\n",
       "      <td>0.429930</td>\n",
       "    </tr>\n",
       "  </tbody>\n",
       "</table>\n",
       "</div>"
      ],
      "text/plain": [
       "                   A         B\n",
       "2024-01-04 -0.219981 -1.516602\n",
       "2024-01-05 -0.385619  0.429930"
      ]
     },
     "execution_count": 65,
     "metadata": {},
     "output_type": "execute_result"
    }
   ],
   "source": [
    "df.iloc[3:5, 0:2]"
   ]
  },
  {
   "cell_type": "markdown",
   "metadata": {},
   "source": [
    "Boolean Indexing\n",
    "\n",
    "Select rows where df.A is greater than 0"
   ]
  },
  {
   "cell_type": "code",
   "execution_count": 66,
   "metadata": {
    "ExecuteTime": {
     "end_time": "2024-09-03T02:29:33.459007Z",
     "start_time": "2024-09-03T02:29:33.450799Z"
    }
   },
   "outputs": [
    {
     "data": {
      "text/html": [
       "<div>\n",
       "<style scoped>\n",
       "    .dataframe tbody tr th:only-of-type {\n",
       "        vertical-align: middle;\n",
       "    }\n",
       "\n",
       "    .dataframe tbody tr th {\n",
       "        vertical-align: top;\n",
       "    }\n",
       "\n",
       "    .dataframe thead th {\n",
       "        text-align: right;\n",
       "    }\n",
       "</style>\n",
       "<table border=\"1\" class=\"dataframe\">\n",
       "  <thead>\n",
       "    <tr style=\"text-align: right;\">\n",
       "      <th></th>\n",
       "      <th>A</th>\n",
       "      <th>B</th>\n",
       "      <th>C</th>\n",
       "      <th>D</th>\n",
       "      <th>E</th>\n",
       "    </tr>\n",
       "  </thead>\n",
       "  <tbody>\n",
       "    <tr>\n",
       "      <th>2024-01-02</th>\n",
       "      <td>0.339624</td>\n",
       "      <td>-1.693471</td>\n",
       "      <td>-0.463449</td>\n",
       "      <td>-0.726825</td>\n",
       "      <td>0.512772</td>\n",
       "    </tr>\n",
       "    <tr>\n",
       "      <th>2024-01-06</th>\n",
       "      <td>1.882600</td>\n",
       "      <td>-0.317011</td>\n",
       "      <td>0.248245</td>\n",
       "      <td>0.564298</td>\n",
       "      <td>0.675615</td>\n",
       "    </tr>\n",
       "  </tbody>\n",
       "</table>\n",
       "</div>"
      ],
      "text/plain": [
       "                   A         B         C         D         E\n",
       "2024-01-02  0.339624 -1.693471 -0.463449 -0.726825  0.512772\n",
       "2024-01-06  1.882600 -0.317011  0.248245  0.564298  0.675615"
      ]
     },
     "execution_count": 66,
     "metadata": {},
     "output_type": "execute_result"
    }
   ],
   "source": [
    "df[df[\"A\"] > 0]"
   ]
  },
  {
   "cell_type": "markdown",
   "metadata": {},
   "source": [
    "Pandas provides various facilities for easily combining together Series and DataFrame objects with various kinds of set logic for the indexes and relational algebra functionality in the case of join / merge-type operations.\n",
    "\n",
    "Concatenating pandas objects together row-wise with concat()"
   ]
  },
  {
   "cell_type": "code",
   "execution_count": 67,
   "metadata": {
    "ExecuteTime": {
     "end_time": "2024-09-03T02:29:36.236157Z",
     "start_time": "2024-09-03T02:29:36.234102Z"
    }
   },
   "outputs": [],
   "source": [
    "df = pd.DataFrame(np.random.randn(10, 4))"
   ]
  },
  {
   "cell_type": "code",
   "execution_count": 68,
   "metadata": {
    "ExecuteTime": {
     "end_time": "2024-09-03T02:29:36.903821Z",
     "start_time": "2024-09-03T02:29:36.896997Z"
    }
   },
   "outputs": [
    {
     "data": {
      "text/html": [
       "<div>\n",
       "<style scoped>\n",
       "    .dataframe tbody tr th:only-of-type {\n",
       "        vertical-align: middle;\n",
       "    }\n",
       "\n",
       "    .dataframe tbody tr th {\n",
       "        vertical-align: top;\n",
       "    }\n",
       "\n",
       "    .dataframe thead th {\n",
       "        text-align: right;\n",
       "    }\n",
       "</style>\n",
       "<table border=\"1\" class=\"dataframe\">\n",
       "  <thead>\n",
       "    <tr style=\"text-align: right;\">\n",
       "      <th></th>\n",
       "      <th>0</th>\n",
       "      <th>1</th>\n",
       "      <th>2</th>\n",
       "      <th>3</th>\n",
       "    </tr>\n",
       "  </thead>\n",
       "  <tbody>\n",
       "    <tr>\n",
       "      <th>0</th>\n",
       "      <td>1.079119</td>\n",
       "      <td>-0.537979</td>\n",
       "      <td>-0.715049</td>\n",
       "      <td>0.022618</td>\n",
       "    </tr>\n",
       "    <tr>\n",
       "      <th>1</th>\n",
       "      <td>0.632062</td>\n",
       "      <td>-0.293481</td>\n",
       "      <td>-0.857122</td>\n",
       "      <td>-0.745263</td>\n",
       "    </tr>\n",
       "    <tr>\n",
       "      <th>2</th>\n",
       "      <td>-0.565136</td>\n",
       "      <td>0.497303</td>\n",
       "      <td>-1.096636</td>\n",
       "      <td>-0.906743</td>\n",
       "    </tr>\n",
       "    <tr>\n",
       "      <th>3</th>\n",
       "      <td>-2.130732</td>\n",
       "      <td>0.172987</td>\n",
       "      <td>-0.640421</td>\n",
       "      <td>-0.052834</td>\n",
       "    </tr>\n",
       "    <tr>\n",
       "      <th>4</th>\n",
       "      <td>-1.007365</td>\n",
       "      <td>-0.222299</td>\n",
       "      <td>-0.363658</td>\n",
       "      <td>0.532442</td>\n",
       "    </tr>\n",
       "    <tr>\n",
       "      <th>5</th>\n",
       "      <td>0.340340</td>\n",
       "      <td>-1.422992</td>\n",
       "      <td>-0.519446</td>\n",
       "      <td>0.150673</td>\n",
       "    </tr>\n",
       "    <tr>\n",
       "      <th>6</th>\n",
       "      <td>0.104469</td>\n",
       "      <td>2.188523</td>\n",
       "      <td>-0.076218</td>\n",
       "      <td>-0.180521</td>\n",
       "    </tr>\n",
       "    <tr>\n",
       "      <th>7</th>\n",
       "      <td>-0.824523</td>\n",
       "      <td>0.030982</td>\n",
       "      <td>-0.722319</td>\n",
       "      <td>-1.956097</td>\n",
       "    </tr>\n",
       "    <tr>\n",
       "      <th>8</th>\n",
       "      <td>-0.783209</td>\n",
       "      <td>-0.007770</td>\n",
       "      <td>-1.448444</td>\n",
       "      <td>0.096195</td>\n",
       "    </tr>\n",
       "    <tr>\n",
       "      <th>9</th>\n",
       "      <td>0.219334</td>\n",
       "      <td>0.592452</td>\n",
       "      <td>0.325764</td>\n",
       "      <td>1.380099</td>\n",
       "    </tr>\n",
       "  </tbody>\n",
       "</table>\n",
       "</div>"
      ],
      "text/plain": [
       "          0         1         2         3\n",
       "0  1.079119 -0.537979 -0.715049  0.022618\n",
       "1  0.632062 -0.293481 -0.857122 -0.745263\n",
       "2 -0.565136  0.497303 -1.096636 -0.906743\n",
       "3 -2.130732  0.172987 -0.640421 -0.052834\n",
       "4 -1.007365 -0.222299 -0.363658  0.532442\n",
       "5  0.340340 -1.422992 -0.519446  0.150673\n",
       "6  0.104469  2.188523 -0.076218 -0.180521\n",
       "7 -0.824523  0.030982 -0.722319 -1.956097\n",
       "8 -0.783209 -0.007770 -1.448444  0.096195\n",
       "9  0.219334  0.592452  0.325764  1.380099"
      ]
     },
     "execution_count": 68,
     "metadata": {},
     "output_type": "execute_result"
    }
   ],
   "source": [
    "df"
   ]
  },
  {
   "cell_type": "code",
   "execution_count": 69,
   "metadata": {
    "ExecuteTime": {
     "end_time": "2024-09-03T02:29:38.465199Z",
     "start_time": "2024-09-03T02:29:38.459292Z"
    }
   },
   "outputs": [
    {
     "data": {
      "text/html": [
       "<div>\n",
       "<style scoped>\n",
       "    .dataframe tbody tr th:only-of-type {\n",
       "        vertical-align: middle;\n",
       "    }\n",
       "\n",
       "    .dataframe tbody tr th {\n",
       "        vertical-align: top;\n",
       "    }\n",
       "\n",
       "    .dataframe thead th {\n",
       "        text-align: right;\n",
       "    }\n",
       "</style>\n",
       "<table border=\"1\" class=\"dataframe\">\n",
       "  <thead>\n",
       "    <tr style=\"text-align: right;\">\n",
       "      <th></th>\n",
       "      <th>0</th>\n",
       "      <th>1</th>\n",
       "      <th>2</th>\n",
       "      <th>3</th>\n",
       "    </tr>\n",
       "  </thead>\n",
       "  <tbody>\n",
       "    <tr>\n",
       "      <th>7</th>\n",
       "      <td>-0.824523</td>\n",
       "      <td>0.030982</td>\n",
       "      <td>-0.722319</td>\n",
       "      <td>-1.956097</td>\n",
       "    </tr>\n",
       "    <tr>\n",
       "      <th>8</th>\n",
       "      <td>-0.783209</td>\n",
       "      <td>-0.007770</td>\n",
       "      <td>-1.448444</td>\n",
       "      <td>0.096195</td>\n",
       "    </tr>\n",
       "    <tr>\n",
       "      <th>9</th>\n",
       "      <td>0.219334</td>\n",
       "      <td>0.592452</td>\n",
       "      <td>0.325764</td>\n",
       "      <td>1.380099</td>\n",
       "    </tr>\n",
       "  </tbody>\n",
       "</table>\n",
       "</div>"
      ],
      "text/plain": [
       "          0         1         2         3\n",
       "7 -0.824523  0.030982 -0.722319 -1.956097\n",
       "8 -0.783209 -0.007770 -1.448444  0.096195\n",
       "9  0.219334  0.592452  0.325764  1.380099"
      ]
     },
     "execution_count": 69,
     "metadata": {},
     "output_type": "execute_result"
    }
   ],
   "source": [
    "df[7:]"
   ]
  },
  {
   "cell_type": "code",
   "execution_count": 70,
   "metadata": {
    "ExecuteTime": {
     "end_time": "2024-09-03T02:29:40.322741Z",
     "start_time": "2024-09-03T02:29:40.314887Z"
    }
   },
   "outputs": [
    {
     "data": {
      "text/html": [
       "<div>\n",
       "<style scoped>\n",
       "    .dataframe tbody tr th:only-of-type {\n",
       "        vertical-align: middle;\n",
       "    }\n",
       "\n",
       "    .dataframe tbody tr th {\n",
       "        vertical-align: top;\n",
       "    }\n",
       "\n",
       "    .dataframe thead th {\n",
       "        text-align: right;\n",
       "    }\n",
       "</style>\n",
       "<table border=\"1\" class=\"dataframe\">\n",
       "  <thead>\n",
       "    <tr style=\"text-align: right;\">\n",
       "      <th></th>\n",
       "      <th>0</th>\n",
       "      <th>1</th>\n",
       "      <th>2</th>\n",
       "      <th>3</th>\n",
       "    </tr>\n",
       "  </thead>\n",
       "  <tbody>\n",
       "    <tr>\n",
       "      <th>7</th>\n",
       "      <td>-0.824523</td>\n",
       "      <td>0.030982</td>\n",
       "      <td>-0.722319</td>\n",
       "      <td>-1.956097</td>\n",
       "    </tr>\n",
       "    <tr>\n",
       "      <th>8</th>\n",
       "      <td>-0.783209</td>\n",
       "      <td>-0.007770</td>\n",
       "      <td>-1.448444</td>\n",
       "      <td>0.096195</td>\n",
       "    </tr>\n",
       "    <tr>\n",
       "      <th>9</th>\n",
       "      <td>0.219334</td>\n",
       "      <td>0.592452</td>\n",
       "      <td>0.325764</td>\n",
       "      <td>1.380099</td>\n",
       "    </tr>\n",
       "  </tbody>\n",
       "</table>\n",
       "</div>"
      ],
      "text/plain": [
       "          0         1         2         3\n",
       "7 -0.824523  0.030982 -0.722319 -1.956097\n",
       "8 -0.783209 -0.007770 -1.448444  0.096195\n",
       "9  0.219334  0.592452  0.325764  1.380099"
      ]
     },
     "execution_count": 70,
     "metadata": {},
     "output_type": "execute_result"
    }
   ],
   "source": [
    "pieces_of_df = [df[0:3], df[3:7], df[7:]]\n",
    "pieces_of_df[2]"
   ]
  },
  {
   "cell_type": "code",
   "execution_count": 72,
   "metadata": {
    "ExecuteTime": {
     "end_time": "2024-09-03T02:29:46.706278Z",
     "start_time": "2024-09-03T02:29:46.698230Z"
    }
   },
   "outputs": [
    {
     "data": {
      "text/html": [
       "<div>\n",
       "<style scoped>\n",
       "    .dataframe tbody tr th:only-of-type {\n",
       "        vertical-align: middle;\n",
       "    }\n",
       "\n",
       "    .dataframe tbody tr th {\n",
       "        vertical-align: top;\n",
       "    }\n",
       "\n",
       "    .dataframe thead th {\n",
       "        text-align: right;\n",
       "    }\n",
       "</style>\n",
       "<table border=\"1\" class=\"dataframe\">\n",
       "  <thead>\n",
       "    <tr style=\"text-align: right;\">\n",
       "      <th></th>\n",
       "      <th>0</th>\n",
       "      <th>1</th>\n",
       "      <th>2</th>\n",
       "      <th>3</th>\n",
       "    </tr>\n",
       "  </thead>\n",
       "  <tbody>\n",
       "    <tr>\n",
       "      <th>0</th>\n",
       "      <td>1.079119</td>\n",
       "      <td>-0.537979</td>\n",
       "      <td>-0.715049</td>\n",
       "      <td>0.022618</td>\n",
       "    </tr>\n",
       "    <tr>\n",
       "      <th>1</th>\n",
       "      <td>0.632062</td>\n",
       "      <td>-0.293481</td>\n",
       "      <td>-0.857122</td>\n",
       "      <td>-0.745263</td>\n",
       "    </tr>\n",
       "    <tr>\n",
       "      <th>2</th>\n",
       "      <td>-0.565136</td>\n",
       "      <td>0.497303</td>\n",
       "      <td>-1.096636</td>\n",
       "      <td>-0.906743</td>\n",
       "    </tr>\n",
       "    <tr>\n",
       "      <th>3</th>\n",
       "      <td>-2.130732</td>\n",
       "      <td>0.172987</td>\n",
       "      <td>-0.640421</td>\n",
       "      <td>-0.052834</td>\n",
       "    </tr>\n",
       "    <tr>\n",
       "      <th>4</th>\n",
       "      <td>-1.007365</td>\n",
       "      <td>-0.222299</td>\n",
       "      <td>-0.363658</td>\n",
       "      <td>0.532442</td>\n",
       "    </tr>\n",
       "    <tr>\n",
       "      <th>5</th>\n",
       "      <td>0.340340</td>\n",
       "      <td>-1.422992</td>\n",
       "      <td>-0.519446</td>\n",
       "      <td>0.150673</td>\n",
       "    </tr>\n",
       "    <tr>\n",
       "      <th>6</th>\n",
       "      <td>0.104469</td>\n",
       "      <td>2.188523</td>\n",
       "      <td>-0.076218</td>\n",
       "      <td>-0.180521</td>\n",
       "    </tr>\n",
       "    <tr>\n",
       "      <th>7</th>\n",
       "      <td>-0.824523</td>\n",
       "      <td>0.030982</td>\n",
       "      <td>-0.722319</td>\n",
       "      <td>-1.956097</td>\n",
       "    </tr>\n",
       "    <tr>\n",
       "      <th>8</th>\n",
       "      <td>-0.783209</td>\n",
       "      <td>-0.007770</td>\n",
       "      <td>-1.448444</td>\n",
       "      <td>0.096195</td>\n",
       "    </tr>\n",
       "    <tr>\n",
       "      <th>9</th>\n",
       "      <td>0.219334</td>\n",
       "      <td>0.592452</td>\n",
       "      <td>0.325764</td>\n",
       "      <td>1.380099</td>\n",
       "    </tr>\n",
       "  </tbody>\n",
       "</table>\n",
       "</div>"
      ],
      "text/plain": [
       "          0         1         2         3\n",
       "0  1.079119 -0.537979 -0.715049  0.022618\n",
       "1  0.632062 -0.293481 -0.857122 -0.745263\n",
       "2 -0.565136  0.497303 -1.096636 -0.906743\n",
       "3 -2.130732  0.172987 -0.640421 -0.052834\n",
       "4 -1.007365 -0.222299 -0.363658  0.532442\n",
       "5  0.340340 -1.422992 -0.519446  0.150673\n",
       "6  0.104469  2.188523 -0.076218 -0.180521\n",
       "7 -0.824523  0.030982 -0.722319 -1.956097\n",
       "8 -0.783209 -0.007770 -1.448444  0.096195\n",
       "9  0.219334  0.592452  0.325764  1.380099"
      ]
     },
     "execution_count": 72,
     "metadata": {},
     "output_type": "execute_result"
    }
   ],
   "source": [
    "pd.concat(pieces_of_df)"
   ]
  },
  {
   "cell_type": "markdown",
   "metadata": {},
   "source": [
    "merge() enables SQL style join types along specific columns"
   ]
  },
  {
   "cell_type": "code",
   "execution_count": 73,
   "metadata": {
    "ExecuteTime": {
     "end_time": "2024-09-03T02:29:49.022307Z",
     "start_time": "2024-09-03T02:29:49.019489Z"
    }
   },
   "outputs": [],
   "source": [
    "left = pd.DataFrame({\"key\": [\"foo\", \"foo\"], \"lval\": [1, 2]})"
   ]
  },
  {
   "cell_type": "code",
   "execution_count": 74,
   "metadata": {
    "ExecuteTime": {
     "end_time": "2024-09-03T02:29:49.622144Z",
     "start_time": "2024-09-03T02:29:49.619125Z"
    }
   },
   "outputs": [],
   "source": [
    "right = pd.DataFrame({\"key\": [\"foo\", \"foo\"], \"rval\": [4, 5]})"
   ]
  },
  {
   "cell_type": "code",
   "execution_count": 75,
   "metadata": {
    "ExecuteTime": {
     "end_time": "2024-09-03T02:29:50.034661Z",
     "start_time": "2024-09-03T02:29:50.026514Z"
    }
   },
   "outputs": [
    {
     "data": {
      "text/html": [
       "<div>\n",
       "<style scoped>\n",
       "    .dataframe tbody tr th:only-of-type {\n",
       "        vertical-align: middle;\n",
       "    }\n",
       "\n",
       "    .dataframe tbody tr th {\n",
       "        vertical-align: top;\n",
       "    }\n",
       "\n",
       "    .dataframe thead th {\n",
       "        text-align: right;\n",
       "    }\n",
       "</style>\n",
       "<table border=\"1\" class=\"dataframe\">\n",
       "  <thead>\n",
       "    <tr style=\"text-align: right;\">\n",
       "      <th></th>\n",
       "      <th>key</th>\n",
       "      <th>lval</th>\n",
       "      <th>rval</th>\n",
       "    </tr>\n",
       "  </thead>\n",
       "  <tbody>\n",
       "    <tr>\n",
       "      <th>0</th>\n",
       "      <td>foo</td>\n",
       "      <td>1</td>\n",
       "      <td>4</td>\n",
       "    </tr>\n",
       "    <tr>\n",
       "      <th>1</th>\n",
       "      <td>foo</td>\n",
       "      <td>1</td>\n",
       "      <td>5</td>\n",
       "    </tr>\n",
       "    <tr>\n",
       "      <th>2</th>\n",
       "      <td>foo</td>\n",
       "      <td>2</td>\n",
       "      <td>4</td>\n",
       "    </tr>\n",
       "    <tr>\n",
       "      <th>3</th>\n",
       "      <td>foo</td>\n",
       "      <td>2</td>\n",
       "      <td>5</td>\n",
       "    </tr>\n",
       "  </tbody>\n",
       "</table>\n",
       "</div>"
      ],
      "text/plain": [
       "   key  lval  rval\n",
       "0  foo     1     4\n",
       "1  foo     1     5\n",
       "2  foo     2     4\n",
       "3  foo     2     5"
      ]
     },
     "execution_count": 75,
     "metadata": {},
     "output_type": "execute_result"
    }
   ],
   "source": [
    "pd.merge(left, right, on=\"key\")"
   ]
  },
  {
   "cell_type": "code",
   "execution_count": null,
   "metadata": {},
   "outputs": [],
   "source": []
  }
 ],
 "metadata": {
  "kernelspec": {
   "display_name": "wb1",
   "language": "python",
   "name": "wb1"
  },
  "language_info": {
   "codemirror_mode": {
    "name": "ipython",
    "version": 3
   },
   "file_extension": ".py",
   "mimetype": "text/x-python",
   "name": "python",
   "nbconvert_exporter": "python",
   "pygments_lexer": "ipython3",
   "version": "3.9.0"
  },
  "toc": {
   "base_numbering": 1,
   "nav_menu": {},
   "number_sections": true,
   "sideBar": true,
   "skip_h1_title": false,
   "title_cell": "Table of Contents",
   "title_sidebar": "Contents",
   "toc_cell": true,
   "toc_position": {
    "height": "calc(100% - 180px)",
    "left": "10px",
    "top": "150px",
    "width": "165px"
   },
   "toc_section_display": true,
   "toc_window_display": true
  }
 },
 "nbformat": 4,
 "nbformat_minor": 4
}
